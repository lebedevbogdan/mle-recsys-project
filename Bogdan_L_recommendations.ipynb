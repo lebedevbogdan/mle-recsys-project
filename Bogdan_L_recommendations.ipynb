{
 "cells": [
  {
   "cell_type": "markdown",
   "id": "d421c933",
   "metadata": {},
   "source": [
    "Привет, меня зовут Артем Носенко и я буду проверять твой проект.\n",
    "<br>Небольшая вступительная часть и начнем работу)\n",
    "<br> Если не против, то предлагаю общаться на «ты». Если это не удобно - дай знать, и мы перейдем на \"вы\". Моя основная цель — не указать на совершенные ошибки, а поделиться своим опытом и помочь сделать твой проект лучше. Для этого я буду использовать разный стиль оформления комментариев.\n",
    "<div class=\"alert alert-block alert-success\">\n",
    "✔️ Все хорошо.\n",
    "</div>\n",
    "\n",
    "<div class=\"alert alert-warning\">\n",
    "⚠️ Критических замечаний нет, но есть возможность сделать твою работу лучше.\n",
    "</div>\n",
    "\n",
    "<div class=\"alert alert-block alert-danger\">\n",
    "❌ Если требуются исправления. Работа не может быть принята с красными комментариями.\n",
    "</div>\n",
    "\n",
    "\n",
    "Давай работать над проектом в диалоге: если ты что-то меняешь в проекте по моим рекомендациям — пиши об этом.\n",
    "Будет очень хорошо, если ты будешь помечать свои действия следующим образом:\n",
    "<div class=\"alert alert-block alert-info\">\n",
    "<b>Комментарий студента:</b> ...\n",
    "</div>\n",
    "Пожалуйста, не перемещай, не изменяй и не удаляй мои комментарии. Всё это поможет выполнить повторную проверку твоего проекта оперативнее».\n"
   ]
  },
  {
   "cell_type": "markdown",
   "id": "e8556c9f",
   "metadata": {},
   "source": [
    "<b>Комментарий от ревьюера v1</b>\n",
    "\n",
    "<div class=\"alert alert-block alert-success\">\n",
    "Приношу свои извинения за долгую проверку твоего проекта. Это было связано с техническими проблемами на платформе проверки. \n",
    "Очень надеюсь, что такое больше не повторится.\n",
    "</div>"
   ]
  },
  {
   "cell_type": "markdown",
   "id": "f4095ae4-7294-4b28-853e-88d235002c97",
   "metadata": {},
   "source": [
    "# Инициализация"
   ]
  },
  {
   "cell_type": "markdown",
   "id": "2f2318d2-9df8-4911-915e-15b725c44f8a",
   "metadata": {},
   "source": [
    "Загружаем библиотеки необходимые для выполнения кода ноутбука."
   ]
  },
  {
   "cell_type": "code",
   "execution_count": 1,
   "id": "662d04e7-1b0b-4e4a-9ddf-4526d7fef119",
   "metadata": {},
   "outputs": [],
   "source": [
    "import pandas as pd\n",
    "import matplotlib.pyplot as plt\n",
    "import sklearn.preprocessing\n",
    "import scipy\n",
    "import numpy as np"
   ]
  },
  {
   "cell_type": "markdown",
   "id": "bf80fbc5-b660-4fac-8fbb-a5cae77313b3",
   "metadata": {},
   "source": [
    "# === ЭТАП 1 ==="
   ]
  },
  {
   "cell_type": "markdown",
   "id": "5263a8b3-fe99-4204-8a2e-105182792c11",
   "metadata": {},
   "source": [
    "# Загрузка первичных данных"
   ]
  },
  {
   "cell_type": "markdown",
   "id": "1b54a6a5-1656-4e3c-99d1-49dc39451d33",
   "metadata": {},
   "source": [
    "Загружаем первичные данные из файлов:\n",
    "- tracks.parquet\n",
    "- catalog_names.parquet\n",
    "- interactions.parquet"
   ]
  },
  {
   "cell_type": "code",
   "execution_count": 3,
   "id": "5d4b8961-3f35-4e58-9d6b-3e2dbd2c4224",
   "metadata": {},
   "outputs": [],
   "source": [
    "tracks = pd.read_parquet(\"tracks.parquet\")\n",
    "catalog_names = pd.read_parquet(\"catalog_names.parquet\")\n",
    "interactions = pd.read_parquet(\"interactions.parquet\")"
   ]
  },
  {
   "cell_type": "code",
   "execution_count": 4,
   "id": "70f7bdfe-175c-45c1-a2e9-d99f0f33be2e",
   "metadata": {},
   "outputs": [
    {
     "data": {
      "text/html": [
       "<div>\n",
       "<style scoped>\n",
       "    .dataframe tbody tr th:only-of-type {\n",
       "        vertical-align: middle;\n",
       "    }\n",
       "\n",
       "    .dataframe tbody tr th {\n",
       "        vertical-align: top;\n",
       "    }\n",
       "\n",
       "    .dataframe thead th {\n",
       "        text-align: right;\n",
       "    }\n",
       "</style>\n",
       "<table border=\"1\" class=\"dataframe\">\n",
       "  <thead>\n",
       "    <tr style=\"text-align: right;\">\n",
       "      <th></th>\n",
       "      <th>id</th>\n",
       "      <th>type</th>\n",
       "      <th>name</th>\n",
       "    </tr>\n",
       "  </thead>\n",
       "  <tbody>\n",
       "    <tr>\n",
       "      <th>0</th>\n",
       "      <td>3</td>\n",
       "      <td>album</td>\n",
       "      <td>Taller Children</td>\n",
       "    </tr>\n",
       "    <tr>\n",
       "      <th>1</th>\n",
       "      <td>12</td>\n",
       "      <td>album</td>\n",
       "      <td>Wild Young Hearts</td>\n",
       "    </tr>\n",
       "    <tr>\n",
       "      <th>2</th>\n",
       "      <td>13</td>\n",
       "      <td>album</td>\n",
       "      <td>Lonesome Crow</td>\n",
       "    </tr>\n",
       "    <tr>\n",
       "      <th>3</th>\n",
       "      <td>17</td>\n",
       "      <td>album</td>\n",
       "      <td>Graffiti Soul</td>\n",
       "    </tr>\n",
       "    <tr>\n",
       "      <th>4</th>\n",
       "      <td>26</td>\n",
       "      <td>album</td>\n",
       "      <td>Blues Six Pack</td>\n",
       "    </tr>\n",
       "    <tr>\n",
       "      <th>...</th>\n",
       "      <td>...</td>\n",
       "      <td>...</td>\n",
       "      <td>...</td>\n",
       "    </tr>\n",
       "    <tr>\n",
       "      <th>1812466</th>\n",
       "      <td>101478482</td>\n",
       "      <td>track</td>\n",
       "      <td>На лицо</td>\n",
       "    </tr>\n",
       "    <tr>\n",
       "      <th>1812467</th>\n",
       "      <td>101490148</td>\n",
       "      <td>track</td>\n",
       "      <td>Без капли мысли</td>\n",
       "    </tr>\n",
       "    <tr>\n",
       "      <th>1812468</th>\n",
       "      <td>101493057</td>\n",
       "      <td>track</td>\n",
       "      <td>SKITTLES</td>\n",
       "    </tr>\n",
       "    <tr>\n",
       "      <th>1812469</th>\n",
       "      <td>101495927</td>\n",
       "      <td>track</td>\n",
       "      <td>Москва</td>\n",
       "    </tr>\n",
       "    <tr>\n",
       "      <th>1812470</th>\n",
       "      <td>101521819</td>\n",
       "      <td>track</td>\n",
       "      <td>Вокзал</td>\n",
       "    </tr>\n",
       "  </tbody>\n",
       "</table>\n",
       "<p>1812471 rows × 3 columns</p>\n",
       "</div>"
      ],
      "text/plain": [
       "                id   type               name\n",
       "0                3  album    Taller Children\n",
       "1               12  album  Wild Young Hearts\n",
       "2               13  album      Lonesome Crow\n",
       "3               17  album      Graffiti Soul\n",
       "4               26  album     Blues Six Pack\n",
       "...            ...    ...                ...\n",
       "1812466  101478482  track            На лицо\n",
       "1812467  101490148  track    Без капли мысли\n",
       "1812468  101493057  track           SKITTLES\n",
       "1812469  101495927  track             Москва\n",
       "1812470  101521819  track             Вокзал\n",
       "\n",
       "[1812471 rows x 3 columns]"
      ]
     },
     "execution_count": 4,
     "metadata": {},
     "output_type": "execute_result"
    }
   ],
   "source": [
    "catalog_names.dropna()"
   ]
  },
  {
   "cell_type": "markdown",
   "id": "e8f2a1f7-a05f-4f39-af90-5f4018aa6f9d",
   "metadata": {},
   "source": [
    "# Обзор данных"
   ]
  },
  {
   "cell_type": "markdown",
   "id": "46a85307-896c-4fac-9fcf-f0dffa90889e",
   "metadata": {},
   "source": [
    "Проверяем данные, есть ли с ними явные проблемы."
   ]
  },
  {
   "cell_type": "code",
   "execution_count": 5,
   "id": "c9f8f17e-9b56-4f5a-a463-f694a993effb",
   "metadata": {},
   "outputs": [
    {
     "data": {
      "text/html": [
       "<div>\n",
       "<style scoped>\n",
       "    .dataframe tbody tr th:only-of-type {\n",
       "        vertical-align: middle;\n",
       "    }\n",
       "\n",
       "    .dataframe tbody tr th {\n",
       "        vertical-align: top;\n",
       "    }\n",
       "\n",
       "    .dataframe thead th {\n",
       "        text-align: right;\n",
       "    }\n",
       "</style>\n",
       "<table border=\"1\" class=\"dataframe\">\n",
       "  <thead>\n",
       "    <tr style=\"text-align: right;\">\n",
       "      <th></th>\n",
       "      <th>track_id</th>\n",
       "      <th>albums</th>\n",
       "      <th>artists</th>\n",
       "      <th>genres</th>\n",
       "    </tr>\n",
       "  </thead>\n",
       "  <tbody>\n",
       "    <tr>\n",
       "      <th>0</th>\n",
       "      <td>26</td>\n",
       "      <td>[3, 2490753]</td>\n",
       "      <td>[16]</td>\n",
       "      <td>[11, 21]</td>\n",
       "    </tr>\n",
       "    <tr>\n",
       "      <th>1</th>\n",
       "      <td>38</td>\n",
       "      <td>[3, 2490753]</td>\n",
       "      <td>[16]</td>\n",
       "      <td>[11, 21]</td>\n",
       "    </tr>\n",
       "    <tr>\n",
       "      <th>2</th>\n",
       "      <td>135</td>\n",
       "      <td>[12, 214, 2490809]</td>\n",
       "      <td>[84]</td>\n",
       "      <td>[11]</td>\n",
       "    </tr>\n",
       "    <tr>\n",
       "      <th>3</th>\n",
       "      <td>136</td>\n",
       "      <td>[12, 214, 2490809]</td>\n",
       "      <td>[84]</td>\n",
       "      <td>[11]</td>\n",
       "    </tr>\n",
       "    <tr>\n",
       "      <th>4</th>\n",
       "      <td>138</td>\n",
       "      <td>[12, 214, 322, 72275, 72292, 91199, 213505, 24...</td>\n",
       "      <td>[84]</td>\n",
       "      <td>[11]</td>\n",
       "    </tr>\n",
       "  </tbody>\n",
       "</table>\n",
       "</div>"
      ],
      "text/plain": [
       "   track_id                                             albums artists  \\\n",
       "0        26                                       [3, 2490753]    [16]   \n",
       "1        38                                       [3, 2490753]    [16]   \n",
       "2       135                                 [12, 214, 2490809]    [84]   \n",
       "3       136                                 [12, 214, 2490809]    [84]   \n",
       "4       138  [12, 214, 322, 72275, 72292, 91199, 213505, 24...    [84]   \n",
       "\n",
       "     genres  \n",
       "0  [11, 21]  \n",
       "1  [11, 21]  \n",
       "2      [11]  \n",
       "3      [11]  \n",
       "4      [11]  "
      ]
     },
     "execution_count": 5,
     "metadata": {},
     "output_type": "execute_result"
    }
   ],
   "source": [
    "tracks.head()"
   ]
  },
  {
   "cell_type": "code",
   "execution_count": 6,
   "id": "ba338ca5",
   "metadata": {},
   "outputs": [],
   "source": [
    "# Развернем данные (раскроем списки артистов, альбомов, жанров)\n",
    "tracks_exploded = tracks.explode('albums').explode('artists').explode('genres')"
   ]
  },
  {
   "cell_type": "code",
   "execution_count": 7,
   "id": "791b4a27",
   "metadata": {},
   "outputs": [
    {
     "data": {
      "text/plain": [
       "track_id        0\n",
       "albums         18\n",
       "artists     41789\n",
       "genres      36675\n",
       "dtype: int64"
      ]
     },
     "execution_count": 7,
     "metadata": {},
     "output_type": "execute_result"
    }
   ],
   "source": [
    "# в данных есть строки, в которыз не указан альбом, артист или жанр\n",
    "tracks_exploded.isna().sum()"
   ]
  },
  {
   "cell_type": "code",
   "execution_count": 8,
   "id": "6e938f64",
   "metadata": {},
   "outputs": [],
   "source": [
    "# Создание маски для строк, содержащих null значения в любом столбце\n",
    "mask = tracks_exploded.isnull().any(axis=1)\n",
    "\n",
    "# Получение значений столбца 'track_id' для таких строк\n",
    "track_ids_with_nulls = set(list(tracks_exploded.loc[mask, 'track_id']))"
   ]
  },
  {
   "cell_type": "code",
   "execution_count": 9,
   "id": "efd2e2eb-3bec-4ce1-87ac-232bab8bc0d0",
   "metadata": {},
   "outputs": [
    {
     "data": {
      "text/plain": [
       "set()"
      ]
     },
     "execution_count": 9,
     "metadata": {},
     "output_type": "execute_result"
    }
   ],
   "source": [
    "# нет таких альбомов, о которых нет информации в каталоге\n",
    "set(tracks_exploded['albums'].dropna()) - set(catalog_names[catalog_names['type']=='album']['id'])"
   ]
  },
  {
   "cell_type": "code",
   "execution_count": 10,
   "id": "0477b090",
   "metadata": {},
   "outputs": [
    {
     "data": {
      "text/plain": [
       "set()"
      ]
     },
     "execution_count": 10,
     "metadata": {},
     "output_type": "execute_result"
    }
   ],
   "source": [
    "# в каталоге только те альбомы, которые есть в tracks\n",
    "set(catalog_names[catalog_names['type']=='album']['id']) - set(tracks_exploded['albums'].dropna())"
   ]
  },
  {
   "cell_type": "code",
   "execution_count": 11,
   "id": "1ac0da7a",
   "metadata": {},
   "outputs": [
    {
     "data": {
      "text/plain": [
       "set()"
      ]
     },
     "execution_count": 11,
     "metadata": {},
     "output_type": "execute_result"
    }
   ],
   "source": [
    "# нет таких артистов, о которых нет информации в каталоге\n",
    "set(tracks_exploded['artists'].dropna()) - set(catalog_names[catalog_names['type']=='artist']['id'])"
   ]
  },
  {
   "cell_type": "code",
   "execution_count": 12,
   "id": "546ab1a0",
   "metadata": {},
   "outputs": [
    {
     "data": {
      "text/plain": [
       "set()"
      ]
     },
     "execution_count": 12,
     "metadata": {},
     "output_type": "execute_result"
    }
   ],
   "source": [
    "# в каталоге только те артисты, которые есть в tracks\n",
    "set(catalog_names[catalog_names['type']=='artist']['id']) - set(tracks_exploded['artists'].dropna())"
   ]
  },
  {
   "cell_type": "code",
   "execution_count": 13,
   "id": "8fc6bd62",
   "metadata": {},
   "outputs": [
    {
     "data": {
      "text/plain": [
       "30"
      ]
     },
     "execution_count": 13,
     "metadata": {},
     "output_type": "execute_result"
    }
   ],
   "source": [
    "# есть 30 жанров, которые встречаются в tracks, но отсутсвуют в каталоге\n",
    "genres_exclude = list(set(tracks_exploded.dropna()['genres']) - set(catalog_names[catalog_names['type']=='genre']['id']))\n",
    "len(genres_exclude)"
   ]
  },
  {
   "cell_type": "markdown",
   "id": "4a80c2e3",
   "metadata": {},
   "source": [
    "<b>Комментарий от ревьюера v1</b>\n",
    "\n",
    "<div class=\"alert alert-warning\">\n",
    "⚠️ Стоило вывести на печать эти жанры. Насколько много таких треков?"
   ]
  },
  {
   "cell_type": "code",
   "execution_count": 14,
   "id": "ea877dac",
   "metadata": {},
   "outputs": [],
   "source": [
    "track_ids_with_no_genres = set(list(tracks_exploded[tracks_exploded['genres'].isin(genres_exclude)]['track_id']))"
   ]
  },
  {
   "cell_type": "code",
   "execution_count": 15,
   "id": "d754cb03",
   "metadata": {},
   "outputs": [
    {
     "data": {
      "text/plain": [
       "23"
      ]
     },
     "execution_count": 15,
     "metadata": {},
     "output_type": "execute_result"
    }
   ],
   "source": [
    "# есть 23 жанра, которые есть в каталоге, но отсутствуют в tracks\n",
    "len(list(set(catalog_names[catalog_names['type']=='genre']['id']) - set(tracks_exploded['genres'].dropna())))"
   ]
  },
  {
   "cell_type": "code",
   "execution_count": 16,
   "id": "35094766",
   "metadata": {},
   "outputs": [
    {
     "data": {
      "text/html": [
       "<div>\n",
       "<style scoped>\n",
       "    .dataframe tbody tr th:only-of-type {\n",
       "        vertical-align: middle;\n",
       "    }\n",
       "\n",
       "    .dataframe tbody tr th {\n",
       "        vertical-align: top;\n",
       "    }\n",
       "\n",
       "    .dataframe thead th {\n",
       "        text-align: right;\n",
       "    }\n",
       "</style>\n",
       "<table border=\"1\" class=\"dataframe\">\n",
       "  <thead>\n",
       "    <tr style=\"text-align: right;\">\n",
       "      <th></th>\n",
       "      <th>track_id</th>\n",
       "      <th>albums</th>\n",
       "      <th>artists</th>\n",
       "      <th>genres</th>\n",
       "    </tr>\n",
       "  </thead>\n",
       "  <tbody>\n",
       "    <tr>\n",
       "      <th>0</th>\n",
       "      <td>26</td>\n",
       "      <td>[3, 2490753]</td>\n",
       "      <td>[16]</td>\n",
       "      <td>[11, 21]</td>\n",
       "    </tr>\n",
       "    <tr>\n",
       "      <th>1</th>\n",
       "      <td>38</td>\n",
       "      <td>[3, 2490753]</td>\n",
       "      <td>[16]</td>\n",
       "      <td>[11, 21]</td>\n",
       "    </tr>\n",
       "    <tr>\n",
       "      <th>2</th>\n",
       "      <td>135</td>\n",
       "      <td>[12, 214, 2490809]</td>\n",
       "      <td>[84]</td>\n",
       "      <td>[11]</td>\n",
       "    </tr>\n",
       "    <tr>\n",
       "      <th>3</th>\n",
       "      <td>136</td>\n",
       "      <td>[12, 214, 2490809]</td>\n",
       "      <td>[84]</td>\n",
       "      <td>[11]</td>\n",
       "    </tr>\n",
       "    <tr>\n",
       "      <th>4</th>\n",
       "      <td>138</td>\n",
       "      <td>[12, 214, 322, 72275, 72292, 91199, 213505, 24...</td>\n",
       "      <td>[84]</td>\n",
       "      <td>[11]</td>\n",
       "    </tr>\n",
       "    <tr>\n",
       "      <th>...</th>\n",
       "      <td>...</td>\n",
       "      <td>...</td>\n",
       "      <td>...</td>\n",
       "      <td>...</td>\n",
       "    </tr>\n",
       "    <tr>\n",
       "      <th>999995</th>\n",
       "      <td>101478482</td>\n",
       "      <td>[21399811]</td>\n",
       "      <td>[5540395]</td>\n",
       "      <td>[3, 75]</td>\n",
       "    </tr>\n",
       "    <tr>\n",
       "      <th>999996</th>\n",
       "      <td>101490148</td>\n",
       "      <td>[21403052]</td>\n",
       "      <td>[9078726]</td>\n",
       "      <td>[11, 20]</td>\n",
       "    </tr>\n",
       "    <tr>\n",
       "      <th>999997</th>\n",
       "      <td>101493057</td>\n",
       "      <td>[21403883]</td>\n",
       "      <td>[11865715]</td>\n",
       "      <td>[44, 75]</td>\n",
       "    </tr>\n",
       "    <tr>\n",
       "      <th>999998</th>\n",
       "      <td>101495927</td>\n",
       "      <td>[21404975]</td>\n",
       "      <td>[4462686]</td>\n",
       "      <td>[3, 75]</td>\n",
       "    </tr>\n",
       "    <tr>\n",
       "      <th>999999</th>\n",
       "      <td>101521819</td>\n",
       "      <td>[21414638]</td>\n",
       "      <td>[5056591]</td>\n",
       "      <td>[3, 75]</td>\n",
       "    </tr>\n",
       "  </tbody>\n",
       "</table>\n",
       "<p>932664 rows × 4 columns</p>\n",
       "</div>"
      ],
      "text/plain": [
       "         track_id                                             albums  \\\n",
       "0              26                                       [3, 2490753]   \n",
       "1              38                                       [3, 2490753]   \n",
       "2             135                                 [12, 214, 2490809]   \n",
       "3             136                                 [12, 214, 2490809]   \n",
       "4             138  [12, 214, 322, 72275, 72292, 91199, 213505, 24...   \n",
       "...           ...                                                ...   \n",
       "999995  101478482                                         [21399811]   \n",
       "999996  101490148                                         [21403052]   \n",
       "999997  101493057                                         [21403883]   \n",
       "999998  101495927                                         [21404975]   \n",
       "999999  101521819                                         [21414638]   \n",
       "\n",
       "           artists    genres  \n",
       "0             [16]  [11, 21]  \n",
       "1             [16]  [11, 21]  \n",
       "2             [84]      [11]  \n",
       "3             [84]      [11]  \n",
       "4             [84]      [11]  \n",
       "...            ...       ...  \n",
       "999995   [5540395]   [3, 75]  \n",
       "999996   [9078726]  [11, 20]  \n",
       "999997  [11865715]  [44, 75]  \n",
       "999998   [4462686]   [3, 75]  \n",
       "999999   [5056591]   [3, 75]  \n",
       "\n",
       "[932664 rows x 4 columns]"
      ]
     },
     "execution_count": 16,
     "metadata": {},
     "output_type": "execute_result"
    }
   ],
   "source": [
    "# исключим треки с пропусками в информации\n",
    "items = tracks[~tracks['track_id'].isin(track_ids_with_no_genres | track_ids_with_nulls)]\n",
    "items"
   ]
  },
  {
   "cell_type": "markdown",
   "id": "318b573a-9e2d-4808-95db-60cfb8bbdb73",
   "metadata": {
    "editable": true,
    "slideshow": {
     "slide_type": ""
    },
    "tags": []
   },
   "source": [
    "# Выводы"
   ]
  },
  {
   "cell_type": "markdown",
   "id": "d22e7870",
   "metadata": {},
   "source": [
    "В данных о некоторых треках отсутсвует информация об альбомах, артистах, жанрах.\n",
    "\n",
    "Некоторые жанры, представленные в информации о треках, отсутсвуют в каталоге жанров\n",
    "\n",
    "В датафрейме items были исключены треки, в которых отсутсвует информация об альбомах, артистах, жанрах, а также треки, жанры которых не представлены в каталоге"
   ]
  },
  {
   "cell_type": "markdown",
   "id": "93546f03",
   "metadata": {},
   "source": [
    "\n",
    "<b>Комментарий от ревьюера v1</b>\n",
    "\n",
    "<div class=\"alert alert-block alert-success\">\n",
    "✔️ Основные выводы сделаны! Отлично!\n",
    "</div>"
   ]
  },
  {
   "cell_type": "markdown",
   "id": "7bc3296b-eba6-4333-a78d-b9304aa87e3d",
   "metadata": {},
   "source": [
    "# === ЭТАП 2 ==="
   ]
  },
  {
   "cell_type": "markdown",
   "id": "68e73960-fd38-4e15-8db0-9a25c35dfd25",
   "metadata": {},
   "source": [
    "# EDA"
   ]
  },
  {
   "cell_type": "markdown",
   "id": "a30e823e-8e0f-4a76-a02e-8d1ba8bf0f8a",
   "metadata": {},
   "source": [
    "Распределение количества прослушанных треков."
   ]
  },
  {
   "cell_type": "code",
   "execution_count": 17,
   "id": "9bf5eaba-35f7-4da7-be59-9ab4a34b2423",
   "metadata": {},
   "outputs": [
    {
     "data": {
      "image/png": "[encoded data removed]",
      "text/plain": [
       "<Figure size 2000x300 with 1 Axes>"
      ]
     },
     "metadata": {},
     "output_type": "display_data"
    }
   ],
   "source": [
    "interaction_counts = interactions.groupby('started_at').size()\n",
    "\n",
    "# Построение графика\n",
    "plt.figure(figsize=(20, 3))\n",
    "interaction_counts.plot(kind='line')\n",
    "plt.title('Количество взаимодействий по датам')\n",
    "plt.xlabel('Дата')\n",
    "plt.ylabel('Количество взаимодействий')\n",
    "plt.grid(True)\n",
    "plt.show()"
   ]
  },
  {
   "cell_type": "markdown",
   "id": "d765519a-18dd-4d30-9e29-cc2d84cacd79",
   "metadata": {},
   "source": [
    "Наиболее популярные треки"
   ]
  },
  {
   "cell_type": "code",
   "execution_count": 19,
   "id": "aecaf630-fde0-4860-b84a-42c933a9606e",
   "metadata": {},
   "outputs": [
    {
     "data": {
      "text/plain": [
       "track_id\n",
       "53404       111062\n",
       "33311009    106921\n",
       "178529      101924\n",
       "35505245     99490\n",
       "65851540     86670\n",
       "24692821     86246\n",
       "32947997     85886\n",
       "51241318     85244\n",
       "795836       85042\n",
       "45499814     84748\n",
       "60292250     84471\n",
       "6705392      82483\n",
       "39257277     81978\n",
       "29544272     81057\n",
       "37384        80153\n",
       "51516485     78370\n",
       "2758009      78181\n",
       "47627256     76052\n",
       "328683       75686\n",
       "57921154     74733\n",
       "Name: count, dtype: int64"
      ]
     },
     "execution_count": 19,
     "metadata": {},
     "output_type": "execute_result"
    }
   ],
   "source": [
    "# топ-20 треков по кол-ву пользователей\n",
    "interactions['track_id'].value_counts().head(20)"
   ]
  },
  {
   "cell_type": "markdown",
   "id": "1b15c865",
   "metadata": {},
   "source": [
    "<b>Комментарий от ревьюера v1</b>\n",
    "\n",
    "<div class=\"alert alert-block alert-success\">\n",
    "✔️ Отлично, распределение взаимодействий построено!\n",
    "</div>\n",
    "\n",
    "<div class=\"alert alert-warning\">\n",
    "⚠️ Возможно стоило добавить график распределения количества взаимодействий с треками. На нем можно было увидеть \"длинный\" хвост треков с малым количеством взаимодействий.\n",
    "\n",
    "</div>"
   ]
  },
  {
   "cell_type": "markdown",
   "id": "b1c32a5a-d3be-4f96-8dd9-f7860951020c",
   "metadata": {},
   "source": [
    "Наиболее популярные жанры"
   ]
  },
  {
   "cell_type": "code",
   "execution_count": 20,
   "id": "1bc50491-9235-4d3c-a6c2-297f7c05a959",
   "metadata": {},
   "outputs": [
    {
     "data": {
      "text/plain": [
       "genre_name\n",
       "pop            166109\n",
       "rap            128206\n",
       "allrock        118461\n",
       "electronics    106478\n",
       "rusrap          65958\n",
       "foreignrap      59772\n",
       "rock            55148\n",
       "dance           51595\n",
       "ruspop          46706\n",
       "alternative     42894\n",
       "Name: count, dtype: int64"
      ]
     },
     "execution_count": 20,
     "metadata": {},
     "output_type": "execute_result"
    }
   ],
   "source": [
    "# топ-10 жанров в каталоге\n",
    "items.explode('genres').merge(\n",
    "    catalog_names[catalog_names['type']=='genre'], how='left', left_on='genres', right_on='id').rename(\n",
    "        columns={\"name\":\"genre_name\"}).drop(columns=['id','type'])['genre_name'].value_counts().head(10)"
   ]
  },
  {
   "cell_type": "code",
   "execution_count": 23,
   "id": "88ae0ed3",
   "metadata": {},
   "outputs": [
    {
     "data": {
      "text/plain": [
       "genre_name\n",
       "pop            55551134\n",
       "rap            37799684\n",
       "allrock        31085569\n",
       "ruspop         26626234\n",
       "rusrap         25303695\n",
       "electronics    18376062\n",
       "dance          16267222\n",
       "rusrock        13166147\n",
       "rock           12769694\n",
       "foreignrap     12194520\n",
       "Name: count, dtype: int64"
      ]
     },
     "execution_count": 23,
     "metadata": {},
     "output_type": "execute_result"
    }
   ],
   "source": [
    "# топ-10 жанров по взаимодействиям\n",
    "interactions.merge(items.explode('genres').merge(\n",
    "    catalog_names[catalog_names['type']=='genre'], how='left', left_on='genres', right_on='id').rename(\n",
    "        columns={\"name\":\"genre_name\"}).drop(columns=['id','type'])[['track_id', 'genre_name']], on = 'track_id')['genre_name'].value_counts().head(10)"
   ]
  },
  {
   "cell_type": "markdown",
   "id": "15ec01de",
   "metadata": {},
   "source": [
    "<b>Комментарий от ревьюера v1</b>\n",
    "\n",
    "<div class=\"alert alert-block alert-success\">\n",
    "✔️ Отлично, у нас теперь есть распределение жанров по количеству взаимодействий!\n",
    "</div>"
   ]
  },
  {
   "cell_type": "markdown",
   "id": "15254e66-e80e-473b-ba24-abebea5ccac7",
   "metadata": {},
   "source": [
    "Треки, которые никто не прослушал"
   ]
  },
  {
   "cell_type": "code",
   "execution_count": 24,
   "id": "50bc50c6-2d83-4c7e-97fa-3e7627978438",
   "metadata": {},
   "outputs": [
    {
     "name": "stdout",
     "output_type": "stream",
     "text": [
      "Кол-во непрослушанных треков: 0\n"
     ]
    }
   ],
   "source": [
    "tracks_not_listened = list(set(items['track_id']) - set(interactions['track_id']))\n",
    "# len_tracks_not_listened = len(tracks_not_listened)\n",
    "print(f\"Кол-во непрослушанных треков: {len(tracks_not_listened)}\")"
   ]
  },
  {
   "cell_type": "code",
   "execution_count": 27,
   "id": "19fea04d",
   "metadata": {},
   "outputs": [
    {
     "name": "stdout",
     "output_type": "stream",
     "text": [
      "Кол-во отсутсвующих треков: 67336\n"
     ]
    }
   ],
   "source": [
    "tracks_not_listed = list(set(interactions['track_id']) - set(items['track_id']))\n",
    "print(f\"Кол-во отсутсвующих треков: {len(tracks_not_listed)}\")"
   ]
  },
  {
   "cell_type": "code",
   "execution_count": 28,
   "id": "9c686181",
   "metadata": {},
   "outputs": [],
   "source": [
    "events = interactions[~interactions['track_id'].isin(tracks_not_listed)]"
   ]
  },
  {
   "cell_type": "markdown",
   "id": "be8c525b",
   "metadata": {},
   "source": [
    "<b>Комментарий от ревьюера v1</b>\n",
    "\n",
    "<div class=\"alert alert-block alert-success\">\n",
    "✔️ Ок, такие треки удаляем. Видимо теперь мы их не сможем рекомендовать?\n",
    "</div>"
   ]
  },
  {
   "cell_type": "markdown",
   "id": "0d850a07-ef1e-462f-891a-1cf89f2e24ef",
   "metadata": {},
   "source": [
    "# Преобразование данных"
   ]
  },
  {
   "cell_type": "markdown",
   "id": "fabcf8d2-1192-4df5-b20b-fbb84689f57a",
   "metadata": {},
   "source": [
    "Преобразуем данные в формат, более пригодный для дальнейшего использования в расчётах рекомендаций."
   ]
  },
  {
   "cell_type": "code",
   "execution_count": 4,
   "id": "a425556a-9382-45ca-a04e-f1981a522126",
   "metadata": {},
   "outputs": [
    {
     "data": {
      "text/html": [
       "<div>\n",
       "<style scoped>\n",
       "    .dataframe tbody tr th:only-of-type {\n",
       "        vertical-align: middle;\n",
       "    }\n",
       "\n",
       "    .dataframe tbody tr th {\n",
       "        vertical-align: top;\n",
       "    }\n",
       "\n",
       "    .dataframe thead th {\n",
       "        text-align: right;\n",
       "    }\n",
       "</style>\n",
       "<table border=\"1\" class=\"dataframe\">\n",
       "  <thead>\n",
       "    <tr style=\"text-align: right;\">\n",
       "      <th></th>\n",
       "      <th>track_id</th>\n",
       "      <th>albums</th>\n",
       "      <th>artists</th>\n",
       "      <th>genres</th>\n",
       "      <th>item_id</th>\n",
       "    </tr>\n",
       "  </thead>\n",
       "  <tbody>\n",
       "    <tr>\n",
       "      <th>0</th>\n",
       "      <td>26</td>\n",
       "      <td>[3, 2490753]</td>\n",
       "      <td>[16]</td>\n",
       "      <td>[11, 21]</td>\n",
       "      <td>0</td>\n",
       "    </tr>\n",
       "    <tr>\n",
       "      <th>1</th>\n",
       "      <td>38</td>\n",
       "      <td>[3, 2490753]</td>\n",
       "      <td>[16]</td>\n",
       "      <td>[11, 21]</td>\n",
       "      <td>1</td>\n",
       "    </tr>\n",
       "    <tr>\n",
       "      <th>2</th>\n",
       "      <td>135</td>\n",
       "      <td>[12, 214, 2490809]</td>\n",
       "      <td>[84]</td>\n",
       "      <td>[11]</td>\n",
       "      <td>2</td>\n",
       "    </tr>\n",
       "  </tbody>\n",
       "</table>\n",
       "</div>"
      ],
      "text/plain": [
       "   track_id              albums artists    genres  item_id\n",
       "0        26        [3, 2490753]    [16]  [11, 21]        0\n",
       "1        38        [3, 2490753]    [16]  [11, 21]        1\n",
       "2       135  [12, 214, 2490809]    [84]      [11]        2"
      ]
     },
     "execution_count": 4,
     "metadata": {},
     "output_type": "execute_result"
    }
   ],
   "source": [
    "item_encoder = sklearn.preprocessing.LabelEncoder()\n",
    "item_encoder.fit(items[\"track_id\"])\n",
    "items[\"item_id\"] = item_encoder.transform(items[\"track_id\"])\n",
    "items.head(3)"
   ]
  },
  {
   "cell_type": "code",
   "execution_count": 5,
   "id": "756a66da",
   "metadata": {},
   "outputs": [
    {
     "data": {
      "text/html": [
       "<div>\n",
       "<style scoped>\n",
       "    .dataframe tbody tr th:only-of-type {\n",
       "        vertical-align: middle;\n",
       "    }\n",
       "\n",
       "    .dataframe tbody tr th {\n",
       "        vertical-align: top;\n",
       "    }\n",
       "\n",
       "    .dataframe thead th {\n",
       "        text-align: right;\n",
       "    }\n",
       "</style>\n",
       "<table border=\"1\" class=\"dataframe\">\n",
       "  <thead>\n",
       "    <tr style=\"text-align: right;\">\n",
       "      <th></th>\n",
       "      <th>user_id</th>\n",
       "      <th>track_id</th>\n",
       "      <th>track_seq</th>\n",
       "      <th>started_at</th>\n",
       "      <th>item_id</th>\n",
       "      <th>user_id_enc</th>\n",
       "    </tr>\n",
       "  </thead>\n",
       "  <tbody>\n",
       "    <tr>\n",
       "      <th>0</th>\n",
       "      <td>0</td>\n",
       "      <td>99262</td>\n",
       "      <td>1</td>\n",
       "      <td>2022-07-17</td>\n",
       "      <td>14842</td>\n",
       "      <td>0</td>\n",
       "    </tr>\n",
       "    <tr>\n",
       "      <th>1</th>\n",
       "      <td>0</td>\n",
       "      <td>589498</td>\n",
       "      <td>2</td>\n",
       "      <td>2022-07-19</td>\n",
       "      <td>55479</td>\n",
       "      <td>0</td>\n",
       "    </tr>\n",
       "    <tr>\n",
       "      <th>2</th>\n",
       "      <td>0</td>\n",
       "      <td>590262</td>\n",
       "      <td>3</td>\n",
       "      <td>2022-07-21</td>\n",
       "      <td>55952</td>\n",
       "      <td>0</td>\n",
       "    </tr>\n",
       "  </tbody>\n",
       "</table>\n",
       "</div>"
      ],
      "text/plain": [
       "   user_id  track_id  track_seq started_at  item_id  user_id_enc\n",
       "0        0     99262          1 2022-07-17    14842            0\n",
       "1        0    589498          2 2022-07-19    55479            0\n",
       "2        0    590262          3 2022-07-21    55952            0"
      ]
     },
     "execution_count": 5,
     "metadata": {},
     "output_type": "execute_result"
    }
   ],
   "source": [
    "events[\"item_id\"] = item_encoder.transform(events[\"track_id\"])\n",
    "events.head(3)"
   ]
  },
  {
   "cell_type": "code",
   "execution_count": 6,
   "id": "0d66a48b",
   "metadata": {},
   "outputs": [
    {
     "data": {
      "text/html": [
       "<div>\n",
       "<style scoped>\n",
       "    .dataframe tbody tr th:only-of-type {\n",
       "        vertical-align: middle;\n",
       "    }\n",
       "\n",
       "    .dataframe tbody tr th {\n",
       "        vertical-align: top;\n",
       "    }\n",
       "\n",
       "    .dataframe thead th {\n",
       "        text-align: right;\n",
       "    }\n",
       "</style>\n",
       "<table border=\"1\" class=\"dataframe\">\n",
       "  <thead>\n",
       "    <tr style=\"text-align: right;\">\n",
       "      <th></th>\n",
       "      <th>user_id</th>\n",
       "      <th>track_id</th>\n",
       "      <th>track_seq</th>\n",
       "      <th>started_at</th>\n",
       "      <th>item_id</th>\n",
       "      <th>user_id_enc</th>\n",
       "    </tr>\n",
       "  </thead>\n",
       "  <tbody>\n",
       "    <tr>\n",
       "      <th>0</th>\n",
       "      <td>0</td>\n",
       "      <td>99262</td>\n",
       "      <td>1</td>\n",
       "      <td>2022-07-17</td>\n",
       "      <td>14842</td>\n",
       "      <td>0</td>\n",
       "    </tr>\n",
       "    <tr>\n",
       "      <th>1</th>\n",
       "      <td>0</td>\n",
       "      <td>589498</td>\n",
       "      <td>2</td>\n",
       "      <td>2022-07-19</td>\n",
       "      <td>55479</td>\n",
       "      <td>0</td>\n",
       "    </tr>\n",
       "    <tr>\n",
       "      <th>2</th>\n",
       "      <td>0</td>\n",
       "      <td>590262</td>\n",
       "      <td>3</td>\n",
       "      <td>2022-07-21</td>\n",
       "      <td>55952</td>\n",
       "      <td>0</td>\n",
       "    </tr>\n",
       "  </tbody>\n",
       "</table>\n",
       "</div>"
      ],
      "text/plain": [
       "   user_id  track_id  track_seq started_at  item_id  user_id_enc\n",
       "0        0     99262          1 2022-07-17    14842            0\n",
       "1        0    589498          2 2022-07-19    55479            0\n",
       "2        0    590262          3 2022-07-21    55952            0"
      ]
     },
     "execution_count": 6,
     "metadata": {},
     "output_type": "execute_result"
    }
   ],
   "source": [
    "user_encoder = sklearn.preprocessing.LabelEncoder()\n",
    "user_encoder.fit(events[\"user_id\"])\n",
    "events[\"user_id_enc\"] = user_encoder.transform(events[\"user_id\"])\n",
    "events.head(3)"
   ]
  },
  {
   "cell_type": "markdown",
   "id": "4d1be653-eed8-4fa0-a9c5-3811b080d71d",
   "metadata": {},
   "source": [
    "# Сохранение данных"
   ]
  },
  {
   "cell_type": "markdown",
   "id": "36f1314a-3af3-4faf-a0b1-3045173d1500",
   "metadata": {},
   "source": [
    "Сохраним данные в двух файлах в персональном S3-бакете по пути `recsys/data/`:\n",
    "- `items.parquet` — все данные о музыкальных треках,\n",
    "- `events.parquet` — все данные о взаимодействиях."
   ]
  },
  {
   "cell_type": "code",
   "execution_count": 37,
   "id": "9f77af17-7705-4fae-9aad-db579b39faad",
   "metadata": {},
   "outputs": [],
   "source": [
    "items.to_parquet(\"items.parquet\")\n",
    "events.to_parquet(\"events.parquet\")"
   ]
  },
  {
   "cell_type": "markdown",
   "id": "e9432736",
   "metadata": {},
   "source": [
    "<b>Комментарий от ревьюера v1</b>\n",
    "\n",
    "<div class=\"alert alert-block alert-success\">\n",
    "✔️ Отлично, данные сохранены!\n",
    "</div>"
   ]
  },
  {
   "cell_type": "code",
   "execution_count": 17,
   "id": "b882c4ef",
   "metadata": {},
   "outputs": [],
   "source": [
    "# Загрузка в S3\n",
    "import boto3\n",
    "import os\n",
    "from dotenv import load_dotenv\n",
    "\n",
    "load_dotenv()\n",
    "\n",
    "session = boto3.session.Session()\n",
    "\n",
    "bucket_name = os.getenv(\"S3_BUCKET_NAME\")\n",
    "\n",
    "ENDPOINT = \"https://storage.yandexcloud.net\"\n",
    "\n",
    "session = boto3.Session(\n",
    "    aws_access_key_id=(os.getenv(\"AWS_ACCESS_KEY_ID\")),\n",
    "    aws_secret_access_key=(os.getenv(\"AWS_SECRET_ACCESS_KEY\")),\n",
    "    region_name=\"ru-central1\",\n",
    ")\n",
    "\n",
    "s3 = session.client(\n",
    "    \"s3\", endpoint_url=ENDPOINT)"
   ]
  },
  {
   "cell_type": "code",
   "execution_count": 44,
   "id": "80320327",
   "metadata": {},
   "outputs": [],
   "source": [
    "s3.upload_file('items.parquet', bucket_name, 'recsys/data/items.parquet')"
   ]
  },
  {
   "cell_type": "code",
   "execution_count": 46,
   "id": "4132dc85",
   "metadata": {},
   "outputs": [],
   "source": [
    "s3.upload_file('events.parquet', bucket_name, 'recsys/data/events.parquet')"
   ]
  },
  {
   "cell_type": "markdown",
   "id": "72ecbbed-c560-44d9-9c14-86c7dc76f399",
   "metadata": {},
   "source": [
    "# Очистка памяти"
   ]
  },
  {
   "cell_type": "markdown",
   "id": "b5358ede-ba6e-4c4f-bd73-5b9344f0ba79",
   "metadata": {},
   "source": [
    "Здесь, может понадобится очистка памяти для высвобождения ресурсов для выполнения кода ниже. \n",
    "\n",
    "Приведите соответствующие код, комментарии, например:\n",
    "- код для удаление более ненужных переменных,\n",
    "- комментарий, что следует перезапустить kernel, выполнить такие-то начальные секции и продолжить с этапа 3."
   ]
  },
  {
   "cell_type": "code",
   "execution_count": 48,
   "id": "767fe920-e12e-4ad8-b04e-56e8091fac9f",
   "metadata": {},
   "outputs": [],
   "source": [
    "del tracks\n",
    "del interactions"
   ]
  },
  {
   "cell_type": "markdown",
   "id": "708503df-ee89-4cf3-8489-093dc478e2a8",
   "metadata": {},
   "source": [
    "# === ЭТАП 3 ==="
   ]
  },
  {
   "cell_type": "markdown",
   "id": "fd77de22-e10f-4b42-85c1-8fb6f805fe68",
   "metadata": {},
   "source": [
    "# Загрузка данных"
   ]
  },
  {
   "cell_type": "markdown",
   "id": "780a4241-1ecd-4a3e-bbb3-fc2f6ca94f68",
   "metadata": {},
   "source": [
    "Если необходимо, то загружаем items.parquet, events.parquet."
   ]
  },
  {
   "cell_type": "code",
   "execution_count": 2,
   "id": "191de022",
   "metadata": {},
   "outputs": [],
   "source": [
    "items = pd.read_parquet(\"items.parquet\")\n",
    "events = pd.read_parquet(\"events.parquet\")"
   ]
  },
  {
   "cell_type": "markdown",
   "id": "a694c023-6477-490b-939d-1cfa6f5f1b72",
   "metadata": {},
   "source": [
    "# Разбиение данных"
   ]
  },
  {
   "cell_type": "markdown",
   "id": "fbd5f6e0-54e7-4428-8678-eabce505d82c",
   "metadata": {},
   "source": [
    "Разбиваем данные на тренировочную, тестовую выборки."
   ]
  },
  {
   "cell_type": "code",
   "execution_count": 3,
   "id": "00c2dfa5-d8a2-47d1-922e-6eefee2c62d1",
   "metadata": {},
   "outputs": [],
   "source": [
    "# зададим точку разбиения train-test\n",
    "train_test_global_time_split_date = pd.to_datetime(\"2022-12-16\")\n",
    "\n",
    "train_test_global_time_split_idx = events[\"started_at\"] < train_test_global_time_split_date\n",
    "events_train = events[train_test_global_time_split_idx]\n",
    "events_test = events[~train_test_global_time_split_idx]"
   ]
  },
  {
   "cell_type": "code",
   "execution_count": 4,
   "id": "348efa8d",
   "metadata": {},
   "outputs": [
    {
     "name": "stdout",
     "output_type": "stream",
     "text": [
      "1341269 778789 748016\n"
     ]
    }
   ],
   "source": [
    "# количество пользователей в train и test\n",
    "users_train = events_train[\"user_id\"].drop_duplicates()\n",
    "users_test = events_test[\"user_id\"].drop_duplicates()\n",
    "# количество пользователей, которые есть и в train, и в test\n",
    "common_users = list(set(users_train) & set(users_test))\n",
    "\n",
    "print(len(users_train), len(users_test), len(common_users))"
   ]
  },
  {
   "cell_type": "code",
   "execution_count": 9,
   "id": "26fe3e3c-8c5f-4437-bf13-9191adef08bb",
   "metadata": {},
   "outputs": [
    {
     "name": "stdout",
     "output_type": "stream",
     "text": [
      "30773\n"
     ]
    }
   ],
   "source": [
    "cold_users = set(users_test) - set(users_train)\n",
    "\n",
    "print(len(cold_users))"
   ]
  },
  {
   "cell_type": "markdown",
   "id": "3582e334",
   "metadata": {},
   "source": [
    "<b>Комментарий от ревьюера v1</b>\n",
    "\n",
    "<div class=\"alert alert-block alert-success\">\n",
    "✔️ Отлично, выборки train / test сформированы. \n",
    "\n",
    "Выборки train / test можно получать несколькими способами (см. картинку ниже)\n",
    "</div>"
   ]
  },
  {
   "attachments": {
    "image.png": {
     "image/png": "[encoded data removed]"
    }
   },
   "cell_type": "markdown",
   "id": "1b86681c",
   "metadata": {},
   "source": [
    "![image.png](attachment:image.png)"
   ]
  },
  {
   "cell_type": "markdown",
   "id": "9131c7e6-8852-4556-b510-51f7253cc299",
   "metadata": {},
   "source": [
    "# Топ популярных"
   ]
  },
  {
   "cell_type": "markdown",
   "id": "dd70d43a-88cc-4719-b291-feaed7136f30",
   "metadata": {},
   "source": [
    "Рассчитаем рекомендации как топ популярных."
   ]
  },
  {
   "cell_type": "code",
   "execution_count": 4,
   "id": "ee45e200-b7d6-4f56-9077-aad431689b96",
   "metadata": {},
   "outputs": [],
   "source": [
    "top_popular = events_train.groupby(['track_id', 'item_id']).agg(score=('user_id','nunique')).sort_values(by='score', ascending=False).reset_index().head(100)"
   ]
  },
  {
   "cell_type": "code",
   "execution_count": 5,
   "id": "8372f3cc",
   "metadata": {},
   "outputs": [],
   "source": [
    "top_popular.to_parquet(\"top_popular.parquet\") "
   ]
  },
  {
   "cell_type": "code",
   "execution_count": 19,
   "id": "1ab144c5",
   "metadata": {},
   "outputs": [],
   "source": [
    "# Не удалось загрузить, так как закончилась выделенная память\n",
    "s3.upload_file('top_popular.parquet', bucket_name, 'recsys/recommendations/top_popular.parquet')"
   ]
  },
  {
   "cell_type": "code",
   "execution_count": 89,
   "id": "7690c86f-7aa9-46ed-bba5-2c837626411e",
   "metadata": {},
   "outputs": [],
   "source": [
    "# top_popular.merge(catalog_names[catalog_names['type']=='track'], left_on = 'track_id', right_on = 'id')[['track_id', 'item_id', 'name', 'users']]"
   ]
  },
  {
   "cell_type": "markdown",
   "id": "f27989ba",
   "metadata": {},
   "source": [
    "<b>Комментарий от ревьюера v1</b>\n",
    "\n",
    "\n",
    "<div class=\"alert alert-warning\">\n",
    "⚠️ Жалко, что не получилось посчитать метрики для рекомендации популярных item\n",
    "\n",
    "</div>"
   ]
  },
  {
   "cell_type": "markdown",
   "id": "2ad231f2-6158-421a-b7fa-01d8bc3ed572",
   "metadata": {},
   "source": [
    "# Персональные"
   ]
  },
  {
   "cell_type": "markdown",
   "id": "86159460-cd9d-4b63-8248-604ea3c9aebf",
   "metadata": {},
   "source": [
    "Рассчитаем персональные рекомендации."
   ]
  },
  {
   "cell_type": "code",
   "execution_count": 6,
   "id": "1e8cdb58-3a8c-45ad-8e5f-7f950314aa56",
   "metadata": {},
   "outputs": [
    {
     "name": "stderr",
     "output_type": "stream",
     "text": [
      "/var/folders/_9/njpbnqcd29b4jbb06jpr0wgr0000gn/T/ipykernel_73073/3868804734.py:1: SettingWithCopyWarning: \n",
      "A value is trying to be set on a copy of a slice from a DataFrame.\n",
      "Try using .loc[row_indexer,col_indexer] = value instead\n",
      "\n",
      "See the caveats in the documentation: https://pandas.pydata.org/pandas-docs/stable/user_guide/indexing.html#returning-a-view-versus-a-copy\n",
      "  events_train['rating'] = 1 / np.log(events_train['track_seq']+1)\n",
      "/var/folders/_9/njpbnqcd29b4jbb06jpr0wgr0000gn/T/ipykernel_73073/3868804734.py:2: SettingWithCopyWarning: \n",
      "A value is trying to be set on a copy of a slice from a DataFrame.\n",
      "Try using .loc[row_indexer,col_indexer] = value instead\n",
      "\n",
      "See the caveats in the documentation: https://pandas.pydata.org/pandas-docs/stable/user_guide/indexing.html#returning-a-view-versus-a-copy\n",
      "  events_test['rating'] = 1 / np.log(events_test['track_seq']+1)\n"
     ]
    }
   ],
   "source": [
    "# Исходя из имеющихся данных будем считать, что оценка треков, которые слушает пользователь как только заходит в сервис - выше\n",
    "# Гипотеза заключается в том, что когда пользователь заходит на новый сервис, он в первую очередб слушает любимые треки.\n",
    "events_train['rating'] = 1 / np.log(events_train['track_seq']+1)\n",
    "events_test['rating'] = 1 / np.log(events_test['track_seq']+1)"
   ]
  },
  {
   "cell_type": "code",
   "execution_count": 157,
   "id": "3d605dc8",
   "metadata": {},
   "outputs": [],
   "source": [
    "# создаём sparse-матрицу формата CSR \n",
    "user_item_matrix_train = scipy.sparse.csr_matrix((\n",
    "    events_train[\"rating\"],\n",
    "    (events_train['user_id_enc'], events_train['item_id'])),\n",
    "    dtype=np.int8) "
   ]
  },
  {
   "cell_type": "code",
   "execution_count": 159,
   "id": "e325df95",
   "metadata": {},
   "outputs": [
    {
     "data": {
      "text/plain": [
       "<Compressed Sparse Row sparse matrix of dtype 'int8'\n",
       "\twith 201204460 stored elements and shape (1372042, 932664)>"
      ]
     },
     "execution_count": 159,
     "metadata": {},
     "output_type": "execute_result"
    }
   ],
   "source": [
    "user_item_matrix_train"
   ]
  },
  {
   "cell_type": "code",
   "execution_count": 162,
   "id": "5cb0375a",
   "metadata": {},
   "outputs": [
    {
     "name": "stderr",
     "output_type": "stream",
     "text": [
      "100%|██████████| 10/10 [08:24<00:00, 50.48s/it]\n"
     ]
    }
   ],
   "source": [
    "from implicit.als import AlternatingLeastSquares\n",
    "\n",
    "als_model = AlternatingLeastSquares(factors=50, iterations=10, regularization=0.05, random_state=0)\n",
    "als_model.fit(user_item_matrix_train)"
   ]
  },
  {
   "cell_type": "code",
   "execution_count": 164,
   "id": "a75d07ee-4b12-4ce5-aa85-e45cb7a7a4f0",
   "metadata": {},
   "outputs": [],
   "source": [
    "# получаем список всех возможных user_id (перекодированных)\n",
    "user_ids_encoded = range(len(user_encoder.classes_))\n",
    "\n",
    "# получаем рекомендации для всех пользователей\n",
    "als_recommendations = als_model.recommend(\n",
    "    user_ids_encoded, \n",
    "    user_item_matrix_train[user_ids_encoded], \n",
    "    filter_already_liked_items=True, N=100)"
   ]
  },
  {
   "cell_type": "code",
   "execution_count": 166,
   "id": "9d2ee424",
   "metadata": {},
   "outputs": [],
   "source": [
    "# преобразуем полученные рекомендации в табличный формат\n",
    "item_ids_enc = als_recommendations[0]\n",
    "als_scores = als_recommendations[1]\n",
    "\n",
    "als_recommendations = pd.DataFrame({\n",
    "    \"user_id_enc\": user_ids_encoded,\n",
    "    \"item_id_enc\": item_ids_enc.tolist(), \n",
    "    \"score\": als_scores.tolist()})\n",
    "als_recommendations = als_recommendations.explode([\"item_id_enc\", \"score\"], ignore_index=True)\n",
    "\n",
    "# приводим типы данных\n",
    "als_recommendations[\"item_id_enc\"] = als_recommendations[\"item_id_enc\"].astype(\"int\")\n",
    "als_recommendations[\"score\"] = als_recommendations[\"score\"].astype(\"float\")\n",
    "\n",
    "# получаем изначальные идентификаторы\n",
    "als_recommendations[\"user_id\"] = user_encoder.inverse_transform(als_recommendations[\"user_id_enc\"])\n",
    "als_recommendations[\"item_id\"] = item_encoder.inverse_transform(als_recommendations[\"item_id_enc\"])\n",
    "als_recommendations = als_recommendations.drop(columns=[\"user_id_enc\", \"item_id_enc\"])"
   ]
  },
  {
   "cell_type": "code",
   "execution_count": 172,
   "id": "cb128c6d",
   "metadata": {},
   "outputs": [],
   "source": [
    "als_recommendations = als_recommendations[[\"user_id\", \"item_id\", \"score\"]].rename(columns={'item_id':'track_id'})\n",
    "als_recommendations.to_parquet(\"als_recommendations.parquet\") "
   ]
  },
  {
   "cell_type": "code",
   "execution_count": 229,
   "id": "3d6c6b0a",
   "metadata": {},
   "outputs": [],
   "source": [
    "s3.upload_file('als_recommendations.parquet', bucket_name, 'recsys/recommendations/personal_als.parquet')"
   ]
  },
  {
   "cell_type": "code",
   "execution_count": 7,
   "id": "5cb34fc9",
   "metadata": {},
   "outputs": [],
   "source": [
    "als_recommendations = pd.read_parquet(\"als_recommendations.parquet\")"
   ]
  },
  {
   "cell_type": "markdown",
   "id": "1fca2de6",
   "metadata": {},
   "source": [
    "<b>Комментарий от ревьюера v1</b>\n",
    "\n",
    "<div class=\"alert alert-block alert-success\">\n",
    "✔️ Отлично, рекомендации получены!\n",
    "</div>"
   ]
  },
  {
   "cell_type": "markdown",
   "id": "0ec3aa57",
   "metadata": {},
   "source": [
    "# Похожие"
   ]
  },
  {
   "cell_type": "code",
   "execution_count": 12,
   "id": "2f070a01",
   "metadata": {},
   "outputs": [],
   "source": [
    "item_ids_encoded = range(len(item_encoder.classes_))"
   ]
  },
  {
   "cell_type": "code",
   "execution_count": 212,
   "id": "1e585f75",
   "metadata": {},
   "outputs": [],
   "source": [
    "# получаем рекомендации для всех пользователей\n",
    "als_i2i_recommendations = als_model.similar_items(\n",
    "    item_ids_encoded, N=100)"
   ]
  },
  {
   "cell_type": "code",
   "execution_count": 223,
   "id": "141e5cb1",
   "metadata": {},
   "outputs": [
    {
     "data": {
      "text/html": [
       "<div>\n",
       "<style scoped>\n",
       "    .dataframe tbody tr th:only-of-type {\n",
       "        vertical-align: middle;\n",
       "    }\n",
       "\n",
       "    .dataframe tbody tr th {\n",
       "        vertical-align: top;\n",
       "    }\n",
       "\n",
       "    .dataframe thead th {\n",
       "        text-align: right;\n",
       "    }\n",
       "</style>\n",
       "<table border=\"1\" class=\"dataframe\">\n",
       "  <thead>\n",
       "    <tr style=\"text-align: right;\">\n",
       "      <th></th>\n",
       "      <th>item_ids_encoded</th>\n",
       "      <th>item_ids_recommended</th>\n",
       "      <th>score</th>\n",
       "    </tr>\n",
       "  </thead>\n",
       "  <tbody>\n",
       "    <tr>\n",
       "      <th>0</th>\n",
       "      <td>0</td>\n",
       "      <td>0</td>\n",
       "      <td>1.0</td>\n",
       "    </tr>\n",
       "    <tr>\n",
       "      <th>1</th>\n",
       "      <td>0</td>\n",
       "      <td>274</td>\n",
       "      <td>0.609551</td>\n",
       "    </tr>\n",
       "    <tr>\n",
       "      <th>2</th>\n",
       "      <td>0</td>\n",
       "      <td>317</td>\n",
       "      <td>0.580747</td>\n",
       "    </tr>\n",
       "    <tr>\n",
       "      <th>3</th>\n",
       "      <td>0</td>\n",
       "      <td>459</td>\n",
       "      <td>0.571333</td>\n",
       "    </tr>\n",
       "    <tr>\n",
       "      <th>4</th>\n",
       "      <td>0</td>\n",
       "      <td>1918</td>\n",
       "      <td>0.54488</td>\n",
       "    </tr>\n",
       "    <tr>\n",
       "      <th>...</th>\n",
       "      <td>...</td>\n",
       "      <td>...</td>\n",
       "      <td>...</td>\n",
       "    </tr>\n",
       "    <tr>\n",
       "      <th>93266395</th>\n",
       "      <td>932663</td>\n",
       "      <td>806064</td>\n",
       "      <td>0.946117</td>\n",
       "    </tr>\n",
       "    <tr>\n",
       "      <th>93266396</th>\n",
       "      <td>932663</td>\n",
       "      <td>81944</td>\n",
       "      <td>0.946054</td>\n",
       "    </tr>\n",
       "    <tr>\n",
       "      <th>93266397</th>\n",
       "      <td>932663</td>\n",
       "      <td>781594</td>\n",
       "      <td>0.945983</td>\n",
       "    </tr>\n",
       "    <tr>\n",
       "      <th>93266398</th>\n",
       "      <td>932663</td>\n",
       "      <td>539673</td>\n",
       "      <td>0.945929</td>\n",
       "    </tr>\n",
       "    <tr>\n",
       "      <th>93266399</th>\n",
       "      <td>932663</td>\n",
       "      <td>598371</td>\n",
       "      <td>0.945893</td>\n",
       "    </tr>\n",
       "  </tbody>\n",
       "</table>\n",
       "<p>93266400 rows × 3 columns</p>\n",
       "</div>"
      ],
      "text/plain": [
       "          item_ids_encoded item_ids_recommended     score\n",
       "0                        0                    0       1.0\n",
       "1                        0                  274  0.609551\n",
       "2                        0                  317  0.580747\n",
       "3                        0                  459  0.571333\n",
       "4                        0                 1918   0.54488\n",
       "...                    ...                  ...       ...\n",
       "93266395            932663               806064  0.946117\n",
       "93266396            932663                81944  0.946054\n",
       "93266397            932663               781594  0.945983\n",
       "93266398            932663               539673  0.945929\n",
       "93266399            932663               598371  0.945893\n",
       "\n",
       "[93266400 rows x 3 columns]"
      ]
     },
     "execution_count": 223,
     "metadata": {},
     "output_type": "execute_result"
    }
   ],
   "source": [
    "# преобразуем полученные рекомендации в табличный формат\n",
    "i2i_item_ids_enc = als_i2i_recommendations[0]\n",
    "i2i_als_scores = als_i2i_recommendations[1]\n",
    "\n",
    "als_i2i_recommendations_df = pd.DataFrame({\n",
    "    \"item_ids_encoded\": item_ids_encoded,\n",
    "    \"item_ids_recommended\": i2i_item_ids_enc.tolist(), \n",
    "    \"score\": i2i_als_scores.tolist()})\n",
    "als_i2i_recommendations_df = als_i2i_recommendations_df.explode([\"item_ids_recommended\", \"score\"], ignore_index=True)\n",
    "als_i2i_recommendations_df\n"
   ]
  },
  {
   "cell_type": "code",
   "execution_count": 227,
   "id": "6e4b842e",
   "metadata": {},
   "outputs": [],
   "source": [
    "als_i2i_recommendations_df.to_parquet(\"similar.parquet\") "
   ]
  },
  {
   "cell_type": "code",
   "execution_count": 228,
   "id": "edffc776",
   "metadata": {},
   "outputs": [],
   "source": [
    "s3.upload_file('similar.parquet', bucket_name, 'recsys/recommendations/similar.parquet')"
   ]
  },
  {
   "cell_type": "markdown",
   "id": "0087a3e7-ca9f-42cd-944c-944222c1baef",
   "metadata": {},
   "source": [
    "# Построение признаков"
   ]
  },
  {
   "cell_type": "code",
   "execution_count": 13,
   "id": "aa3b11dc",
   "metadata": {},
   "outputs": [],
   "source": [
    "# задаём точку разбиения\n",
    "split_date_for_labels = pd.to_datetime(\"2022-12-24\")\n",
    "\n",
    "split_date_for_labels_idx = events_test[\"started_at\"] < split_date_for_labels\n",
    "events_labels = events_test[split_date_for_labels_idx].copy()\n",
    "events_test_2 = events_test[~split_date_for_labels_idx].copy()"
   ]
  },
  {
   "cell_type": "code",
   "execution_count": 14,
   "id": "45ecded7",
   "metadata": {},
   "outputs": [],
   "source": [
    "candidates = als_recommendations.rename(columns={\"score\":\"als_score\"})"
   ]
  },
  {
   "cell_type": "code",
   "execution_count": 15,
   "id": "7c475086",
   "metadata": {},
   "outputs": [
    {
     "data": {
      "text/html": [
       "<div>\n",
       "<style scoped>\n",
       "    .dataframe tbody tr th:only-of-type {\n",
       "        vertical-align: middle;\n",
       "    }\n",
       "\n",
       "    .dataframe tbody tr th {\n",
       "        vertical-align: top;\n",
       "    }\n",
       "\n",
       "    .dataframe thead th {\n",
       "        text-align: right;\n",
       "    }\n",
       "</style>\n",
       "<table border=\"1\" class=\"dataframe\">\n",
       "  <thead>\n",
       "    <tr style=\"text-align: right;\">\n",
       "      <th></th>\n",
       "      <th>user_id</th>\n",
       "      <th>track_id</th>\n",
       "      <th>als_score</th>\n",
       "    </tr>\n",
       "  </thead>\n",
       "  <tbody>\n",
       "    <tr>\n",
       "      <th>0</th>\n",
       "      <td>0</td>\n",
       "      <td>582507</td>\n",
       "      <td>9.093512e-07</td>\n",
       "    </tr>\n",
       "    <tr>\n",
       "      <th>1</th>\n",
       "      <td>0</td>\n",
       "      <td>59069</td>\n",
       "      <td>3.059669e-07</td>\n",
       "    </tr>\n",
       "    <tr>\n",
       "      <th>2</th>\n",
       "      <td>0</td>\n",
       "      <td>1177</td>\n",
       "      <td>2.268010e-07</td>\n",
       "    </tr>\n",
       "    <tr>\n",
       "      <th>3</th>\n",
       "      <td>0</td>\n",
       "      <td>4185</td>\n",
       "      <td>1.269922e-07</td>\n",
       "    </tr>\n",
       "    <tr>\n",
       "      <th>4</th>\n",
       "      <td>0</td>\n",
       "      <td>1123</td>\n",
       "      <td>1.120656e-07</td>\n",
       "    </tr>\n",
       "    <tr>\n",
       "      <th>...</th>\n",
       "      <td>...</td>\n",
       "      <td>...</td>\n",
       "      <td>...</td>\n",
       "    </tr>\n",
       "    <tr>\n",
       "      <th>137204195</th>\n",
       "      <td>1374582</td>\n",
       "      <td>1158</td>\n",
       "      <td>3.457694e-05</td>\n",
       "    </tr>\n",
       "    <tr>\n",
       "      <th>137204196</th>\n",
       "      <td>1374582</td>\n",
       "      <td>14207</td>\n",
       "      <td>3.405629e-05</td>\n",
       "    </tr>\n",
       "    <tr>\n",
       "      <th>137204197</th>\n",
       "      <td>1374582</td>\n",
       "      <td>15676</td>\n",
       "      <td>3.389577e-05</td>\n",
       "    </tr>\n",
       "    <tr>\n",
       "      <th>137204198</th>\n",
       "      <td>1374582</td>\n",
       "      <td>4215</td>\n",
       "      <td>3.216044e-05</td>\n",
       "    </tr>\n",
       "    <tr>\n",
       "      <th>137204199</th>\n",
       "      <td>1374582</td>\n",
       "      <td>40433</td>\n",
       "      <td>3.134523e-05</td>\n",
       "    </tr>\n",
       "  </tbody>\n",
       "</table>\n",
       "<p>137204200 rows × 3 columns</p>\n",
       "</div>"
      ],
      "text/plain": [
       "           user_id  track_id     als_score\n",
       "0                0    582507  9.093512e-07\n",
       "1                0     59069  3.059669e-07\n",
       "2                0      1177  2.268010e-07\n",
       "3                0      4185  1.269922e-07\n",
       "4                0      1123  1.120656e-07\n",
       "...            ...       ...           ...\n",
       "137204195  1374582      1158  3.457694e-05\n",
       "137204196  1374582     14207  3.405629e-05\n",
       "137204197  1374582     15676  3.389577e-05\n",
       "137204198  1374582      4215  3.216044e-05\n",
       "137204199  1374582     40433  3.134523e-05\n",
       "\n",
       "[137204200 rows x 3 columns]"
      ]
     },
     "execution_count": 15,
     "metadata": {},
     "output_type": "execute_result"
    }
   ],
   "source": [
    "candidates"
   ]
  },
  {
   "cell_type": "code",
   "execution_count": 18,
   "id": "05b4ae84-406a-44a4-abec-4f80f93e3004",
   "metadata": {},
   "outputs": [],
   "source": [
    "events_labels[\"target\"] = 1\n",
    "candidates = candidates.merge(events_labels[[\"user_id\", \"track_id\", \"target\"]], \n",
    "                              on= [\"user_id\", \"track_id\"], how='left')\n",
    "candidates[\"target\"] = candidates[\"target\"].fillna(0).astype(\"int\")"
   ]
  },
  {
   "cell_type": "code",
   "execution_count": 22,
   "id": "00f84c35-f544-4c3d-ad53-9b1d2b684c75",
   "metadata": {},
   "outputs": [
    {
     "data": {
      "text/html": [
       "<div>\n",
       "<style scoped>\n",
       "    .dataframe tbody tr th:only-of-type {\n",
       "        vertical-align: middle;\n",
       "    }\n",
       "\n",
       "    .dataframe tbody tr th {\n",
       "        vertical-align: top;\n",
       "    }\n",
       "\n",
       "    .dataframe thead th {\n",
       "        text-align: right;\n",
       "    }\n",
       "</style>\n",
       "<table border=\"1\" class=\"dataframe\">\n",
       "  <thead>\n",
       "    <tr style=\"text-align: right;\">\n",
       "      <th></th>\n",
       "      <th>user_id</th>\n",
       "      <th>track_id</th>\n",
       "      <th>als_score</th>\n",
       "      <th>target</th>\n",
       "    </tr>\n",
       "  </thead>\n",
       "  <tbody>\n",
       "    <tr>\n",
       "      <th>30000</th>\n",
       "      <td>300</td>\n",
       "      <td>1628</td>\n",
       "      <td>2.967003e-07</td>\n",
       "      <td>0</td>\n",
       "    </tr>\n",
       "    <tr>\n",
       "      <th>30001</th>\n",
       "      <td>300</td>\n",
       "      <td>7435</td>\n",
       "      <td>2.272552e-07</td>\n",
       "      <td>0</td>\n",
       "    </tr>\n",
       "    <tr>\n",
       "      <th>30002</th>\n",
       "      <td>300</td>\n",
       "      <td>4185</td>\n",
       "      <td>1.996063e-07</td>\n",
       "      <td>0</td>\n",
       "    </tr>\n",
       "    <tr>\n",
       "      <th>30003</th>\n",
       "      <td>300</td>\n",
       "      <td>5570</td>\n",
       "      <td>1.217130e-07</td>\n",
       "      <td>0</td>\n",
       "    </tr>\n",
       "    <tr>\n",
       "      <th>30004</th>\n",
       "      <td>300</td>\n",
       "      <td>59069</td>\n",
       "      <td>1.074586e-07</td>\n",
       "      <td>0</td>\n",
       "    </tr>\n",
       "    <tr>\n",
       "      <th>...</th>\n",
       "      <td>...</td>\n",
       "      <td>...</td>\n",
       "      <td>...</td>\n",
       "      <td>...</td>\n",
       "    </tr>\n",
       "    <tr>\n",
       "      <th>137151795</th>\n",
       "      <td>1374057</td>\n",
       "      <td>979</td>\n",
       "      <td>1.123011e-05</td>\n",
       "      <td>0</td>\n",
       "    </tr>\n",
       "    <tr>\n",
       "      <th>137151796</th>\n",
       "      <td>1374057</td>\n",
       "      <td>7282</td>\n",
       "      <td>9.442289e-06</td>\n",
       "      <td>0</td>\n",
       "    </tr>\n",
       "    <tr>\n",
       "      <th>137151797</th>\n",
       "      <td>1374057</td>\n",
       "      <td>141</td>\n",
       "      <td>9.335310e-06</td>\n",
       "      <td>0</td>\n",
       "    </tr>\n",
       "    <tr>\n",
       "      <th>137151798</th>\n",
       "      <td>1374057</td>\n",
       "      <td>9572</td>\n",
       "      <td>9.067293e-06</td>\n",
       "      <td>0</td>\n",
       "    </tr>\n",
       "    <tr>\n",
       "      <th>137151799</th>\n",
       "      <td>1374057</td>\n",
       "      <td>18578</td>\n",
       "      <td>8.682994e-06</td>\n",
       "      <td>0</td>\n",
       "    </tr>\n",
       "  </tbody>\n",
       "</table>\n",
       "<p>321600 rows × 4 columns</p>\n",
       "</div>"
      ],
      "text/plain": [
       "           user_id  track_id     als_score  target\n",
       "30000          300      1628  2.967003e-07       0\n",
       "30001          300      7435  2.272552e-07       0\n",
       "30002          300      4185  1.996063e-07       0\n",
       "30003          300      5570  1.217130e-07       0\n",
       "30004          300     59069  1.074586e-07       0\n",
       "...            ...       ...           ...     ...\n",
       "137151795  1374057       979  1.123011e-05       0\n",
       "137151796  1374057      7282  9.442289e-06       0\n",
       "137151797  1374057       141  9.335310e-06       0\n",
       "137151798  1374057      9572  9.067293e-06       0\n",
       "137151799  1374057     18578  8.682994e-06       0\n",
       "\n",
       "[321600 rows x 4 columns]"
      ]
     },
     "execution_count": 22,
     "metadata": {},
     "output_type": "execute_result"
    }
   ],
   "source": [
    "# в кандидатах оставляем только тех пользователей, у которых есть хотя бы один положительный таргет\n",
    "candidates_to_sample = candidates.groupby(\"user_id\").filter(lambda x: x[\"target\"].sum() > 0)\n",
    "candidates_to_sample"
   ]
  },
  {
   "cell_type": "code",
   "execution_count": 32,
   "id": "fc49511e",
   "metadata": {},
   "outputs": [],
   "source": [
    "# для каждого пользователя оставляем только 4 негативных примера\n",
    "negatives_per_user = 4\n",
    "candidates_for_train = pd.concat([\n",
    "    candidates_to_sample.query(\"target == 1\"),\n",
    "    candidates_to_sample.query(\"target == 0\") \\\n",
    "        .groupby(\"user_id\") \\\n",
    "        .apply(lambda x: x.sample(negatives_per_user, random_state=0))\n",
    "    ]).reset_index(drop=True)"
   ]
  },
  {
   "cell_type": "code",
   "execution_count": 33,
   "id": "731dd1d9",
   "metadata": {},
   "outputs": [
    {
     "data": {
      "text/html": [
       "<div>\n",
       "<style scoped>\n",
       "    .dataframe tbody tr th:only-of-type {\n",
       "        vertical-align: middle;\n",
       "    }\n",
       "\n",
       "    .dataframe tbody tr th {\n",
       "        vertical-align: top;\n",
       "    }\n",
       "\n",
       "    .dataframe thead th {\n",
       "        text-align: right;\n",
       "    }\n",
       "</style>\n",
       "<table border=\"1\" class=\"dataframe\">\n",
       "  <thead>\n",
       "    <tr style=\"text-align: right;\">\n",
       "      <th></th>\n",
       "      <th>user_id</th>\n",
       "      <th>track_id</th>\n",
       "      <th>als_score</th>\n",
       "      <th>target</th>\n",
       "    </tr>\n",
       "  </thead>\n",
       "  <tbody>\n",
       "    <tr>\n",
       "      <th>0</th>\n",
       "      <td>300</td>\n",
       "      <td>560473</td>\n",
       "      <td>1.925466e-09</td>\n",
       "      <td>1</td>\n",
       "    </tr>\n",
       "    <tr>\n",
       "      <th>1</th>\n",
       "      <td>657</td>\n",
       "      <td>35505245</td>\n",
       "      <td>7.647262e-10</td>\n",
       "      <td>1</td>\n",
       "    </tr>\n",
       "    <tr>\n",
       "      <th>2</th>\n",
       "      <td>1300</td>\n",
       "      <td>29175370</td>\n",
       "      <td>1.196781e-11</td>\n",
       "      <td>1</td>\n",
       "    </tr>\n",
       "    <tr>\n",
       "      <th>3</th>\n",
       "      <td>1568</td>\n",
       "      <td>35505245</td>\n",
       "      <td>2.073397e-03</td>\n",
       "      <td>1</td>\n",
       "    </tr>\n",
       "    <tr>\n",
       "      <th>4</th>\n",
       "      <td>1603</td>\n",
       "      <td>29175370</td>\n",
       "      <td>4.451021e-09</td>\n",
       "      <td>1</td>\n",
       "    </tr>\n",
       "    <tr>\n",
       "      <th>...</th>\n",
       "      <td>...</td>\n",
       "      <td>...</td>\n",
       "      <td>...</td>\n",
       "      <td>...</td>\n",
       "    </tr>\n",
       "    <tr>\n",
       "      <th>16484</th>\n",
       "      <td>1373846</td>\n",
       "      <td>2019</td>\n",
       "      <td>6.820396e-07</td>\n",
       "      <td>0</td>\n",
       "    </tr>\n",
       "    <tr>\n",
       "      <th>16485</th>\n",
       "      <td>1374057</td>\n",
       "      <td>5991</td>\n",
       "      <td>1.321663e-03</td>\n",
       "      <td>0</td>\n",
       "    </tr>\n",
       "    <tr>\n",
       "      <th>16486</th>\n",
       "      <td>1374057</td>\n",
       "      <td>10366</td>\n",
       "      <td>2.425224e-05</td>\n",
       "      <td>0</td>\n",
       "    </tr>\n",
       "    <tr>\n",
       "      <th>16487</th>\n",
       "      <td>1374057</td>\n",
       "      <td>65765</td>\n",
       "      <td>1.202057e-02</td>\n",
       "      <td>0</td>\n",
       "    </tr>\n",
       "    <tr>\n",
       "      <th>16488</th>\n",
       "      <td>1374057</td>\n",
       "      <td>1721</td>\n",
       "      <td>1.375004e-04</td>\n",
       "      <td>0</td>\n",
       "    </tr>\n",
       "  </tbody>\n",
       "</table>\n",
       "<p>16489 rows × 4 columns</p>\n",
       "</div>"
      ],
      "text/plain": [
       "       user_id  track_id     als_score  target\n",
       "0          300    560473  1.925466e-09       1\n",
       "1          657  35505245  7.647262e-10       1\n",
       "2         1300  29175370  1.196781e-11       1\n",
       "3         1568  35505245  2.073397e-03       1\n",
       "4         1603  29175370  4.451021e-09       1\n",
       "...        ...       ...           ...     ...\n",
       "16484  1373846      2019  6.820396e-07       0\n",
       "16485  1374057      5991  1.321663e-03       0\n",
       "16486  1374057     10366  2.425224e-05       0\n",
       "16487  1374057     65765  1.202057e-02       0\n",
       "16488  1374057      1721  1.375004e-04       0\n",
       "\n",
       "[16489 rows x 4 columns]"
      ]
     },
     "execution_count": 33,
     "metadata": {},
     "output_type": "execute_result"
    }
   ],
   "source": [
    "candidates_for_train"
   ]
  },
  {
   "cell_type": "code",
   "execution_count": 34,
   "id": "05b3e32c",
   "metadata": {},
   "outputs": [],
   "source": [
    "candidates = als_recommendations.rename(columns={\"score\":\"als_score\"})\n"
   ]
  },
  {
   "cell_type": "code",
   "execution_count": 35,
   "id": "cb898af7",
   "metadata": {},
   "outputs": [
    {
     "name": "stdout",
     "output_type": "stream",
     "text": [
      "77878900\n"
     ]
    }
   ],
   "source": [
    "# оставляем только тех пользователей, что есть в тестовой выборке, для экономии ресурсов\n",
    "candidates_to_rank = candidates[candidates[\"user_id\"].isin(events_test[\"user_id\"].drop_duplicates())]\n",
    "print(len(candidates_to_rank)) "
   ]
  },
  {
   "cell_type": "code",
   "execution_count": 38,
   "id": "8065728a",
   "metadata": {},
   "outputs": [
    {
     "data": {
      "text/html": [
       "<div>\n",
       "<style scoped>\n",
       "    .dataframe tbody tr th:only-of-type {\n",
       "        vertical-align: middle;\n",
       "    }\n",
       "\n",
       "    .dataframe tbody tr th {\n",
       "        vertical-align: top;\n",
       "    }\n",
       "\n",
       "    .dataframe thead th {\n",
       "        text-align: right;\n",
       "    }\n",
       "</style>\n",
       "<table border=\"1\" class=\"dataframe\">\n",
       "  <thead>\n",
       "    <tr style=\"text-align: right;\">\n",
       "      <th></th>\n",
       "      <th>user_id</th>\n",
       "      <th>track_id</th>\n",
       "      <th>track_seq</th>\n",
       "      <th>started_at</th>\n",
       "      <th>item_id</th>\n",
       "      <th>user_id_enc</th>\n",
       "      <th>rating</th>\n",
       "      <th>target</th>\n",
       "    </tr>\n",
       "  </thead>\n",
       "  <tbody>\n",
       "    <tr>\n",
       "      <th>32</th>\n",
       "      <td>3</td>\n",
       "      <td>78194999</td>\n",
       "      <td>33</td>\n",
       "      <td>2022-12-20</td>\n",
       "      <td>853840</td>\n",
       "      <td>3</td>\n",
       "      <td>0.283578</td>\n",
       "      <td>1</td>\n",
       "    </tr>\n",
       "    <tr>\n",
       "      <th>244</th>\n",
       "      <td>4</td>\n",
       "      <td>83375862</td>\n",
       "      <td>245</td>\n",
       "      <td>2022-12-18</td>\n",
       "      <td>878465</td>\n",
       "      <td>4</td>\n",
       "      <td>0.181642</td>\n",
       "      <td>1</td>\n",
       "    </tr>\n",
       "    <tr>\n",
       "      <th>245</th>\n",
       "      <td>4</td>\n",
       "      <td>83764704</td>\n",
       "      <td>246</td>\n",
       "      <td>2022-12-18</td>\n",
       "      <td>879981</td>\n",
       "      <td>4</td>\n",
       "      <td>0.181508</td>\n",
       "      <td>1</td>\n",
       "    </tr>\n",
       "    <tr>\n",
       "      <th>247</th>\n",
       "      <td>4</td>\n",
       "      <td>84099295</td>\n",
       "      <td>248</td>\n",
       "      <td>2022-12-21</td>\n",
       "      <td>881187</td>\n",
       "      <td>4</td>\n",
       "      <td>0.181243</td>\n",
       "      <td>1</td>\n",
       "    </tr>\n",
       "    <tr>\n",
       "      <th>248</th>\n",
       "      <td>4</td>\n",
       "      <td>84487963</td>\n",
       "      <td>249</td>\n",
       "      <td>2022-12-23</td>\n",
       "      <td>882577</td>\n",
       "      <td>4</td>\n",
       "      <td>0.181111</td>\n",
       "      <td>1</td>\n",
       "    </tr>\n",
       "  </tbody>\n",
       "</table>\n",
       "</div>"
      ],
      "text/plain": [
       "     user_id  track_id  track_seq started_at  item_id  user_id_enc    rating  \\\n",
       "32         3  78194999         33 2022-12-20   853840            3  0.283578   \n",
       "244        4  83375862        245 2022-12-18   878465            4  0.181642   \n",
       "245        4  83764704        246 2022-12-18   879981            4  0.181508   \n",
       "247        4  84099295        248 2022-12-21   881187            4  0.181243   \n",
       "248        4  84487963        249 2022-12-23   882577            4  0.181111   \n",
       "\n",
       "     target  \n",
       "32        1  \n",
       "244       1  \n",
       "245       1  \n",
       "247       1  \n",
       "248       1  "
      ]
     },
     "execution_count": 38,
     "metadata": {},
     "output_type": "execute_result"
    }
   ],
   "source": [
    "events_labels.head()"
   ]
  },
  {
   "cell_type": "markdown",
   "id": "e82a32e1-b90b-4eaf-9439-fc8deab9f34b",
   "metadata": {},
   "source": [
    "Построим три признака, можно больше, для ранжирующей модели."
   ]
  },
  {
   "cell_type": "code",
   "execution_count": 40,
   "id": "16699847",
   "metadata": {},
   "outputs": [],
   "source": [
    "def get_user_features(events):\n",
    "    \"\"\" считает пользовательские признаки \"\"\"\n",
    "    \n",
    "    user_features = events.groupby(\"user_id\").agg(\n",
    "        tracks_listened=('track_seq', 'max'),\n",
    "        rating_avg=(\"rating\", \"mean\"))\n",
    "    \n",
    "    return user_features"
   ]
  },
  {
   "cell_type": "code",
   "execution_count": 41,
   "id": "0c46b89b",
   "metadata": {},
   "outputs": [],
   "source": [
    "# Вместе с оценкой ALS получается три признака\n",
    "user_features_for_train = get_user_features(events_train)\n",
    "candidates_for_train = candidates_for_train.merge(user_features_for_train, on=\"user_id\", how=\"left\")"
   ]
  },
  {
   "cell_type": "code",
   "execution_count": 46,
   "id": "99529c79",
   "metadata": {},
   "outputs": [],
   "source": [
    "# оставим только тех пользователей, что есть в тесте, для экономии ресурсов\n",
    "events_inference = pd.concat([events_train, events_labels])\n",
    "events_inference = events_inference[events_inference[\"user_id\"].isin(events_test[\"user_id\"].drop_duplicates())]\n",
    "\n",
    "user_features_for_ranking = get_user_features(events_inference)\n",
    "candidates_to_rank = candidates_to_rank.merge(user_features_for_ranking, on=\"user_id\", how=\"left\")"
   ]
  },
  {
   "cell_type": "code",
   "execution_count": 48,
   "id": "e99deb7d",
   "metadata": {},
   "outputs": [
    {
     "data": {
      "text/html": [
       "<div>\n",
       "<style scoped>\n",
       "    .dataframe tbody tr th:only-of-type {\n",
       "        vertical-align: middle;\n",
       "    }\n",
       "\n",
       "    .dataframe tbody tr th {\n",
       "        vertical-align: top;\n",
       "    }\n",
       "\n",
       "    .dataframe thead th {\n",
       "        text-align: right;\n",
       "    }\n",
       "</style>\n",
       "<table border=\"1\" class=\"dataframe\">\n",
       "  <thead>\n",
       "    <tr style=\"text-align: right;\">\n",
       "      <th></th>\n",
       "      <th>user_id</th>\n",
       "      <th>track_id</th>\n",
       "      <th>als_score</th>\n",
       "      <th>target</th>\n",
       "      <th>tracks_listened</th>\n",
       "      <th>rating_avg</th>\n",
       "    </tr>\n",
       "  </thead>\n",
       "  <tbody>\n",
       "    <tr>\n",
       "      <th>0</th>\n",
       "      <td>300</td>\n",
       "      <td>560473</td>\n",
       "      <td>1.925466e-09</td>\n",
       "      <td>1</td>\n",
       "      <td>9.0</td>\n",
       "      <td>0.681993</td>\n",
       "    </tr>\n",
       "    <tr>\n",
       "      <th>1</th>\n",
       "      <td>657</td>\n",
       "      <td>35505245</td>\n",
       "      <td>7.647262e-10</td>\n",
       "      <td>1</td>\n",
       "      <td>34.0</td>\n",
       "      <td>0.422257</td>\n",
       "    </tr>\n",
       "    <tr>\n",
       "      <th>2</th>\n",
       "      <td>1300</td>\n",
       "      <td>29175370</td>\n",
       "      <td>1.196781e-11</td>\n",
       "      <td>1</td>\n",
       "      <td>9.0</td>\n",
       "      <td>0.681993</td>\n",
       "    </tr>\n",
       "    <tr>\n",
       "      <th>3</th>\n",
       "      <td>1568</td>\n",
       "      <td>35505245</td>\n",
       "      <td>2.073397e-03</td>\n",
       "      <td>1</td>\n",
       "      <td>47.0</td>\n",
       "      <td>0.385694</td>\n",
       "    </tr>\n",
       "    <tr>\n",
       "      <th>4</th>\n",
       "      <td>1603</td>\n",
       "      <td>29175370</td>\n",
       "      <td>4.451021e-09</td>\n",
       "      <td>1</td>\n",
       "      <td>20.0</td>\n",
       "      <td>0.507848</td>\n",
       "    </tr>\n",
       "    <tr>\n",
       "      <th>...</th>\n",
       "      <td>...</td>\n",
       "      <td>...</td>\n",
       "      <td>...</td>\n",
       "      <td>...</td>\n",
       "      <td>...</td>\n",
       "      <td>...</td>\n",
       "    </tr>\n",
       "    <tr>\n",
       "      <th>16484</th>\n",
       "      <td>1373846</td>\n",
       "      <td>2019</td>\n",
       "      <td>6.820396e-07</td>\n",
       "      <td>0</td>\n",
       "      <td>121.0</td>\n",
       "      <td>0.287807</td>\n",
       "    </tr>\n",
       "    <tr>\n",
       "      <th>16485</th>\n",
       "      <td>1374057</td>\n",
       "      <td>5991</td>\n",
       "      <td>1.321663e-03</td>\n",
       "      <td>0</td>\n",
       "      <td>56.0</td>\n",
       "      <td>0.359079</td>\n",
       "    </tr>\n",
       "    <tr>\n",
       "      <th>16486</th>\n",
       "      <td>1374057</td>\n",
       "      <td>10366</td>\n",
       "      <td>2.425224e-05</td>\n",
       "      <td>0</td>\n",
       "      <td>56.0</td>\n",
       "      <td>0.359079</td>\n",
       "    </tr>\n",
       "    <tr>\n",
       "      <th>16487</th>\n",
       "      <td>1374057</td>\n",
       "      <td>65765</td>\n",
       "      <td>1.202057e-02</td>\n",
       "      <td>0</td>\n",
       "      <td>56.0</td>\n",
       "      <td>0.359079</td>\n",
       "    </tr>\n",
       "    <tr>\n",
       "      <th>16488</th>\n",
       "      <td>1374057</td>\n",
       "      <td>1721</td>\n",
       "      <td>1.375004e-04</td>\n",
       "      <td>0</td>\n",
       "      <td>56.0</td>\n",
       "      <td>0.359079</td>\n",
       "    </tr>\n",
       "  </tbody>\n",
       "</table>\n",
       "<p>16489 rows × 6 columns</p>\n",
       "</div>"
      ],
      "text/plain": [
       "       user_id  track_id     als_score  target  tracks_listened  rating_avg\n",
       "0          300    560473  1.925466e-09       1              9.0    0.681993\n",
       "1          657  35505245  7.647262e-10       1             34.0    0.422257\n",
       "2         1300  29175370  1.196781e-11       1              9.0    0.681993\n",
       "3         1568  35505245  2.073397e-03       1             47.0    0.385694\n",
       "4         1603  29175370  4.451021e-09       1             20.0    0.507848\n",
       "...        ...       ...           ...     ...              ...         ...\n",
       "16484  1373846      2019  6.820396e-07       0            121.0    0.287807\n",
       "16485  1374057      5991  1.321663e-03       0             56.0    0.359079\n",
       "16486  1374057     10366  2.425224e-05       0             56.0    0.359079\n",
       "16487  1374057     65765  1.202057e-02       0             56.0    0.359079\n",
       "16488  1374057      1721  1.375004e-04       0             56.0    0.359079\n",
       "\n",
       "[16489 rows x 6 columns]"
      ]
     },
     "execution_count": 48,
     "metadata": {},
     "output_type": "execute_result"
    }
   ],
   "source": [
    "candidates_for_train"
   ]
  },
  {
   "cell_type": "markdown",
   "id": "9ebc13c2",
   "metadata": {},
   "source": [
    "<b>Комментарий от ревьюера v1</b>\n",
    "\n",
    "<div class=\"alert alert-block alert-success\">\n",
    "✔️ ОК!\n",
    "\n",
    "</div>"
   ]
  },
  {
   "cell_type": "markdown",
   "id": "47bcf88d-b236-46f0-a6f3-38ddd64895fe",
   "metadata": {},
   "source": [
    "# Ранжирование рекомендаций"
   ]
  },
  {
   "cell_type": "markdown",
   "id": "e8cd8223-3418-4493-8c87-1f76286ebda0",
   "metadata": {},
   "source": [
    "Построим ранжирующую модель, чтобы сделать рекомендации более точными. Отранжируем рекомендации."
   ]
  },
  {
   "cell_type": "code",
   "execution_count": 49,
   "id": "79f1dd92-32a9-463d-827e-8bb9ee5bbb54",
   "metadata": {},
   "outputs": [
    {
     "name": "stdout",
     "output_type": "stream",
     "text": [
      "Learning rate set to 0.034094\n",
      "0:\tlearn: 0.6810515\ttotal: 61.1ms\tremaining: 1m 1s\n",
      "1:\tlearn: 0.6700082\ttotal: 63.3ms\tremaining: 31.6s\n",
      "2:\tlearn: 0.6595617\ttotal: 66.3ms\tremaining: 22s\n",
      "3:\tlearn: 0.6498967\ttotal: 69.1ms\tremaining: 17.2s\n",
      "4:\tlearn: 0.6409594\ttotal: 71.9ms\tremaining: 14.3s\n",
      "5:\tlearn: 0.6326867\ttotal: 75.9ms\tremaining: 12.6s\n",
      "6:\tlearn: 0.6250483\ttotal: 79.4ms\tremaining: 11.3s\n",
      "7:\tlearn: 0.6178676\ttotal: 83.2ms\tremaining: 10.3s\n",
      "8:\tlearn: 0.6110284\ttotal: 86.3ms\tremaining: 9.5s\n",
      "9:\tlearn: 0.6047196\ttotal: 89.3ms\tremaining: 8.84s\n",
      "10:\tlearn: 0.5989574\ttotal: 91.6ms\tremaining: 8.24s\n",
      "11:\tlearn: 0.5936952\ttotal: 94ms\tremaining: 7.74s\n",
      "12:\tlearn: 0.5887489\ttotal: 96.8ms\tremaining: 7.35s\n",
      "13:\tlearn: 0.5841805\ttotal: 99.6ms\tremaining: 7.02s\n",
      "14:\tlearn: 0.5798449\ttotal: 103ms\tremaining: 6.76s\n",
      "15:\tlearn: 0.5759296\ttotal: 106ms\tremaining: 6.5s\n",
      "16:\tlearn: 0.5722129\ttotal: 109ms\tremaining: 6.28s\n",
      "17:\tlearn: 0.5687889\ttotal: 112ms\tremaining: 6.09s\n",
      "18:\tlearn: 0.5656906\ttotal: 115ms\tremaining: 5.93s\n",
      "19:\tlearn: 0.5627231\ttotal: 118ms\tremaining: 5.8s\n",
      "20:\tlearn: 0.5599054\ttotal: 121ms\tremaining: 5.63s\n",
      "21:\tlearn: 0.5573571\ttotal: 124ms\tremaining: 5.49s\n",
      "22:\tlearn: 0.5550149\ttotal: 126ms\tremaining: 5.36s\n",
      "23:\tlearn: 0.5527598\ttotal: 129ms\tremaining: 5.23s\n",
      "24:\tlearn: 0.5507443\ttotal: 131ms\tremaining: 5.12s\n",
      "25:\tlearn: 0.5487654\ttotal: 133ms\tremaining: 5s\n",
      "26:\tlearn: 0.5469824\ttotal: 136ms\tremaining: 4.89s\n",
      "27:\tlearn: 0.5453738\ttotal: 139ms\tremaining: 4.84s\n",
      "28:\tlearn: 0.5439002\ttotal: 142ms\tremaining: 4.74s\n",
      "29:\tlearn: 0.5424823\ttotal: 144ms\tremaining: 4.65s\n",
      "30:\tlearn: 0.5411830\ttotal: 147ms\tremaining: 4.6s\n",
      "31:\tlearn: 0.5399344\ttotal: 149ms\tremaining: 4.51s\n",
      "32:\tlearn: 0.5387477\ttotal: 152ms\tremaining: 4.46s\n",
      "33:\tlearn: 0.5376847\ttotal: 155ms\tremaining: 4.4s\n",
      "34:\tlearn: 0.5366060\ttotal: 157ms\tremaining: 4.34s\n",
      "35:\tlearn: 0.5356350\ttotal: 160ms\tremaining: 4.28s\n",
      "36:\tlearn: 0.5347849\ttotal: 162ms\tremaining: 4.23s\n",
      "37:\tlearn: 0.5339955\ttotal: 165ms\tremaining: 4.18s\n",
      "38:\tlearn: 0.5332184\ttotal: 168ms\tremaining: 4.14s\n",
      "39:\tlearn: 0.5325322\ttotal: 171ms\tremaining: 4.11s\n",
      "40:\tlearn: 0.5318169\ttotal: 174ms\tremaining: 4.07s\n",
      "41:\tlearn: 0.5312159\ttotal: 176ms\tremaining: 4.03s\n",
      "42:\tlearn: 0.5306712\ttotal: 179ms\tremaining: 3.99s\n",
      "43:\tlearn: 0.5301234\ttotal: 182ms\tremaining: 3.95s\n",
      "44:\tlearn: 0.5296190\ttotal: 184ms\tremaining: 3.91s\n",
      "45:\tlearn: 0.5291150\ttotal: 188ms\tremaining: 3.89s\n",
      "46:\tlearn: 0.5285635\ttotal: 190ms\tremaining: 3.86s\n",
      "47:\tlearn: 0.5281838\ttotal: 193ms\tremaining: 3.83s\n",
      "48:\tlearn: 0.5277462\ttotal: 196ms\tremaining: 3.81s\n",
      "49:\tlearn: 0.5274095\ttotal: 199ms\tremaining: 3.79s\n",
      "50:\tlearn: 0.5270579\ttotal: 202ms\tremaining: 3.75s\n",
      "51:\tlearn: 0.5267425\ttotal: 205ms\tremaining: 3.73s\n",
      "52:\tlearn: 0.5264390\ttotal: 208ms\tremaining: 3.71s\n",
      "53:\tlearn: 0.5261853\ttotal: 210ms\tremaining: 3.69s\n",
      "54:\tlearn: 0.5259485\ttotal: 214ms\tremaining: 3.69s\n",
      "55:\tlearn: 0.5257194\ttotal: 217ms\tremaining: 3.66s\n",
      "56:\tlearn: 0.5254620\ttotal: 221ms\tremaining: 3.65s\n",
      "57:\tlearn: 0.5252404\ttotal: 223ms\tremaining: 3.63s\n",
      "58:\tlearn: 0.5250503\ttotal: 226ms\tremaining: 3.61s\n",
      "59:\tlearn: 0.5248895\ttotal: 230ms\tremaining: 3.6s\n",
      "60:\tlearn: 0.5246997\ttotal: 232ms\tremaining: 3.58s\n",
      "61:\tlearn: 0.5244884\ttotal: 235ms\tremaining: 3.56s\n",
      "62:\tlearn: 0.5242593\ttotal: 238ms\tremaining: 3.54s\n",
      "63:\tlearn: 0.5240940\ttotal: 240ms\tremaining: 3.52s\n",
      "64:\tlearn: 0.5239782\ttotal: 243ms\tremaining: 3.49s\n",
      "65:\tlearn: 0.5238443\ttotal: 245ms\tremaining: 3.47s\n",
      "66:\tlearn: 0.5236464\ttotal: 248ms\tremaining: 3.46s\n",
      "67:\tlearn: 0.5235185\ttotal: 251ms\tremaining: 3.45s\n",
      "68:\tlearn: 0.5233712\ttotal: 254ms\tremaining: 3.43s\n",
      "69:\tlearn: 0.5232915\ttotal: 256ms\tremaining: 3.4s\n",
      "70:\tlearn: 0.5231961\ttotal: 258ms\tremaining: 3.38s\n",
      "71:\tlearn: 0.5230518\ttotal: 261ms\tremaining: 3.36s\n",
      "72:\tlearn: 0.5229596\ttotal: 263ms\tremaining: 3.34s\n",
      "73:\tlearn: 0.5228553\ttotal: 266ms\tremaining: 3.33s\n",
      "74:\tlearn: 0.5227122\ttotal: 270ms\tremaining: 3.32s\n",
      "75:\tlearn: 0.5225852\ttotal: 273ms\tremaining: 3.32s\n",
      "76:\tlearn: 0.5224865\ttotal: 276ms\tremaining: 3.31s\n",
      "77:\tlearn: 0.5223814\ttotal: 280ms\tremaining: 3.3s\n",
      "78:\tlearn: 0.5223027\ttotal: 282ms\tremaining: 3.29s\n",
      "79:\tlearn: 0.5222184\ttotal: 285ms\tremaining: 3.27s\n",
      "80:\tlearn: 0.5221270\ttotal: 287ms\tremaining: 3.25s\n",
      "81:\tlearn: 0.5220410\ttotal: 289ms\tremaining: 3.24s\n",
      "82:\tlearn: 0.5219149\ttotal: 292ms\tremaining: 3.23s\n",
      "83:\tlearn: 0.5218345\ttotal: 295ms\tremaining: 3.21s\n",
      "84:\tlearn: 0.5217698\ttotal: 297ms\tremaining: 3.2s\n",
      "85:\tlearn: 0.5217097\ttotal: 300ms\tremaining: 3.19s\n",
      "86:\tlearn: 0.5216346\ttotal: 303ms\tremaining: 3.18s\n",
      "87:\tlearn: 0.5214840\ttotal: 306ms\tremaining: 3.17s\n",
      "88:\tlearn: 0.5213684\ttotal: 308ms\tremaining: 3.15s\n",
      "89:\tlearn: 0.5213302\ttotal: 311ms\tremaining: 3.14s\n",
      "90:\tlearn: 0.5212659\ttotal: 313ms\tremaining: 3.13s\n",
      "91:\tlearn: 0.5212028\ttotal: 316ms\tremaining: 3.12s\n",
      "92:\tlearn: 0.5211176\ttotal: 319ms\tremaining: 3.11s\n",
      "93:\tlearn: 0.5210101\ttotal: 321ms\tremaining: 3.1s\n",
      "94:\tlearn: 0.5209506\ttotal: 324ms\tremaining: 3.09s\n",
      "95:\tlearn: 0.5209257\ttotal: 327ms\tremaining: 3.08s\n",
      "96:\tlearn: 0.5208421\ttotal: 330ms\tremaining: 3.07s\n",
      "97:\tlearn: 0.5208107\ttotal: 332ms\tremaining: 3.06s\n",
      "98:\tlearn: 0.5207819\ttotal: 335ms\tremaining: 3.05s\n",
      "99:\tlearn: 0.5206985\ttotal: 337ms\tremaining: 3.04s\n",
      "100:\tlearn: 0.5206730\ttotal: 339ms\tremaining: 3.02s\n",
      "101:\tlearn: 0.5206366\ttotal: 342ms\tremaining: 3.01s\n",
      "102:\tlearn: 0.5205854\ttotal: 344ms\tremaining: 2.99s\n",
      "103:\tlearn: 0.5204978\ttotal: 347ms\tremaining: 2.98s\n",
      "104:\tlearn: 0.5204435\ttotal: 349ms\tremaining: 2.98s\n",
      "105:\tlearn: 0.5203903\ttotal: 352ms\tremaining: 2.97s\n",
      "106:\tlearn: 0.5203414\ttotal: 355ms\tremaining: 2.96s\n",
      "107:\tlearn: 0.5202908\ttotal: 358ms\tremaining: 2.95s\n",
      "108:\tlearn: 0.5201983\ttotal: 360ms\tremaining: 2.94s\n",
      "109:\tlearn: 0.5201461\ttotal: 363ms\tremaining: 2.93s\n",
      "110:\tlearn: 0.5200681\ttotal: 365ms\tremaining: 2.92s\n",
      "111:\tlearn: 0.5199918\ttotal: 368ms\tremaining: 2.92s\n",
      "112:\tlearn: 0.5199780\ttotal: 370ms\tremaining: 2.9s\n",
      "113:\tlearn: 0.5199074\ttotal: 372ms\tremaining: 2.89s\n",
      "114:\tlearn: 0.5198701\ttotal: 375ms\tremaining: 2.88s\n",
      "115:\tlearn: 0.5198362\ttotal: 377ms\tremaining: 2.87s\n",
      "116:\tlearn: 0.5197278\ttotal: 380ms\tremaining: 2.86s\n",
      "117:\tlearn: 0.5196763\ttotal: 382ms\tremaining: 2.86s\n",
      "118:\tlearn: 0.5196550\ttotal: 385ms\tremaining: 2.85s\n",
      "119:\tlearn: 0.5196302\ttotal: 387ms\tremaining: 2.84s\n",
      "120:\tlearn: 0.5195759\ttotal: 389ms\tremaining: 2.83s\n",
      "121:\tlearn: 0.5195202\ttotal: 392ms\tremaining: 2.82s\n",
      "122:\tlearn: 0.5194858\ttotal: 395ms\tremaining: 2.81s\n",
      "123:\tlearn: 0.5193947\ttotal: 398ms\tremaining: 2.81s\n",
      "124:\tlearn: 0.5193725\ttotal: 400ms\tremaining: 2.8s\n",
      "125:\tlearn: 0.5193176\ttotal: 403ms\tremaining: 2.79s\n",
      "126:\tlearn: 0.5192659\ttotal: 405ms\tremaining: 2.79s\n",
      "127:\tlearn: 0.5192206\ttotal: 408ms\tremaining: 2.78s\n",
      "128:\tlearn: 0.5191820\ttotal: 411ms\tremaining: 2.77s\n",
      "129:\tlearn: 0.5190599\ttotal: 413ms\tremaining: 2.76s\n",
      "130:\tlearn: 0.5190278\ttotal: 416ms\tremaining: 2.76s\n",
      "131:\tlearn: 0.5189525\ttotal: 419ms\tremaining: 2.75s\n",
      "132:\tlearn: 0.5189086\ttotal: 421ms\tremaining: 2.75s\n",
      "133:\tlearn: 0.5188817\ttotal: 423ms\tremaining: 2.74s\n",
      "134:\tlearn: 0.5188147\ttotal: 426ms\tremaining: 2.73s\n",
      "135:\tlearn: 0.5187753\ttotal: 429ms\tremaining: 2.72s\n",
      "136:\tlearn: 0.5187483\ttotal: 431ms\tremaining: 2.72s\n",
      "137:\tlearn: 0.5186838\ttotal: 434ms\tremaining: 2.71s\n",
      "138:\tlearn: 0.5186184\ttotal: 436ms\tremaining: 2.7s\n",
      "139:\tlearn: 0.5185950\ttotal: 439ms\tremaining: 2.69s\n",
      "140:\tlearn: 0.5185549\ttotal: 441ms\tremaining: 2.69s\n",
      "141:\tlearn: 0.5185050\ttotal: 444ms\tremaining: 2.68s\n",
      "142:\tlearn: 0.5184742\ttotal: 447ms\tremaining: 2.68s\n",
      "143:\tlearn: 0.5184446\ttotal: 450ms\tremaining: 2.68s\n",
      "144:\tlearn: 0.5183864\ttotal: 453ms\tremaining: 2.67s\n",
      "145:\tlearn: 0.5183724\ttotal: 455ms\tremaining: 2.66s\n",
      "146:\tlearn: 0.5183258\ttotal: 458ms\tremaining: 2.65s\n",
      "147:\tlearn: 0.5182681\ttotal: 460ms\tremaining: 2.65s\n",
      "148:\tlearn: 0.5182631\ttotal: 463ms\tremaining: 2.64s\n",
      "149:\tlearn: 0.5182624\ttotal: 465ms\tremaining: 2.64s\n",
      "150:\tlearn: 0.5181957\ttotal: 468ms\tremaining: 2.63s\n",
      "151:\tlearn: 0.5181711\ttotal: 470ms\tremaining: 2.62s\n",
      "152:\tlearn: 0.5180848\ttotal: 473ms\tremaining: 2.62s\n",
      "153:\tlearn: 0.5180480\ttotal: 475ms\tremaining: 2.61s\n",
      "154:\tlearn: 0.5180001\ttotal: 477ms\tremaining: 2.6s\n",
      "155:\tlearn: 0.5179269\ttotal: 480ms\tremaining: 2.6s\n",
      "156:\tlearn: 0.5178816\ttotal: 482ms\tremaining: 2.59s\n",
      "157:\tlearn: 0.5178503\ttotal: 484ms\tremaining: 2.58s\n",
      "158:\tlearn: 0.5178223\ttotal: 486ms\tremaining: 2.57s\n",
      "159:\tlearn: 0.5178096\ttotal: 489ms\tremaining: 2.56s\n",
      "160:\tlearn: 0.5177831\ttotal: 491ms\tremaining: 2.56s\n",
      "161:\tlearn: 0.5177551\ttotal: 493ms\tremaining: 2.55s\n",
      "162:\tlearn: 0.5176948\ttotal: 496ms\tremaining: 2.54s\n",
      "163:\tlearn: 0.5176795\ttotal: 498ms\tremaining: 2.54s\n",
      "164:\tlearn: 0.5176075\ttotal: 501ms\tremaining: 2.53s\n",
      "165:\tlearn: 0.5175593\ttotal: 503ms\tremaining: 2.53s\n",
      "166:\tlearn: 0.5175098\ttotal: 505ms\tremaining: 2.52s\n",
      "167:\tlearn: 0.5174846\ttotal: 507ms\tremaining: 2.51s\n",
      "168:\tlearn: 0.5174277\ttotal: 510ms\tremaining: 2.51s\n",
      "169:\tlearn: 0.5173694\ttotal: 513ms\tremaining: 2.5s\n",
      "170:\tlearn: 0.5173212\ttotal: 515ms\tremaining: 2.5s\n",
      "171:\tlearn: 0.5172895\ttotal: 518ms\tremaining: 2.49s\n",
      "172:\tlearn: 0.5172565\ttotal: 521ms\tremaining: 2.49s\n",
      "173:\tlearn: 0.5172212\ttotal: 524ms\tremaining: 2.48s\n",
      "174:\tlearn: 0.5171665\ttotal: 526ms\tremaining: 2.48s\n",
      "175:\tlearn: 0.5171195\ttotal: 529ms\tremaining: 2.47s\n",
      "176:\tlearn: 0.5170910\ttotal: 531ms\tremaining: 2.47s\n",
      "177:\tlearn: 0.5170806\ttotal: 534ms\tremaining: 2.46s\n",
      "178:\tlearn: 0.5170731\ttotal: 537ms\tremaining: 2.46s\n",
      "179:\tlearn: 0.5170328\ttotal: 540ms\tremaining: 2.46s\n",
      "180:\tlearn: 0.5170072\ttotal: 544ms\tremaining: 2.46s\n",
      "181:\tlearn: 0.5169731\ttotal: 547ms\tremaining: 2.46s\n",
      "182:\tlearn: 0.5169350\ttotal: 550ms\tremaining: 2.45s\n",
      "183:\tlearn: 0.5168830\ttotal: 552ms\tremaining: 2.45s\n",
      "184:\tlearn: 0.5168327\ttotal: 555ms\tremaining: 2.44s\n",
      "185:\tlearn: 0.5167851\ttotal: 557ms\tremaining: 2.44s\n",
      "186:\tlearn: 0.5167606\ttotal: 560ms\tremaining: 2.43s\n",
      "187:\tlearn: 0.5167404\ttotal: 562ms\tremaining: 2.43s\n",
      "188:\tlearn: 0.5166876\ttotal: 565ms\tremaining: 2.42s\n",
      "189:\tlearn: 0.5166316\ttotal: 567ms\tremaining: 2.42s\n",
      "190:\tlearn: 0.5165764\ttotal: 570ms\tremaining: 2.41s\n",
      "191:\tlearn: 0.5165578\ttotal: 572ms\tremaining: 2.41s\n",
      "192:\tlearn: 0.5165056\ttotal: 574ms\tremaining: 2.4s\n",
      "193:\tlearn: 0.5164585\ttotal: 576ms\tremaining: 2.39s\n",
      "194:\tlearn: 0.5164254\ttotal: 579ms\tremaining: 2.39s\n",
      "195:\tlearn: 0.5163632\ttotal: 581ms\tremaining: 2.38s\n",
      "196:\tlearn: 0.5163285\ttotal: 584ms\tremaining: 2.38s\n",
      "197:\tlearn: 0.5162891\ttotal: 586ms\tremaining: 2.37s\n",
      "198:\tlearn: 0.5162725\ttotal: 589ms\tremaining: 2.37s\n",
      "199:\tlearn: 0.5162432\ttotal: 591ms\tremaining: 2.37s\n",
      "200:\tlearn: 0.5161932\ttotal: 595ms\tremaining: 2.36s\n",
      "201:\tlearn: 0.5161751\ttotal: 597ms\tremaining: 2.36s\n",
      "202:\tlearn: 0.5161428\ttotal: 600ms\tremaining: 2.35s\n",
      "203:\tlearn: 0.5160858\ttotal: 602ms\tremaining: 2.35s\n",
      "204:\tlearn: 0.5160153\ttotal: 604ms\tremaining: 2.34s\n",
      "205:\tlearn: 0.5159988\ttotal: 607ms\tremaining: 2.34s\n",
      "206:\tlearn: 0.5159457\ttotal: 610ms\tremaining: 2.33s\n",
      "207:\tlearn: 0.5159082\ttotal: 612ms\tremaining: 2.33s\n",
      "208:\tlearn: 0.5158728\ttotal: 614ms\tremaining: 2.32s\n",
      "209:\tlearn: 0.5158344\ttotal: 617ms\tremaining: 2.32s\n",
      "210:\tlearn: 0.5157581\ttotal: 619ms\tremaining: 2.31s\n",
      "211:\tlearn: 0.5157316\ttotal: 621ms\tremaining: 2.31s\n",
      "212:\tlearn: 0.5156943\ttotal: 623ms\tremaining: 2.3s\n",
      "213:\tlearn: 0.5156523\ttotal: 626ms\tremaining: 2.3s\n",
      "214:\tlearn: 0.5155965\ttotal: 629ms\tremaining: 2.3s\n",
      "215:\tlearn: 0.5155609\ttotal: 632ms\tremaining: 2.29s\n",
      "216:\tlearn: 0.5155406\ttotal: 635ms\tremaining: 2.29s\n",
      "217:\tlearn: 0.5155346\ttotal: 637ms\tremaining: 2.29s\n",
      "218:\tlearn: 0.5154987\ttotal: 640ms\tremaining: 2.28s\n",
      "219:\tlearn: 0.5154567\ttotal: 643ms\tremaining: 2.28s\n",
      "220:\tlearn: 0.5153925\ttotal: 645ms\tremaining: 2.27s\n",
      "221:\tlearn: 0.5153885\ttotal: 648ms\tremaining: 2.27s\n",
      "222:\tlearn: 0.5153440\ttotal: 650ms\tremaining: 2.27s\n",
      "223:\tlearn: 0.5152991\ttotal: 652ms\tremaining: 2.26s\n",
      "224:\tlearn: 0.5152802\ttotal: 655ms\tremaining: 2.25s\n",
      "225:\tlearn: 0.5152561\ttotal: 657ms\tremaining: 2.25s\n",
      "226:\tlearn: 0.5152096\ttotal: 659ms\tremaining: 2.25s\n",
      "227:\tlearn: 0.5151936\ttotal: 662ms\tremaining: 2.24s\n",
      "228:\tlearn: 0.5151593\ttotal: 664ms\tremaining: 2.24s\n",
      "229:\tlearn: 0.5151165\ttotal: 667ms\tremaining: 2.23s\n",
      "230:\tlearn: 0.5150857\ttotal: 669ms\tremaining: 2.23s\n",
      "231:\tlearn: 0.5150780\ttotal: 671ms\tremaining: 2.22s\n",
      "232:\tlearn: 0.5150532\ttotal: 674ms\tremaining: 2.22s\n",
      "233:\tlearn: 0.5150350\ttotal: 676ms\tremaining: 2.21s\n",
      "234:\tlearn: 0.5149669\ttotal: 678ms\tremaining: 2.21s\n",
      "235:\tlearn: 0.5149186\ttotal: 680ms\tremaining: 2.2s\n",
      "236:\tlearn: 0.5148758\ttotal: 683ms\tremaining: 2.2s\n",
      "237:\tlearn: 0.5148627\ttotal: 686ms\tremaining: 2.19s\n",
      "238:\tlearn: 0.5148332\ttotal: 688ms\tremaining: 2.19s\n",
      "239:\tlearn: 0.5147873\ttotal: 690ms\tremaining: 2.19s\n",
      "240:\tlearn: 0.5147813\ttotal: 693ms\tremaining: 2.18s\n",
      "241:\tlearn: 0.5147768\ttotal: 695ms\tremaining: 2.18s\n",
      "242:\tlearn: 0.5147582\ttotal: 698ms\tremaining: 2.17s\n",
      "243:\tlearn: 0.5146954\ttotal: 701ms\tremaining: 2.17s\n",
      "244:\tlearn: 0.5146610\ttotal: 704ms\tremaining: 2.17s\n",
      "245:\tlearn: 0.5146111\ttotal: 706ms\tremaining: 2.16s\n",
      "246:\tlearn: 0.5146029\ttotal: 709ms\tremaining: 2.16s\n",
      "247:\tlearn: 0.5145817\ttotal: 711ms\tremaining: 2.16s\n",
      "248:\tlearn: 0.5145400\ttotal: 714ms\tremaining: 2.15s\n",
      "249:\tlearn: 0.5144859\ttotal: 716ms\tremaining: 2.15s\n",
      "250:\tlearn: 0.5144245\ttotal: 718ms\tremaining: 2.14s\n",
      "251:\tlearn: 0.5143946\ttotal: 721ms\tremaining: 2.14s\n",
      "252:\tlearn: 0.5143878\ttotal: 723ms\tremaining: 2.13s\n",
      "253:\tlearn: 0.5143502\ttotal: 726ms\tremaining: 2.13s\n",
      "254:\tlearn: 0.5143358\ttotal: 728ms\tremaining: 2.13s\n",
      "255:\tlearn: 0.5143159\ttotal: 731ms\tremaining: 2.12s\n",
      "256:\tlearn: 0.5142861\ttotal: 733ms\tremaining: 2.12s\n",
      "257:\tlearn: 0.5142175\ttotal: 736ms\tremaining: 2.12s\n",
      "258:\tlearn: 0.5141700\ttotal: 739ms\tremaining: 2.11s\n",
      "259:\tlearn: 0.5141473\ttotal: 742ms\tremaining: 2.11s\n",
      "260:\tlearn: 0.5141163\ttotal: 744ms\tremaining: 2.11s\n",
      "261:\tlearn: 0.5140604\ttotal: 746ms\tremaining: 2.1s\n",
      "262:\tlearn: 0.5140337\ttotal: 749ms\tremaining: 2.1s\n",
      "263:\tlearn: 0.5139759\ttotal: 751ms\tremaining: 2.1s\n",
      "264:\tlearn: 0.5139450\ttotal: 754ms\tremaining: 2.09s\n",
      "265:\tlearn: 0.5138998\ttotal: 756ms\tremaining: 2.09s\n",
      "266:\tlearn: 0.5138609\ttotal: 759ms\tremaining: 2.08s\n",
      "267:\tlearn: 0.5138129\ttotal: 761ms\tremaining: 2.08s\n",
      "268:\tlearn: 0.5137492\ttotal: 763ms\tremaining: 2.07s\n",
      "269:\tlearn: 0.5137311\ttotal: 766ms\tremaining: 2.07s\n",
      "270:\tlearn: 0.5137124\ttotal: 769ms\tremaining: 2.07s\n",
      "271:\tlearn: 0.5136655\ttotal: 771ms\tremaining: 2.06s\n",
      "272:\tlearn: 0.5136492\ttotal: 773ms\tremaining: 2.06s\n",
      "273:\tlearn: 0.5135775\ttotal: 776ms\tremaining: 2.06s\n",
      "274:\tlearn: 0.5135368\ttotal: 778ms\tremaining: 2.05s\n",
      "275:\tlearn: 0.5135007\ttotal: 781ms\tremaining: 2.05s\n",
      "276:\tlearn: 0.5134707\ttotal: 783ms\tremaining: 2.04s\n",
      "277:\tlearn: 0.5134140\ttotal: 786ms\tremaining: 2.04s\n",
      "278:\tlearn: 0.5133812\ttotal: 789ms\tremaining: 2.04s\n",
      "279:\tlearn: 0.5133135\ttotal: 791ms\tremaining: 2.03s\n",
      "280:\tlearn: 0.5132971\ttotal: 794ms\tremaining: 2.03s\n",
      "281:\tlearn: 0.5132613\ttotal: 797ms\tremaining: 2.03s\n",
      "282:\tlearn: 0.5132168\ttotal: 800ms\tremaining: 2.03s\n",
      "283:\tlearn: 0.5131789\ttotal: 803ms\tremaining: 2.02s\n",
      "284:\tlearn: 0.5131370\ttotal: 805ms\tremaining: 2.02s\n",
      "285:\tlearn: 0.5130690\ttotal: 808ms\tremaining: 2.02s\n",
      "286:\tlearn: 0.5130250\ttotal: 810ms\tremaining: 2.01s\n",
      "287:\tlearn: 0.5129926\ttotal: 813ms\tremaining: 2.01s\n",
      "288:\tlearn: 0.5129702\ttotal: 815ms\tremaining: 2s\n",
      "289:\tlearn: 0.5129075\ttotal: 818ms\tremaining: 2s\n",
      "290:\tlearn: 0.5128608\ttotal: 821ms\tremaining: 2s\n",
      "291:\tlearn: 0.5127884\ttotal: 823ms\tremaining: 2s\n",
      "292:\tlearn: 0.5127267\ttotal: 826ms\tremaining: 1.99s\n",
      "293:\tlearn: 0.5126847\ttotal: 830ms\tremaining: 1.99s\n",
      "294:\tlearn: 0.5126735\ttotal: 832ms\tremaining: 1.99s\n",
      "295:\tlearn: 0.5126259\ttotal: 834ms\tremaining: 1.98s\n",
      "296:\tlearn: 0.5125918\ttotal: 837ms\tremaining: 1.98s\n",
      "297:\tlearn: 0.5125669\ttotal: 839ms\tremaining: 1.98s\n",
      "298:\tlearn: 0.5124652\ttotal: 842ms\tremaining: 1.97s\n",
      "299:\tlearn: 0.5123990\ttotal: 845ms\tremaining: 1.97s\n",
      "300:\tlearn: 0.5123380\ttotal: 847ms\tremaining: 1.97s\n",
      "301:\tlearn: 0.5122745\ttotal: 849ms\tremaining: 1.96s\n",
      "302:\tlearn: 0.5122253\ttotal: 852ms\tremaining: 1.96s\n",
      "303:\tlearn: 0.5121989\ttotal: 855ms\tremaining: 1.96s\n",
      "304:\tlearn: 0.5121339\ttotal: 857ms\tremaining: 1.95s\n",
      "305:\tlearn: 0.5120693\ttotal: 860ms\tremaining: 1.95s\n",
      "306:\tlearn: 0.5120165\ttotal: 862ms\tremaining: 1.95s\n",
      "307:\tlearn: 0.5119377\ttotal: 865ms\tremaining: 1.94s\n",
      "308:\tlearn: 0.5118731\ttotal: 867ms\tremaining: 1.94s\n",
      "309:\tlearn: 0.5118027\ttotal: 870ms\tremaining: 1.94s\n",
      "310:\tlearn: 0.5117367\ttotal: 872ms\tremaining: 1.93s\n",
      "311:\tlearn: 0.5116606\ttotal: 875ms\tremaining: 1.93s\n",
      "312:\tlearn: 0.5115883\ttotal: 877ms\tremaining: 1.93s\n",
      "313:\tlearn: 0.5115226\ttotal: 880ms\tremaining: 1.92s\n",
      "314:\tlearn: 0.5114787\ttotal: 882ms\tremaining: 1.92s\n",
      "315:\tlearn: 0.5114158\ttotal: 885ms\tremaining: 1.92s\n",
      "316:\tlearn: 0.5113412\ttotal: 887ms\tremaining: 1.91s\n",
      "317:\tlearn: 0.5112724\ttotal: 889ms\tremaining: 1.91s\n",
      "318:\tlearn: 0.5112287\ttotal: 892ms\tremaining: 1.9s\n",
      "319:\tlearn: 0.5111928\ttotal: 894ms\tremaining: 1.9s\n",
      "320:\tlearn: 0.5111356\ttotal: 897ms\tremaining: 1.9s\n",
      "321:\tlearn: 0.5110801\ttotal: 899ms\tremaining: 1.89s\n",
      "322:\tlearn: 0.5110139\ttotal: 902ms\tremaining: 1.89s\n",
      "323:\tlearn: 0.5109684\ttotal: 905ms\tremaining: 1.89s\n",
      "324:\tlearn: 0.5109210\ttotal: 907ms\tremaining: 1.88s\n",
      "325:\tlearn: 0.5108930\ttotal: 910ms\tremaining: 1.88s\n",
      "326:\tlearn: 0.5108443\ttotal: 913ms\tremaining: 1.88s\n",
      "327:\tlearn: 0.5107798\ttotal: 916ms\tremaining: 1.88s\n",
      "328:\tlearn: 0.5107183\ttotal: 918ms\tremaining: 1.87s\n",
      "329:\tlearn: 0.5106595\ttotal: 921ms\tremaining: 1.87s\n",
      "330:\tlearn: 0.5106461\ttotal: 923ms\tremaining: 1.86s\n",
      "331:\tlearn: 0.5106233\ttotal: 926ms\tremaining: 1.86s\n",
      "332:\tlearn: 0.5105744\ttotal: 928ms\tremaining: 1.86s\n",
      "333:\tlearn: 0.5105259\ttotal: 931ms\tremaining: 1.85s\n",
      "334:\tlearn: 0.5104608\ttotal: 933ms\tremaining: 1.85s\n",
      "335:\tlearn: 0.5103595\ttotal: 936ms\tremaining: 1.85s\n",
      "336:\tlearn: 0.5103159\ttotal: 938ms\tremaining: 1.84s\n",
      "337:\tlearn: 0.5102544\ttotal: 940ms\tremaining: 1.84s\n",
      "338:\tlearn: 0.5102075\ttotal: 943ms\tremaining: 1.84s\n",
      "339:\tlearn: 0.5101323\ttotal: 946ms\tremaining: 1.83s\n",
      "340:\tlearn: 0.5100745\ttotal: 948ms\tremaining: 1.83s\n",
      "341:\tlearn: 0.5100194\ttotal: 951ms\tremaining: 1.83s\n",
      "342:\tlearn: 0.5099743\ttotal: 953ms\tremaining: 1.82s\n",
      "343:\tlearn: 0.5099026\ttotal: 956ms\tremaining: 1.82s\n",
      "344:\tlearn: 0.5098540\ttotal: 958ms\tremaining: 1.82s\n",
      "345:\tlearn: 0.5098255\ttotal: 961ms\tremaining: 1.82s\n",
      "346:\tlearn: 0.5097828\ttotal: 963ms\tremaining: 1.81s\n",
      "347:\tlearn: 0.5096912\ttotal: 966ms\tremaining: 1.81s\n",
      "348:\tlearn: 0.5096652\ttotal: 968ms\tremaining: 1.81s\n",
      "349:\tlearn: 0.5096110\ttotal: 971ms\tremaining: 1.8s\n",
      "350:\tlearn: 0.5095760\ttotal: 974ms\tremaining: 1.8s\n",
      "351:\tlearn: 0.5095257\ttotal: 977ms\tremaining: 1.8s\n",
      "352:\tlearn: 0.5094706\ttotal: 979ms\tremaining: 1.79s\n",
      "353:\tlearn: 0.5094188\ttotal: 982ms\tremaining: 1.79s\n",
      "354:\tlearn: 0.5093828\ttotal: 984ms\tremaining: 1.79s\n",
      "355:\tlearn: 0.5093438\ttotal: 987ms\tremaining: 1.78s\n",
      "356:\tlearn: 0.5092882\ttotal: 989ms\tremaining: 1.78s\n",
      "357:\tlearn: 0.5092518\ttotal: 992ms\tremaining: 1.78s\n",
      "358:\tlearn: 0.5092073\ttotal: 995ms\tremaining: 1.78s\n",
      "359:\tlearn: 0.5091241\ttotal: 997ms\tremaining: 1.77s\n",
      "360:\tlearn: 0.5090754\ttotal: 1000ms\tremaining: 1.77s\n",
      "361:\tlearn: 0.5090138\ttotal: 1s\tremaining: 1.77s\n",
      "362:\tlearn: 0.5089354\ttotal: 1s\tremaining: 1.76s\n",
      "363:\tlearn: 0.5088780\ttotal: 1.01s\tremaining: 1.76s\n",
      "364:\tlearn: 0.5088017\ttotal: 1.01s\tremaining: 1.76s\n",
      "365:\tlearn: 0.5087588\ttotal: 1.01s\tremaining: 1.75s\n",
      "366:\tlearn: 0.5087096\ttotal: 1.01s\tremaining: 1.75s\n",
      "367:\tlearn: 0.5086187\ttotal: 1.02s\tremaining: 1.75s\n",
      "368:\tlearn: 0.5085168\ttotal: 1.02s\tremaining: 1.75s\n",
      "369:\tlearn: 0.5084539\ttotal: 1.02s\tremaining: 1.74s\n",
      "370:\tlearn: 0.5084077\ttotal: 1.02s\tremaining: 1.74s\n",
      "371:\tlearn: 0.5083608\ttotal: 1.03s\tremaining: 1.74s\n",
      "372:\tlearn: 0.5083258\ttotal: 1.03s\tremaining: 1.73s\n",
      "373:\tlearn: 0.5082875\ttotal: 1.03s\tremaining: 1.73s\n",
      "374:\tlearn: 0.5082259\ttotal: 1.04s\tremaining: 1.73s\n",
      "375:\tlearn: 0.5081338\ttotal: 1.04s\tremaining: 1.72s\n",
      "376:\tlearn: 0.5080377\ttotal: 1.04s\tremaining: 1.72s\n",
      "377:\tlearn: 0.5079755\ttotal: 1.04s\tremaining: 1.72s\n",
      "378:\tlearn: 0.5079475\ttotal: 1.04s\tremaining: 1.71s\n",
      "379:\tlearn: 0.5079135\ttotal: 1.05s\tremaining: 1.71s\n",
      "380:\tlearn: 0.5078648\ttotal: 1.05s\tremaining: 1.71s\n",
      "381:\tlearn: 0.5077950\ttotal: 1.05s\tremaining: 1.7s\n",
      "382:\tlearn: 0.5077343\ttotal: 1.05s\tremaining: 1.7s\n",
      "383:\tlearn: 0.5076741\ttotal: 1.06s\tremaining: 1.7s\n",
      "384:\tlearn: 0.5076070\ttotal: 1.06s\tremaining: 1.69s\n",
      "385:\tlearn: 0.5075425\ttotal: 1.06s\tremaining: 1.69s\n",
      "386:\tlearn: 0.5074700\ttotal: 1.07s\tremaining: 1.69s\n",
      "387:\tlearn: 0.5074161\ttotal: 1.07s\tremaining: 1.69s\n",
      "388:\tlearn: 0.5073434\ttotal: 1.07s\tremaining: 1.68s\n",
      "389:\tlearn: 0.5072948\ttotal: 1.07s\tremaining: 1.68s\n",
      "390:\tlearn: 0.5071946\ttotal: 1.08s\tremaining: 1.68s\n",
      "391:\tlearn: 0.5071569\ttotal: 1.08s\tremaining: 1.68s\n",
      "392:\tlearn: 0.5071022\ttotal: 1.08s\tremaining: 1.67s\n",
      "393:\tlearn: 0.5070682\ttotal: 1.08s\tremaining: 1.67s\n",
      "394:\tlearn: 0.5070354\ttotal: 1.09s\tremaining: 1.67s\n",
      "395:\tlearn: 0.5069729\ttotal: 1.09s\tremaining: 1.66s\n",
      "396:\tlearn: 0.5069312\ttotal: 1.09s\tremaining: 1.66s\n",
      "397:\tlearn: 0.5068747\ttotal: 1.1s\tremaining: 1.66s\n",
      "398:\tlearn: 0.5068115\ttotal: 1.1s\tremaining: 1.66s\n",
      "399:\tlearn: 0.5067862\ttotal: 1.1s\tremaining: 1.65s\n",
      "400:\tlearn: 0.5067378\ttotal: 1.1s\tremaining: 1.65s\n",
      "401:\tlearn: 0.5066892\ttotal: 1.11s\tremaining: 1.65s\n",
      "402:\tlearn: 0.5066375\ttotal: 1.11s\tremaining: 1.65s\n",
      "403:\tlearn: 0.5065925\ttotal: 1.11s\tremaining: 1.64s\n",
      "404:\tlearn: 0.5065418\ttotal: 1.12s\tremaining: 1.64s\n",
      "405:\tlearn: 0.5064694\ttotal: 1.12s\tremaining: 1.64s\n",
      "406:\tlearn: 0.5064365\ttotal: 1.12s\tremaining: 1.63s\n",
      "407:\tlearn: 0.5063947\ttotal: 1.12s\tremaining: 1.63s\n",
      "408:\tlearn: 0.5063437\ttotal: 1.13s\tremaining: 1.63s\n",
      "409:\tlearn: 0.5063025\ttotal: 1.13s\tremaining: 1.63s\n",
      "410:\tlearn: 0.5062697\ttotal: 1.13s\tremaining: 1.62s\n",
      "411:\tlearn: 0.5062217\ttotal: 1.13s\tremaining: 1.62s\n",
      "412:\tlearn: 0.5061869\ttotal: 1.14s\tremaining: 1.62s\n",
      "413:\tlearn: 0.5061650\ttotal: 1.14s\tremaining: 1.61s\n",
      "414:\tlearn: 0.5061264\ttotal: 1.14s\tremaining: 1.61s\n",
      "415:\tlearn: 0.5060619\ttotal: 1.14s\tremaining: 1.61s\n",
      "416:\tlearn: 0.5060006\ttotal: 1.15s\tremaining: 1.6s\n",
      "417:\tlearn: 0.5059698\ttotal: 1.15s\tremaining: 1.6s\n",
      "418:\tlearn: 0.5059453\ttotal: 1.15s\tremaining: 1.6s\n",
      "419:\tlearn: 0.5058472\ttotal: 1.15s\tremaining: 1.59s\n",
      "420:\tlearn: 0.5057981\ttotal: 1.16s\tremaining: 1.59s\n",
      "421:\tlearn: 0.5057535\ttotal: 1.16s\tremaining: 1.59s\n",
      "422:\tlearn: 0.5056965\ttotal: 1.16s\tremaining: 1.58s\n",
      "423:\tlearn: 0.5056647\ttotal: 1.16s\tremaining: 1.58s\n",
      "424:\tlearn: 0.5056303\ttotal: 1.17s\tremaining: 1.58s\n",
      "425:\tlearn: 0.5055719\ttotal: 1.17s\tremaining: 1.58s\n",
      "426:\tlearn: 0.5054895\ttotal: 1.17s\tremaining: 1.57s\n",
      "427:\tlearn: 0.5054677\ttotal: 1.18s\tremaining: 1.57s\n",
      "428:\tlearn: 0.5054106\ttotal: 1.18s\tremaining: 1.57s\n",
      "429:\tlearn: 0.5053474\ttotal: 1.18s\tremaining: 1.56s\n",
      "430:\tlearn: 0.5052976\ttotal: 1.18s\tremaining: 1.56s\n",
      "431:\tlearn: 0.5052531\ttotal: 1.18s\tremaining: 1.56s\n",
      "432:\tlearn: 0.5052106\ttotal: 1.19s\tremaining: 1.55s\n",
      "433:\tlearn: 0.5051869\ttotal: 1.19s\tremaining: 1.55s\n",
      "434:\tlearn: 0.5051208\ttotal: 1.19s\tremaining: 1.55s\n",
      "435:\tlearn: 0.5050831\ttotal: 1.19s\tremaining: 1.54s\n",
      "436:\tlearn: 0.5050272\ttotal: 1.2s\tremaining: 1.54s\n",
      "437:\tlearn: 0.5049599\ttotal: 1.2s\tremaining: 1.54s\n",
      "438:\tlearn: 0.5049086\ttotal: 1.2s\tremaining: 1.54s\n",
      "439:\tlearn: 0.5048623\ttotal: 1.2s\tremaining: 1.53s\n",
      "440:\tlearn: 0.5048132\ttotal: 1.21s\tremaining: 1.53s\n",
      "441:\tlearn: 0.5047725\ttotal: 1.21s\tremaining: 1.53s\n",
      "442:\tlearn: 0.5046930\ttotal: 1.21s\tremaining: 1.52s\n",
      "443:\tlearn: 0.5046619\ttotal: 1.21s\tremaining: 1.52s\n",
      "444:\tlearn: 0.5046104\ttotal: 1.22s\tremaining: 1.52s\n",
      "445:\tlearn: 0.5045868\ttotal: 1.22s\tremaining: 1.51s\n",
      "446:\tlearn: 0.5045065\ttotal: 1.22s\tremaining: 1.51s\n",
      "447:\tlearn: 0.5044690\ttotal: 1.23s\tremaining: 1.51s\n",
      "448:\tlearn: 0.5043918\ttotal: 1.23s\tremaining: 1.51s\n",
      "449:\tlearn: 0.5043698\ttotal: 1.23s\tremaining: 1.5s\n",
      "450:\tlearn: 0.5043215\ttotal: 1.23s\tremaining: 1.5s\n",
      "451:\tlearn: 0.5042534\ttotal: 1.24s\tremaining: 1.5s\n",
      "452:\tlearn: 0.5042239\ttotal: 1.24s\tremaining: 1.5s\n",
      "453:\tlearn: 0.5041571\ttotal: 1.24s\tremaining: 1.49s\n",
      "454:\tlearn: 0.5041203\ttotal: 1.24s\tremaining: 1.49s\n",
      "455:\tlearn: 0.5040425\ttotal: 1.25s\tremaining: 1.49s\n",
      "456:\tlearn: 0.5039979\ttotal: 1.25s\tremaining: 1.48s\n",
      "457:\tlearn: 0.5039550\ttotal: 1.25s\tremaining: 1.48s\n",
      "458:\tlearn: 0.5038846\ttotal: 1.25s\tremaining: 1.48s\n",
      "459:\tlearn: 0.5038223\ttotal: 1.26s\tremaining: 1.48s\n",
      "460:\tlearn: 0.5037695\ttotal: 1.26s\tremaining: 1.47s\n",
      "461:\tlearn: 0.5037274\ttotal: 1.26s\tremaining: 1.47s\n",
      "462:\tlearn: 0.5036845\ttotal: 1.26s\tremaining: 1.47s\n",
      "463:\tlearn: 0.5036349\ttotal: 1.27s\tremaining: 1.46s\n",
      "464:\tlearn: 0.5036063\ttotal: 1.27s\tremaining: 1.46s\n",
      "465:\tlearn: 0.5035663\ttotal: 1.27s\tremaining: 1.46s\n",
      "466:\tlearn: 0.5035511\ttotal: 1.27s\tremaining: 1.46s\n",
      "467:\tlearn: 0.5034717\ttotal: 1.28s\tremaining: 1.45s\n",
      "468:\tlearn: 0.5034307\ttotal: 1.28s\tremaining: 1.45s\n",
      "469:\tlearn: 0.5033786\ttotal: 1.28s\tremaining: 1.45s\n",
      "470:\tlearn: 0.5033347\ttotal: 1.29s\tremaining: 1.45s\n",
      "471:\tlearn: 0.5033110\ttotal: 1.29s\tremaining: 1.44s\n",
      "472:\tlearn: 0.5032883\ttotal: 1.29s\tremaining: 1.44s\n",
      "473:\tlearn: 0.5032024\ttotal: 1.29s\tremaining: 1.44s\n",
      "474:\tlearn: 0.5031286\ttotal: 1.3s\tremaining: 1.43s\n",
      "475:\tlearn: 0.5031000\ttotal: 1.3s\tremaining: 1.43s\n",
      "476:\tlearn: 0.5030648\ttotal: 1.3s\tremaining: 1.43s\n",
      "477:\tlearn: 0.5029901\ttotal: 1.3s\tremaining: 1.43s\n",
      "478:\tlearn: 0.5029627\ttotal: 1.31s\tremaining: 1.42s\n",
      "479:\tlearn: 0.5028641\ttotal: 1.31s\tremaining: 1.42s\n",
      "480:\tlearn: 0.5028335\ttotal: 1.31s\tremaining: 1.42s\n",
      "481:\tlearn: 0.5027920\ttotal: 1.32s\tremaining: 1.41s\n",
      "482:\tlearn: 0.5027420\ttotal: 1.32s\tremaining: 1.41s\n",
      "483:\tlearn: 0.5026595\ttotal: 1.32s\tremaining: 1.41s\n",
      "484:\tlearn: 0.5026303\ttotal: 1.32s\tremaining: 1.41s\n",
      "485:\tlearn: 0.5025742\ttotal: 1.33s\tremaining: 1.4s\n",
      "486:\tlearn: 0.5025087\ttotal: 1.33s\tremaining: 1.4s\n",
      "487:\tlearn: 0.5024697\ttotal: 1.33s\tremaining: 1.4s\n",
      "488:\tlearn: 0.5024129\ttotal: 1.33s\tremaining: 1.4s\n",
      "489:\tlearn: 0.5023661\ttotal: 1.34s\tremaining: 1.39s\n",
      "490:\tlearn: 0.5023167\ttotal: 1.34s\tremaining: 1.39s\n",
      "491:\tlearn: 0.5022553\ttotal: 1.34s\tremaining: 1.39s\n",
      "492:\tlearn: 0.5022127\ttotal: 1.34s\tremaining: 1.38s\n",
      "493:\tlearn: 0.5021635\ttotal: 1.35s\tremaining: 1.38s\n",
      "494:\tlearn: 0.5021387\ttotal: 1.35s\tremaining: 1.38s\n",
      "495:\tlearn: 0.5020935\ttotal: 1.35s\tremaining: 1.38s\n",
      "496:\tlearn: 0.5020555\ttotal: 1.36s\tremaining: 1.37s\n",
      "497:\tlearn: 0.5019949\ttotal: 1.36s\tremaining: 1.37s\n",
      "498:\tlearn: 0.5019716\ttotal: 1.36s\tremaining: 1.37s\n",
      "499:\tlearn: 0.5019550\ttotal: 1.36s\tremaining: 1.36s\n",
      "500:\tlearn: 0.5019297\ttotal: 1.37s\tremaining: 1.36s\n",
      "501:\tlearn: 0.5018964\ttotal: 1.37s\tremaining: 1.36s\n",
      "502:\tlearn: 0.5018427\ttotal: 1.37s\tremaining: 1.36s\n",
      "503:\tlearn: 0.5018159\ttotal: 1.38s\tremaining: 1.35s\n",
      "504:\tlearn: 0.5017719\ttotal: 1.38s\tremaining: 1.35s\n",
      "505:\tlearn: 0.5017279\ttotal: 1.38s\tremaining: 1.35s\n",
      "506:\tlearn: 0.5016789\ttotal: 1.38s\tremaining: 1.35s\n",
      "507:\tlearn: 0.5016135\ttotal: 1.39s\tremaining: 1.34s\n",
      "508:\tlearn: 0.5015732\ttotal: 1.39s\tremaining: 1.34s\n",
      "509:\tlearn: 0.5015295\ttotal: 1.39s\tremaining: 1.34s\n",
      "510:\tlearn: 0.5014776\ttotal: 1.4s\tremaining: 1.34s\n",
      "511:\tlearn: 0.5014458\ttotal: 1.4s\tremaining: 1.33s\n",
      "512:\tlearn: 0.5013845\ttotal: 1.4s\tremaining: 1.33s\n",
      "513:\tlearn: 0.5013489\ttotal: 1.4s\tremaining: 1.33s\n",
      "514:\tlearn: 0.5013260\ttotal: 1.41s\tremaining: 1.32s\n",
      "515:\tlearn: 0.5013074\ttotal: 1.41s\tremaining: 1.32s\n",
      "516:\tlearn: 0.5012278\ttotal: 1.41s\tremaining: 1.32s\n",
      "517:\tlearn: 0.5011880\ttotal: 1.42s\tremaining: 1.32s\n",
      "518:\tlearn: 0.5011594\ttotal: 1.42s\tremaining: 1.31s\n",
      "519:\tlearn: 0.5011304\ttotal: 1.42s\tremaining: 1.31s\n",
      "520:\tlearn: 0.5010981\ttotal: 1.42s\tremaining: 1.31s\n",
      "521:\tlearn: 0.5010430\ttotal: 1.43s\tremaining: 1.31s\n",
      "522:\tlearn: 0.5009739\ttotal: 1.43s\tremaining: 1.3s\n",
      "523:\tlearn: 0.5009199\ttotal: 1.43s\tremaining: 1.3s\n",
      "524:\tlearn: 0.5008609\ttotal: 1.44s\tremaining: 1.3s\n",
      "525:\tlearn: 0.5008022\ttotal: 1.44s\tremaining: 1.29s\n",
      "526:\tlearn: 0.5007670\ttotal: 1.44s\tremaining: 1.29s\n",
      "527:\tlearn: 0.5007247\ttotal: 1.44s\tremaining: 1.29s\n",
      "528:\tlearn: 0.5006781\ttotal: 1.45s\tremaining: 1.29s\n",
      "529:\tlearn: 0.5006440\ttotal: 1.45s\tremaining: 1.28s\n",
      "530:\tlearn: 0.5005930\ttotal: 1.45s\tremaining: 1.28s\n",
      "531:\tlearn: 0.5005494\ttotal: 1.45s\tremaining: 1.28s\n",
      "532:\tlearn: 0.5005298\ttotal: 1.46s\tremaining: 1.27s\n",
      "533:\tlearn: 0.5004916\ttotal: 1.46s\tremaining: 1.27s\n",
      "534:\tlearn: 0.5004639\ttotal: 1.46s\tremaining: 1.27s\n",
      "535:\tlearn: 0.5004488\ttotal: 1.46s\tremaining: 1.27s\n",
      "536:\tlearn: 0.5003982\ttotal: 1.47s\tremaining: 1.26s\n",
      "537:\tlearn: 0.5003575\ttotal: 1.47s\tremaining: 1.26s\n",
      "538:\tlearn: 0.5003198\ttotal: 1.47s\tremaining: 1.26s\n",
      "539:\tlearn: 0.5002706\ttotal: 1.47s\tremaining: 1.25s\n",
      "540:\tlearn: 0.5002165\ttotal: 1.48s\tremaining: 1.25s\n",
      "541:\tlearn: 0.5001656\ttotal: 1.48s\tremaining: 1.25s\n",
      "542:\tlearn: 0.5001327\ttotal: 1.48s\tremaining: 1.25s\n",
      "543:\tlearn: 0.5000971\ttotal: 1.48s\tremaining: 1.24s\n",
      "544:\tlearn: 0.5000471\ttotal: 1.49s\tremaining: 1.24s\n",
      "545:\tlearn: 0.5000041\ttotal: 1.49s\tremaining: 1.24s\n",
      "546:\tlearn: 0.4999448\ttotal: 1.49s\tremaining: 1.23s\n",
      "547:\tlearn: 0.4999111\ttotal: 1.49s\tremaining: 1.23s\n",
      "548:\tlearn: 0.4998462\ttotal: 1.5s\tremaining: 1.23s\n",
      "549:\tlearn: 0.4998063\ttotal: 1.5s\tremaining: 1.23s\n",
      "550:\tlearn: 0.4997694\ttotal: 1.5s\tremaining: 1.22s\n",
      "551:\tlearn: 0.4996985\ttotal: 1.5s\tremaining: 1.22s\n",
      "552:\tlearn: 0.4996534\ttotal: 1.51s\tremaining: 1.22s\n",
      "553:\tlearn: 0.4996290\ttotal: 1.51s\tremaining: 1.22s\n",
      "554:\tlearn: 0.4995802\ttotal: 1.51s\tremaining: 1.21s\n",
      "555:\tlearn: 0.4995528\ttotal: 1.51s\tremaining: 1.21s\n",
      "556:\tlearn: 0.4995206\ttotal: 1.52s\tremaining: 1.21s\n",
      "557:\tlearn: 0.4994720\ttotal: 1.52s\tremaining: 1.2s\n",
      "558:\tlearn: 0.4994193\ttotal: 1.52s\tremaining: 1.2s\n",
      "559:\tlearn: 0.4993652\ttotal: 1.53s\tremaining: 1.2s\n",
      "560:\tlearn: 0.4993382\ttotal: 1.53s\tremaining: 1.2s\n",
      "561:\tlearn: 0.4992942\ttotal: 1.53s\tremaining: 1.19s\n",
      "562:\tlearn: 0.4992401\ttotal: 1.53s\tremaining: 1.19s\n",
      "563:\tlearn: 0.4991864\ttotal: 1.54s\tremaining: 1.19s\n",
      "564:\tlearn: 0.4991455\ttotal: 1.54s\tremaining: 1.19s\n",
      "565:\tlearn: 0.4991030\ttotal: 1.54s\tremaining: 1.18s\n",
      "566:\tlearn: 0.4990537\ttotal: 1.54s\tremaining: 1.18s\n",
      "567:\tlearn: 0.4990359\ttotal: 1.55s\tremaining: 1.18s\n",
      "568:\tlearn: 0.4989707\ttotal: 1.55s\tremaining: 1.17s\n",
      "569:\tlearn: 0.4989515\ttotal: 1.55s\tremaining: 1.17s\n",
      "570:\tlearn: 0.4988699\ttotal: 1.56s\tremaining: 1.17s\n",
      "571:\tlearn: 0.4988457\ttotal: 1.56s\tremaining: 1.17s\n",
      "572:\tlearn: 0.4988058\ttotal: 1.56s\tremaining: 1.16s\n",
      "573:\tlearn: 0.4987848\ttotal: 1.56s\tremaining: 1.16s\n",
      "574:\tlearn: 0.4987583\ttotal: 1.57s\tremaining: 1.16s\n",
      "575:\tlearn: 0.4987206\ttotal: 1.57s\tremaining: 1.16s\n",
      "576:\tlearn: 0.4986855\ttotal: 1.57s\tremaining: 1.15s\n",
      "577:\tlearn: 0.4986590\ttotal: 1.57s\tremaining: 1.15s\n",
      "578:\tlearn: 0.4986297\ttotal: 1.58s\tremaining: 1.15s\n",
      "579:\tlearn: 0.4986065\ttotal: 1.58s\tremaining: 1.14s\n",
      "580:\tlearn: 0.4985651\ttotal: 1.58s\tremaining: 1.14s\n",
      "581:\tlearn: 0.4985095\ttotal: 1.58s\tremaining: 1.14s\n",
      "582:\tlearn: 0.4984690\ttotal: 1.59s\tremaining: 1.13s\n",
      "583:\tlearn: 0.4984437\ttotal: 1.59s\tremaining: 1.13s\n",
      "584:\tlearn: 0.4984301\ttotal: 1.59s\tremaining: 1.13s\n",
      "585:\tlearn: 0.4983908\ttotal: 1.59s\tremaining: 1.13s\n",
      "586:\tlearn: 0.4983756\ttotal: 1.6s\tremaining: 1.12s\n",
      "587:\tlearn: 0.4983542\ttotal: 1.6s\tremaining: 1.12s\n",
      "588:\tlearn: 0.4983238\ttotal: 1.6s\tremaining: 1.12s\n",
      "589:\tlearn: 0.4982655\ttotal: 1.6s\tremaining: 1.11s\n",
      "590:\tlearn: 0.4982270\ttotal: 1.61s\tremaining: 1.11s\n",
      "591:\tlearn: 0.4982101\ttotal: 1.61s\tremaining: 1.11s\n",
      "592:\tlearn: 0.4981676\ttotal: 1.61s\tremaining: 1.11s\n",
      "593:\tlearn: 0.4981337\ttotal: 1.61s\tremaining: 1.1s\n",
      "594:\tlearn: 0.4981157\ttotal: 1.62s\tremaining: 1.1s\n",
      "595:\tlearn: 0.4980661\ttotal: 1.62s\tremaining: 1.1s\n",
      "596:\tlearn: 0.4980318\ttotal: 1.62s\tremaining: 1.1s\n",
      "597:\tlearn: 0.4979858\ttotal: 1.63s\tremaining: 1.09s\n",
      "598:\tlearn: 0.4979530\ttotal: 1.63s\tremaining: 1.09s\n",
      "599:\tlearn: 0.4979293\ttotal: 1.63s\tremaining: 1.09s\n",
      "600:\tlearn: 0.4978940\ttotal: 1.64s\tremaining: 1.08s\n",
      "601:\tlearn: 0.4978486\ttotal: 1.64s\tremaining: 1.08s\n",
      "602:\tlearn: 0.4978030\ttotal: 1.64s\tremaining: 1.08s\n",
      "603:\tlearn: 0.4977546\ttotal: 1.64s\tremaining: 1.08s\n",
      "604:\tlearn: 0.4977128\ttotal: 1.65s\tremaining: 1.07s\n",
      "605:\tlearn: 0.4976712\ttotal: 1.65s\tremaining: 1.07s\n",
      "606:\tlearn: 0.4976502\ttotal: 1.65s\tremaining: 1.07s\n",
      "607:\tlearn: 0.4976306\ttotal: 1.65s\tremaining: 1.07s\n",
      "608:\tlearn: 0.4976074\ttotal: 1.66s\tremaining: 1.06s\n",
      "609:\tlearn: 0.4975573\ttotal: 1.66s\tremaining: 1.06s\n",
      "610:\tlearn: 0.4974982\ttotal: 1.66s\tremaining: 1.06s\n",
      "611:\tlearn: 0.4974591\ttotal: 1.66s\tremaining: 1.05s\n",
      "612:\tlearn: 0.4974314\ttotal: 1.67s\tremaining: 1.05s\n",
      "613:\tlearn: 0.4973858\ttotal: 1.67s\tremaining: 1.05s\n",
      "614:\tlearn: 0.4973587\ttotal: 1.67s\tremaining: 1.05s\n",
      "615:\tlearn: 0.4972842\ttotal: 1.67s\tremaining: 1.04s\n",
      "616:\tlearn: 0.4972536\ttotal: 1.68s\tremaining: 1.04s\n",
      "617:\tlearn: 0.4972208\ttotal: 1.68s\tremaining: 1.04s\n",
      "618:\tlearn: 0.4971693\ttotal: 1.68s\tremaining: 1.03s\n",
      "619:\tlearn: 0.4971438\ttotal: 1.69s\tremaining: 1.03s\n",
      "620:\tlearn: 0.4971227\ttotal: 1.69s\tremaining: 1.03s\n",
      "621:\tlearn: 0.4970774\ttotal: 1.69s\tremaining: 1.03s\n",
      "622:\tlearn: 0.4970260\ttotal: 1.69s\tremaining: 1.02s\n",
      "623:\tlearn: 0.4970108\ttotal: 1.7s\tremaining: 1.02s\n",
      "624:\tlearn: 0.4969765\ttotal: 1.7s\tremaining: 1.02s\n",
      "625:\tlearn: 0.4969429\ttotal: 1.7s\tremaining: 1.02s\n",
      "626:\tlearn: 0.4969020\ttotal: 1.7s\tremaining: 1.01s\n",
      "627:\tlearn: 0.4968815\ttotal: 1.71s\tremaining: 1.01s\n",
      "628:\tlearn: 0.4968433\ttotal: 1.71s\tremaining: 1.01s\n",
      "629:\tlearn: 0.4968089\ttotal: 1.71s\tremaining: 1.01s\n",
      "630:\tlearn: 0.4967733\ttotal: 1.72s\tremaining: 1s\n",
      "631:\tlearn: 0.4967346\ttotal: 1.72s\tremaining: 1s\n",
      "632:\tlearn: 0.4966900\ttotal: 1.72s\tremaining: 998ms\n",
      "633:\tlearn: 0.4966428\ttotal: 1.72s\tremaining: 995ms\n",
      "634:\tlearn: 0.4966248\ttotal: 1.73s\tremaining: 992ms\n",
      "635:\tlearn: 0.4965566\ttotal: 1.73s\tremaining: 990ms\n",
      "636:\tlearn: 0.4965330\ttotal: 1.73s\tremaining: 987ms\n",
      "637:\tlearn: 0.4965049\ttotal: 1.73s\tremaining: 984ms\n",
      "638:\tlearn: 0.4964391\ttotal: 1.74s\tremaining: 982ms\n",
      "639:\tlearn: 0.4964168\ttotal: 1.74s\tremaining: 979ms\n",
      "640:\tlearn: 0.4963967\ttotal: 1.74s\tremaining: 976ms\n",
      "641:\tlearn: 0.4963666\ttotal: 1.75s\tremaining: 973ms\n",
      "642:\tlearn: 0.4963496\ttotal: 1.75s\tremaining: 971ms\n",
      "643:\tlearn: 0.4963072\ttotal: 1.75s\tremaining: 968ms\n",
      "644:\tlearn: 0.4962667\ttotal: 1.75s\tremaining: 965ms\n",
      "645:\tlearn: 0.4962431\ttotal: 1.76s\tremaining: 963ms\n",
      "646:\tlearn: 0.4961834\ttotal: 1.76s\tremaining: 960ms\n",
      "647:\tlearn: 0.4961440\ttotal: 1.76s\tremaining: 957ms\n",
      "648:\tlearn: 0.4961220\ttotal: 1.76s\tremaining: 955ms\n",
      "649:\tlearn: 0.4960979\ttotal: 1.77s\tremaining: 952ms\n",
      "650:\tlearn: 0.4960553\ttotal: 1.77s\tremaining: 949ms\n",
      "651:\tlearn: 0.4960226\ttotal: 1.77s\tremaining: 946ms\n",
      "652:\tlearn: 0.4960030\ttotal: 1.77s\tremaining: 943ms\n",
      "653:\tlearn: 0.4959701\ttotal: 1.78s\tremaining: 941ms\n",
      "654:\tlearn: 0.4959414\ttotal: 1.78s\tremaining: 938ms\n",
      "655:\tlearn: 0.4959159\ttotal: 1.78s\tremaining: 935ms\n",
      "656:\tlearn: 0.4958835\ttotal: 1.79s\tremaining: 933ms\n",
      "657:\tlearn: 0.4958414\ttotal: 1.79s\tremaining: 930ms\n",
      "658:\tlearn: 0.4958100\ttotal: 1.79s\tremaining: 927ms\n",
      "659:\tlearn: 0.4957836\ttotal: 1.79s\tremaining: 925ms\n",
      "660:\tlearn: 0.4957598\ttotal: 1.8s\tremaining: 922ms\n",
      "661:\tlearn: 0.4957404\ttotal: 1.8s\tremaining: 919ms\n",
      "662:\tlearn: 0.4957156\ttotal: 1.8s\tremaining: 916ms\n",
      "663:\tlearn: 0.4956939\ttotal: 1.8s\tremaining: 914ms\n",
      "664:\tlearn: 0.4956727\ttotal: 1.81s\tremaining: 911ms\n",
      "665:\tlearn: 0.4956216\ttotal: 1.81s\tremaining: 909ms\n",
      "666:\tlearn: 0.4955718\ttotal: 1.81s\tremaining: 906ms\n",
      "667:\tlearn: 0.4955114\ttotal: 1.82s\tremaining: 903ms\n",
      "668:\tlearn: 0.4954719\ttotal: 1.82s\tremaining: 901ms\n",
      "669:\tlearn: 0.4954542\ttotal: 1.82s\tremaining: 898ms\n",
      "670:\tlearn: 0.4954240\ttotal: 1.82s\tremaining: 895ms\n",
      "671:\tlearn: 0.4953993\ttotal: 1.83s\tremaining: 893ms\n",
      "672:\tlearn: 0.4953845\ttotal: 1.83s\tremaining: 890ms\n",
      "673:\tlearn: 0.4953172\ttotal: 1.83s\tremaining: 887ms\n",
      "674:\tlearn: 0.4953048\ttotal: 1.84s\tremaining: 884ms\n",
      "675:\tlearn: 0.4952607\ttotal: 1.84s\tremaining: 882ms\n",
      "676:\tlearn: 0.4952111\ttotal: 1.84s\tremaining: 879ms\n",
      "677:\tlearn: 0.4951778\ttotal: 1.84s\tremaining: 876ms\n",
      "678:\tlearn: 0.4951363\ttotal: 1.85s\tremaining: 873ms\n",
      "679:\tlearn: 0.4950645\ttotal: 1.85s\tremaining: 871ms\n",
      "680:\tlearn: 0.4950173\ttotal: 1.85s\tremaining: 868ms\n",
      "681:\tlearn: 0.4949853\ttotal: 1.85s\tremaining: 865ms\n",
      "682:\tlearn: 0.4949469\ttotal: 1.86s\tremaining: 862ms\n",
      "683:\tlearn: 0.4949040\ttotal: 1.86s\tremaining: 860ms\n",
      "684:\tlearn: 0.4948645\ttotal: 1.86s\tremaining: 857ms\n",
      "685:\tlearn: 0.4948119\ttotal: 1.87s\tremaining: 854ms\n",
      "686:\tlearn: 0.4948035\ttotal: 1.87s\tremaining: 852ms\n",
      "687:\tlearn: 0.4947426\ttotal: 1.87s\tremaining: 849ms\n",
      "688:\tlearn: 0.4946969\ttotal: 1.87s\tremaining: 846ms\n",
      "689:\tlearn: 0.4946613\ttotal: 1.88s\tremaining: 844ms\n",
      "690:\tlearn: 0.4946286\ttotal: 1.88s\tremaining: 841ms\n",
      "691:\tlearn: 0.4945584\ttotal: 1.88s\tremaining: 838ms\n",
      "692:\tlearn: 0.4945214\ttotal: 1.89s\tremaining: 836ms\n",
      "693:\tlearn: 0.4944520\ttotal: 1.89s\tremaining: 833ms\n",
      "694:\tlearn: 0.4944032\ttotal: 1.89s\tremaining: 830ms\n",
      "695:\tlearn: 0.4943386\ttotal: 1.89s\tremaining: 827ms\n",
      "696:\tlearn: 0.4943126\ttotal: 1.9s\tremaining: 825ms\n",
      "697:\tlearn: 0.4942802\ttotal: 1.9s\tremaining: 822ms\n",
      "698:\tlearn: 0.4942426\ttotal: 1.9s\tremaining: 819ms\n",
      "699:\tlearn: 0.4941961\ttotal: 1.9s\tremaining: 816ms\n",
      "700:\tlearn: 0.4941494\ttotal: 1.91s\tremaining: 814ms\n",
      "701:\tlearn: 0.4941259\ttotal: 1.91s\tremaining: 811ms\n",
      "702:\tlearn: 0.4940592\ttotal: 1.91s\tremaining: 808ms\n",
      "703:\tlearn: 0.4940271\ttotal: 1.92s\tremaining: 805ms\n",
      "704:\tlearn: 0.4939896\ttotal: 1.92s\tremaining: 803ms\n",
      "705:\tlearn: 0.4939578\ttotal: 1.92s\tremaining: 800ms\n",
      "706:\tlearn: 0.4939224\ttotal: 1.92s\tremaining: 797ms\n",
      "707:\tlearn: 0.4938936\ttotal: 1.93s\tremaining: 794ms\n",
      "708:\tlearn: 0.4938519\ttotal: 1.93s\tremaining: 792ms\n",
      "709:\tlearn: 0.4938251\ttotal: 1.93s\tremaining: 789ms\n",
      "710:\tlearn: 0.4938078\ttotal: 1.93s\tremaining: 786ms\n",
      "711:\tlearn: 0.4937590\ttotal: 1.94s\tremaining: 783ms\n",
      "712:\tlearn: 0.4937289\ttotal: 1.94s\tremaining: 781ms\n",
      "713:\tlearn: 0.4937052\ttotal: 1.94s\tremaining: 778ms\n",
      "714:\tlearn: 0.4936481\ttotal: 1.94s\tremaining: 775ms\n",
      "715:\tlearn: 0.4936137\ttotal: 1.95s\tremaining: 772ms\n",
      "716:\tlearn: 0.4935920\ttotal: 1.95s\tremaining: 770ms\n",
      "717:\tlearn: 0.4935525\ttotal: 1.95s\tremaining: 767ms\n",
      "718:\tlearn: 0.4935142\ttotal: 1.96s\tremaining: 765ms\n",
      "719:\tlearn: 0.4934760\ttotal: 1.96s\tremaining: 762ms\n",
      "720:\tlearn: 0.4934518\ttotal: 1.96s\tremaining: 759ms\n",
      "721:\tlearn: 0.4934032\ttotal: 1.96s\tremaining: 756ms\n",
      "722:\tlearn: 0.4933280\ttotal: 1.97s\tremaining: 754ms\n",
      "723:\tlearn: 0.4932870\ttotal: 1.97s\tremaining: 751ms\n",
      "724:\tlearn: 0.4932498\ttotal: 1.97s\tremaining: 748ms\n",
      "725:\tlearn: 0.4932271\ttotal: 1.98s\tremaining: 746ms\n",
      "726:\tlearn: 0.4932046\ttotal: 1.98s\tremaining: 743ms\n",
      "727:\tlearn: 0.4931542\ttotal: 1.98s\tremaining: 740ms\n",
      "728:\tlearn: 0.4931088\ttotal: 1.98s\tremaining: 737ms\n",
      "729:\tlearn: 0.4930843\ttotal: 1.99s\tremaining: 735ms\n",
      "730:\tlearn: 0.4930298\ttotal: 1.99s\tremaining: 732ms\n",
      "731:\tlearn: 0.4930180\ttotal: 1.99s\tremaining: 729ms\n",
      "732:\tlearn: 0.4929885\ttotal: 1.99s\tremaining: 726ms\n",
      "733:\tlearn: 0.4929189\ttotal: 2s\tremaining: 724ms\n",
      "734:\tlearn: 0.4928964\ttotal: 2s\tremaining: 721ms\n",
      "735:\tlearn: 0.4928787\ttotal: 2s\tremaining: 718ms\n",
      "736:\tlearn: 0.4928561\ttotal: 2s\tremaining: 716ms\n",
      "737:\tlearn: 0.4928332\ttotal: 2.01s\tremaining: 713ms\n",
      "738:\tlearn: 0.4927722\ttotal: 2.01s\tremaining: 710ms\n",
      "739:\tlearn: 0.4927445\ttotal: 2.01s\tremaining: 708ms\n",
      "740:\tlearn: 0.4926905\ttotal: 2.02s\tremaining: 705ms\n",
      "741:\tlearn: 0.4926609\ttotal: 2.02s\tremaining: 702ms\n",
      "742:\tlearn: 0.4926227\ttotal: 2.02s\tremaining: 699ms\n",
      "743:\tlearn: 0.4925836\ttotal: 2.02s\tremaining: 697ms\n",
      "744:\tlearn: 0.4925525\ttotal: 2.03s\tremaining: 694ms\n",
      "745:\tlearn: 0.4925137\ttotal: 2.03s\tremaining: 691ms\n",
      "746:\tlearn: 0.4924990\ttotal: 2.03s\tremaining: 688ms\n",
      "747:\tlearn: 0.4924630\ttotal: 2.03s\tremaining: 685ms\n",
      "748:\tlearn: 0.4924456\ttotal: 2.04s\tremaining: 683ms\n",
      "749:\tlearn: 0.4924208\ttotal: 2.04s\tremaining: 680ms\n",
      "750:\tlearn: 0.4923645\ttotal: 2.04s\tremaining: 677ms\n",
      "751:\tlearn: 0.4923334\ttotal: 2.04s\tremaining: 674ms\n",
      "752:\tlearn: 0.4922680\ttotal: 2.05s\tremaining: 672ms\n",
      "753:\tlearn: 0.4922316\ttotal: 2.05s\tremaining: 669ms\n",
      "754:\tlearn: 0.4921867\ttotal: 2.05s\tremaining: 666ms\n",
      "755:\tlearn: 0.4921454\ttotal: 2.06s\tremaining: 664ms\n",
      "756:\tlearn: 0.4920961\ttotal: 2.06s\tremaining: 661ms\n",
      "757:\tlearn: 0.4920596\ttotal: 2.06s\tremaining: 658ms\n",
      "758:\tlearn: 0.4920148\ttotal: 2.06s\tremaining: 656ms\n",
      "759:\tlearn: 0.4919752\ttotal: 2.07s\tremaining: 653ms\n",
      "760:\tlearn: 0.4919385\ttotal: 2.07s\tremaining: 650ms\n",
      "761:\tlearn: 0.4919242\ttotal: 2.07s\tremaining: 647ms\n",
      "762:\tlearn: 0.4919038\ttotal: 2.07s\tremaining: 644ms\n",
      "763:\tlearn: 0.4918801\ttotal: 2.08s\tremaining: 642ms\n",
      "764:\tlearn: 0.4918484\ttotal: 2.08s\tremaining: 639ms\n",
      "765:\tlearn: 0.4918155\ttotal: 2.08s\tremaining: 636ms\n",
      "766:\tlearn: 0.4917726\ttotal: 2.08s\tremaining: 634ms\n",
      "767:\tlearn: 0.4917519\ttotal: 2.09s\tremaining: 631ms\n",
      "768:\tlearn: 0.4917042\ttotal: 2.09s\tremaining: 628ms\n",
      "769:\tlearn: 0.4916626\ttotal: 2.09s\tremaining: 626ms\n",
      "770:\tlearn: 0.4915944\ttotal: 2.1s\tremaining: 623ms\n",
      "771:\tlearn: 0.4915655\ttotal: 2.1s\tremaining: 620ms\n",
      "772:\tlearn: 0.4915301\ttotal: 2.1s\tremaining: 618ms\n",
      "773:\tlearn: 0.4915230\ttotal: 2.1s\tremaining: 615ms\n",
      "774:\tlearn: 0.4914716\ttotal: 2.11s\tremaining: 612ms\n",
      "775:\tlearn: 0.4914118\ttotal: 2.11s\tremaining: 609ms\n",
      "776:\tlearn: 0.4913805\ttotal: 2.11s\tremaining: 607ms\n",
      "777:\tlearn: 0.4913447\ttotal: 2.12s\tremaining: 604ms\n",
      "778:\tlearn: 0.4913231\ttotal: 2.12s\tremaining: 601ms\n",
      "779:\tlearn: 0.4913066\ttotal: 2.12s\tremaining: 598ms\n",
      "780:\tlearn: 0.4912565\ttotal: 2.12s\tremaining: 596ms\n",
      "781:\tlearn: 0.4912278\ttotal: 2.13s\tremaining: 593ms\n",
      "782:\tlearn: 0.4911982\ttotal: 2.13s\tremaining: 590ms\n",
      "783:\tlearn: 0.4911500\ttotal: 2.13s\tremaining: 587ms\n",
      "784:\tlearn: 0.4911192\ttotal: 2.13s\tremaining: 585ms\n",
      "785:\tlearn: 0.4910705\ttotal: 2.14s\tremaining: 582ms\n",
      "786:\tlearn: 0.4910478\ttotal: 2.14s\tremaining: 579ms\n",
      "787:\tlearn: 0.4910260\ttotal: 2.14s\tremaining: 576ms\n",
      "788:\tlearn: 0.4909846\ttotal: 2.15s\tremaining: 574ms\n",
      "789:\tlearn: 0.4909438\ttotal: 2.15s\tremaining: 571ms\n",
      "790:\tlearn: 0.4909147\ttotal: 2.15s\tremaining: 568ms\n",
      "791:\tlearn: 0.4908858\ttotal: 2.15s\tremaining: 566ms\n",
      "792:\tlearn: 0.4908303\ttotal: 2.16s\tremaining: 563ms\n",
      "793:\tlearn: 0.4908039\ttotal: 2.16s\tremaining: 560ms\n",
      "794:\tlearn: 0.4907753\ttotal: 2.16s\tremaining: 557ms\n",
      "795:\tlearn: 0.4907372\ttotal: 2.16s\tremaining: 554ms\n",
      "796:\tlearn: 0.4906929\ttotal: 2.17s\tremaining: 552ms\n",
      "797:\tlearn: 0.4906528\ttotal: 2.17s\tremaining: 549ms\n",
      "798:\tlearn: 0.4905998\ttotal: 2.17s\tremaining: 546ms\n",
      "799:\tlearn: 0.4905452\ttotal: 2.17s\tremaining: 544ms\n",
      "800:\tlearn: 0.4905127\ttotal: 2.18s\tremaining: 541ms\n",
      "801:\tlearn: 0.4904790\ttotal: 2.18s\tremaining: 538ms\n",
      "802:\tlearn: 0.4904616\ttotal: 2.18s\tremaining: 535ms\n",
      "803:\tlearn: 0.4904406\ttotal: 2.18s\tremaining: 532ms\n",
      "804:\tlearn: 0.4903850\ttotal: 2.19s\tremaining: 530ms\n",
      "805:\tlearn: 0.4903574\ttotal: 2.19s\tremaining: 527ms\n",
      "806:\tlearn: 0.4903059\ttotal: 2.19s\tremaining: 524ms\n",
      "807:\tlearn: 0.4902458\ttotal: 2.19s\tremaining: 522ms\n",
      "808:\tlearn: 0.4902164\ttotal: 2.2s\tremaining: 519ms\n",
      "809:\tlearn: 0.4901766\ttotal: 2.2s\tremaining: 516ms\n",
      "810:\tlearn: 0.4901188\ttotal: 2.2s\tremaining: 514ms\n",
      "811:\tlearn: 0.4900934\ttotal: 2.21s\tremaining: 511ms\n",
      "812:\tlearn: 0.4900606\ttotal: 2.21s\tremaining: 508ms\n",
      "813:\tlearn: 0.4900483\ttotal: 2.21s\tremaining: 505ms\n",
      "814:\tlearn: 0.4900253\ttotal: 2.21s\tremaining: 503ms\n",
      "815:\tlearn: 0.4900010\ttotal: 2.22s\tremaining: 500ms\n",
      "816:\tlearn: 0.4899689\ttotal: 2.22s\tremaining: 497ms\n",
      "817:\tlearn: 0.4899306\ttotal: 2.22s\tremaining: 494ms\n",
      "818:\tlearn: 0.4898847\ttotal: 2.23s\tremaining: 492ms\n",
      "819:\tlearn: 0.4898650\ttotal: 2.23s\tremaining: 489ms\n",
      "820:\tlearn: 0.4898498\ttotal: 2.23s\tremaining: 486ms\n",
      "821:\tlearn: 0.4898015\ttotal: 2.23s\tremaining: 483ms\n",
      "822:\tlearn: 0.4897768\ttotal: 2.23s\tremaining: 481ms\n",
      "823:\tlearn: 0.4897548\ttotal: 2.24s\tremaining: 478ms\n",
      "824:\tlearn: 0.4897312\ttotal: 2.24s\tremaining: 475ms\n",
      "825:\tlearn: 0.4897056\ttotal: 2.24s\tremaining: 473ms\n",
      "826:\tlearn: 0.4896398\ttotal: 2.25s\tremaining: 470ms\n",
      "827:\tlearn: 0.4895922\ttotal: 2.25s\tremaining: 467ms\n",
      "828:\tlearn: 0.4895755\ttotal: 2.25s\tremaining: 464ms\n",
      "829:\tlearn: 0.4895525\ttotal: 2.25s\tremaining: 462ms\n",
      "830:\tlearn: 0.4895369\ttotal: 2.26s\tremaining: 459ms\n",
      "831:\tlearn: 0.4895123\ttotal: 2.26s\tremaining: 456ms\n",
      "832:\tlearn: 0.4895018\ttotal: 2.26s\tremaining: 453ms\n",
      "833:\tlearn: 0.4894725\ttotal: 2.26s\tremaining: 451ms\n",
      "834:\tlearn: 0.4894508\ttotal: 2.27s\tremaining: 448ms\n",
      "835:\tlearn: 0.4894159\ttotal: 2.27s\tremaining: 445ms\n",
      "836:\tlearn: 0.4893767\ttotal: 2.27s\tremaining: 442ms\n",
      "837:\tlearn: 0.4893475\ttotal: 2.27s\tremaining: 440ms\n",
      "838:\tlearn: 0.4893187\ttotal: 2.28s\tremaining: 437ms\n",
      "839:\tlearn: 0.4892813\ttotal: 2.28s\tremaining: 434ms\n",
      "840:\tlearn: 0.4892489\ttotal: 2.28s\tremaining: 431ms\n",
      "841:\tlearn: 0.4892342\ttotal: 2.29s\tremaining: 429ms\n",
      "842:\tlearn: 0.4891949\ttotal: 2.29s\tremaining: 426ms\n",
      "843:\tlearn: 0.4891319\ttotal: 2.29s\tremaining: 423ms\n",
      "844:\tlearn: 0.4891166\ttotal: 2.29s\tremaining: 421ms\n",
      "845:\tlearn: 0.4890712\ttotal: 2.29s\tremaining: 418ms\n",
      "846:\tlearn: 0.4890627\ttotal: 2.3s\tremaining: 415ms\n",
      "847:\tlearn: 0.4890125\ttotal: 2.3s\tremaining: 412ms\n",
      "848:\tlearn: 0.4889618\ttotal: 2.3s\tremaining: 410ms\n",
      "849:\tlearn: 0.4889534\ttotal: 2.31s\tremaining: 407ms\n",
      "850:\tlearn: 0.4889181\ttotal: 2.31s\tremaining: 404ms\n",
      "851:\tlearn: 0.4888944\ttotal: 2.31s\tremaining: 401ms\n",
      "852:\tlearn: 0.4888717\ttotal: 2.31s\tremaining: 399ms\n",
      "853:\tlearn: 0.4888484\ttotal: 2.31s\tremaining: 396ms\n",
      "854:\tlearn: 0.4888146\ttotal: 2.32s\tremaining: 393ms\n",
      "855:\tlearn: 0.4887635\ttotal: 2.32s\tremaining: 390ms\n",
      "856:\tlearn: 0.4887320\ttotal: 2.32s\tremaining: 388ms\n",
      "857:\tlearn: 0.4886789\ttotal: 2.33s\tremaining: 385ms\n",
      "858:\tlearn: 0.4886454\ttotal: 2.33s\tremaining: 382ms\n",
      "859:\tlearn: 0.4886108\ttotal: 2.33s\tremaining: 380ms\n",
      "860:\tlearn: 0.4885756\ttotal: 2.33s\tremaining: 377ms\n",
      "861:\tlearn: 0.4885325\ttotal: 2.34s\tremaining: 374ms\n",
      "862:\tlearn: 0.4884659\ttotal: 2.34s\tremaining: 371ms\n",
      "863:\tlearn: 0.4884114\ttotal: 2.34s\tremaining: 369ms\n",
      "864:\tlearn: 0.4883685\ttotal: 2.34s\tremaining: 366ms\n",
      "865:\tlearn: 0.4883254\ttotal: 2.35s\tremaining: 363ms\n",
      "866:\tlearn: 0.4882876\ttotal: 2.35s\tremaining: 360ms\n",
      "867:\tlearn: 0.4882611\ttotal: 2.35s\tremaining: 358ms\n",
      "868:\tlearn: 0.4882175\ttotal: 2.35s\tremaining: 355ms\n",
      "869:\tlearn: 0.4881789\ttotal: 2.36s\tremaining: 352ms\n",
      "870:\tlearn: 0.4881437\ttotal: 2.36s\tremaining: 350ms\n",
      "871:\tlearn: 0.4881010\ttotal: 2.36s\tremaining: 347ms\n",
      "872:\tlearn: 0.4880683\ttotal: 2.37s\tremaining: 344ms\n",
      "873:\tlearn: 0.4880289\ttotal: 2.37s\tremaining: 341ms\n",
      "874:\tlearn: 0.4879707\ttotal: 2.37s\tremaining: 339ms\n",
      "875:\tlearn: 0.4879507\ttotal: 2.37s\tremaining: 336ms\n",
      "876:\tlearn: 0.4879151\ttotal: 2.38s\tremaining: 333ms\n",
      "877:\tlearn: 0.4878849\ttotal: 2.38s\tremaining: 330ms\n",
      "878:\tlearn: 0.4878458\ttotal: 2.38s\tremaining: 328ms\n",
      "879:\tlearn: 0.4878342\ttotal: 2.38s\tremaining: 325ms\n",
      "880:\tlearn: 0.4878169\ttotal: 2.38s\tremaining: 322ms\n",
      "881:\tlearn: 0.4877816\ttotal: 2.39s\tremaining: 320ms\n",
      "882:\tlearn: 0.4877460\ttotal: 2.39s\tremaining: 317ms\n",
      "883:\tlearn: 0.4877028\ttotal: 2.39s\tremaining: 314ms\n",
      "884:\tlearn: 0.4876717\ttotal: 2.4s\tremaining: 311ms\n",
      "885:\tlearn: 0.4876352\ttotal: 2.4s\tremaining: 309ms\n",
      "886:\tlearn: 0.4875992\ttotal: 2.4s\tremaining: 306ms\n",
      "887:\tlearn: 0.4875448\ttotal: 2.4s\tremaining: 303ms\n",
      "888:\tlearn: 0.4875160\ttotal: 2.41s\tremaining: 301ms\n",
      "889:\tlearn: 0.4874669\ttotal: 2.41s\tremaining: 298ms\n",
      "890:\tlearn: 0.4874530\ttotal: 2.41s\tremaining: 295ms\n",
      "891:\tlearn: 0.4874237\ttotal: 2.42s\tremaining: 292ms\n",
      "892:\tlearn: 0.4873870\ttotal: 2.42s\tremaining: 290ms\n",
      "893:\tlearn: 0.4873529\ttotal: 2.42s\tremaining: 287ms\n",
      "894:\tlearn: 0.4873345\ttotal: 2.42s\tremaining: 284ms\n",
      "895:\tlearn: 0.4873148\ttotal: 2.42s\tremaining: 282ms\n",
      "896:\tlearn: 0.4872669\ttotal: 2.43s\tremaining: 279ms\n",
      "897:\tlearn: 0.4872196\ttotal: 2.43s\tremaining: 276ms\n",
      "898:\tlearn: 0.4871886\ttotal: 2.43s\tremaining: 273ms\n",
      "899:\tlearn: 0.4871578\ttotal: 2.44s\tremaining: 271ms\n",
      "900:\tlearn: 0.4871441\ttotal: 2.44s\tremaining: 268ms\n",
      "901:\tlearn: 0.4871135\ttotal: 2.44s\tremaining: 265ms\n",
      "902:\tlearn: 0.4871008\ttotal: 2.44s\tremaining: 262ms\n",
      "903:\tlearn: 0.4870909\ttotal: 2.44s\tremaining: 260ms\n",
      "904:\tlearn: 0.4870689\ttotal: 2.45s\tremaining: 257ms\n",
      "905:\tlearn: 0.4870400\ttotal: 2.45s\tremaining: 254ms\n",
      "906:\tlearn: 0.4870230\ttotal: 2.45s\tremaining: 252ms\n",
      "907:\tlearn: 0.4869953\ttotal: 2.46s\tremaining: 249ms\n",
      "908:\tlearn: 0.4869441\ttotal: 2.46s\tremaining: 246ms\n",
      "909:\tlearn: 0.4869161\ttotal: 2.46s\tremaining: 243ms\n",
      "910:\tlearn: 0.4868683\ttotal: 2.46s\tremaining: 241ms\n",
      "911:\tlearn: 0.4868441\ttotal: 2.46s\tremaining: 238ms\n",
      "912:\tlearn: 0.4868150\ttotal: 2.47s\tremaining: 235ms\n",
      "913:\tlearn: 0.4867830\ttotal: 2.47s\tremaining: 232ms\n",
      "914:\tlearn: 0.4867430\ttotal: 2.47s\tremaining: 230ms\n",
      "915:\tlearn: 0.4866849\ttotal: 2.48s\tremaining: 227ms\n",
      "916:\tlearn: 0.4866654\ttotal: 2.48s\tremaining: 224ms\n",
      "917:\tlearn: 0.4866427\ttotal: 2.48s\tremaining: 222ms\n",
      "918:\tlearn: 0.4865940\ttotal: 2.48s\tremaining: 219ms\n",
      "919:\tlearn: 0.4865434\ttotal: 2.49s\tremaining: 216ms\n",
      "920:\tlearn: 0.4865016\ttotal: 2.49s\tremaining: 213ms\n",
      "921:\tlearn: 0.4864785\ttotal: 2.49s\tremaining: 211ms\n",
      "922:\tlearn: 0.4864550\ttotal: 2.49s\tremaining: 208ms\n",
      "923:\tlearn: 0.4864235\ttotal: 2.5s\tremaining: 205ms\n",
      "924:\tlearn: 0.4863940\ttotal: 2.5s\tremaining: 203ms\n",
      "925:\tlearn: 0.4863610\ttotal: 2.5s\tremaining: 200ms\n",
      "926:\tlearn: 0.4863246\ttotal: 2.5s\tremaining: 197ms\n",
      "927:\tlearn: 0.4863051\ttotal: 2.51s\tremaining: 195ms\n",
      "928:\tlearn: 0.4862776\ttotal: 2.51s\tremaining: 192ms\n",
      "929:\tlearn: 0.4862606\ttotal: 2.51s\tremaining: 189ms\n",
      "930:\tlearn: 0.4862177\ttotal: 2.52s\tremaining: 186ms\n",
      "931:\tlearn: 0.4861842\ttotal: 2.52s\tremaining: 184ms\n",
      "932:\tlearn: 0.4861496\ttotal: 2.52s\tremaining: 181ms\n",
      "933:\tlearn: 0.4861159\ttotal: 2.52s\tremaining: 178ms\n",
      "934:\tlearn: 0.4860877\ttotal: 2.52s\tremaining: 176ms\n",
      "935:\tlearn: 0.4860265\ttotal: 2.53s\tremaining: 173ms\n",
      "936:\tlearn: 0.4860067\ttotal: 2.53s\tremaining: 170ms\n",
      "937:\tlearn: 0.4859628\ttotal: 2.53s\tremaining: 167ms\n",
      "938:\tlearn: 0.4859152\ttotal: 2.54s\tremaining: 165ms\n",
      "939:\tlearn: 0.4858732\ttotal: 2.54s\tremaining: 162ms\n",
      "940:\tlearn: 0.4858534\ttotal: 2.54s\tremaining: 159ms\n",
      "941:\tlearn: 0.4858305\ttotal: 2.54s\tremaining: 157ms\n",
      "942:\tlearn: 0.4858153\ttotal: 2.55s\tremaining: 154ms\n",
      "943:\tlearn: 0.4857924\ttotal: 2.55s\tremaining: 151ms\n",
      "944:\tlearn: 0.4857744\ttotal: 2.55s\tremaining: 148ms\n",
      "945:\tlearn: 0.4857398\ttotal: 2.55s\tremaining: 146ms\n",
      "946:\tlearn: 0.4857136\ttotal: 2.56s\tremaining: 143ms\n",
      "947:\tlearn: 0.4856856\ttotal: 2.56s\tremaining: 140ms\n",
      "948:\tlearn: 0.4856526\ttotal: 2.56s\tremaining: 138ms\n",
      "949:\tlearn: 0.4856319\ttotal: 2.56s\tremaining: 135ms\n",
      "950:\tlearn: 0.4855868\ttotal: 2.57s\tremaining: 132ms\n",
      "951:\tlearn: 0.4855671\ttotal: 2.57s\tremaining: 130ms\n",
      "952:\tlearn: 0.4855476\ttotal: 2.57s\tremaining: 127ms\n",
      "953:\tlearn: 0.4855248\ttotal: 2.58s\tremaining: 124ms\n",
      "954:\tlearn: 0.4855068\ttotal: 2.58s\tremaining: 122ms\n",
      "955:\tlearn: 0.4854672\ttotal: 2.58s\tremaining: 119ms\n",
      "956:\tlearn: 0.4854332\ttotal: 2.58s\tremaining: 116ms\n",
      "957:\tlearn: 0.4853874\ttotal: 2.59s\tremaining: 113ms\n",
      "958:\tlearn: 0.4853576\ttotal: 2.59s\tremaining: 111ms\n",
      "959:\tlearn: 0.4853263\ttotal: 2.59s\tremaining: 108ms\n",
      "960:\tlearn: 0.4853105\ttotal: 2.59s\tremaining: 105ms\n",
      "961:\tlearn: 0.4852806\ttotal: 2.6s\tremaining: 103ms\n",
      "962:\tlearn: 0.4852387\ttotal: 2.6s\tremaining: 99.9ms\n",
      "963:\tlearn: 0.4852033\ttotal: 2.6s\tremaining: 97.2ms\n",
      "964:\tlearn: 0.4851481\ttotal: 2.6s\tremaining: 94.5ms\n",
      "965:\tlearn: 0.4851288\ttotal: 2.61s\tremaining: 91.8ms\n",
      "966:\tlearn: 0.4851038\ttotal: 2.61s\tremaining: 89.1ms\n",
      "967:\tlearn: 0.4850580\ttotal: 2.61s\tremaining: 86.4ms\n",
      "968:\tlearn: 0.4850294\ttotal: 2.62s\tremaining: 83.7ms\n",
      "969:\tlearn: 0.4849999\ttotal: 2.62s\tremaining: 81ms\n",
      "970:\tlearn: 0.4849764\ttotal: 2.62s\tremaining: 78.3ms\n",
      "971:\tlearn: 0.4849637\ttotal: 2.62s\tremaining: 75.6ms\n",
      "972:\tlearn: 0.4849332\ttotal: 2.63s\tremaining: 72.8ms\n",
      "973:\tlearn: 0.4849042\ttotal: 2.63s\tremaining: 70.1ms\n",
      "974:\tlearn: 0.4848666\ttotal: 2.63s\tremaining: 67.5ms\n",
      "975:\tlearn: 0.4848181\ttotal: 2.63s\tremaining: 64.8ms\n",
      "976:\tlearn: 0.4847761\ttotal: 2.63s\tremaining: 62.1ms\n",
      "977:\tlearn: 0.4847281\ttotal: 2.64s\tremaining: 59.4ms\n",
      "978:\tlearn: 0.4847051\ttotal: 2.64s\tremaining: 56.6ms\n",
      "979:\tlearn: 0.4846832\ttotal: 2.64s\tremaining: 53.9ms\n",
      "980:\tlearn: 0.4846706\ttotal: 2.65s\tremaining: 51.2ms\n",
      "981:\tlearn: 0.4846571\ttotal: 2.65s\tremaining: 48.5ms\n",
      "982:\tlearn: 0.4846262\ttotal: 2.65s\tremaining: 45.8ms\n",
      "983:\tlearn: 0.4846032\ttotal: 2.65s\tremaining: 43.2ms\n",
      "984:\tlearn: 0.4845829\ttotal: 2.66s\tremaining: 40.5ms\n",
      "985:\tlearn: 0.4845479\ttotal: 2.66s\tremaining: 37.8ms\n",
      "986:\tlearn: 0.4845108\ttotal: 2.66s\tremaining: 35.1ms\n",
      "987:\tlearn: 0.4844821\ttotal: 2.66s\tremaining: 32.4ms\n",
      "988:\tlearn: 0.4844531\ttotal: 2.67s\tremaining: 29.7ms\n",
      "989:\tlearn: 0.4844313\ttotal: 2.67s\tremaining: 27ms\n",
      "990:\tlearn: 0.4843971\ttotal: 2.67s\tremaining: 24.3ms\n",
      "991:\tlearn: 0.4843844\ttotal: 2.67s\tremaining: 21.6ms\n",
      "992:\tlearn: 0.4843642\ttotal: 2.68s\tremaining: 18.9ms\n",
      "993:\tlearn: 0.4843280\ttotal: 2.68s\tremaining: 16.2ms\n",
      "994:\tlearn: 0.4842917\ttotal: 2.68s\tremaining: 13.5ms\n",
      "995:\tlearn: 0.4842710\ttotal: 2.68s\tremaining: 10.8ms\n",
      "996:\tlearn: 0.4842461\ttotal: 2.69s\tremaining: 8.09ms\n",
      "997:\tlearn: 0.4842180\ttotal: 2.69s\tremaining: 5.39ms\n",
      "998:\tlearn: 0.4842019\ttotal: 2.69s\tremaining: 2.69ms\n",
      "999:\tlearn: 0.4841750\ttotal: 2.69s\tremaining: 0us\n"
     ]
    },
    {
     "data": {
      "text/plain": [
       "<catboost.core.CatBoostClassifier at 0x2b1c2c700>"
      ]
     },
     "execution_count": 49,
     "metadata": {},
     "output_type": "execute_result"
    }
   ],
   "source": [
    "from catboost import CatBoostClassifier, Pool\n",
    "\n",
    "# задаём имена колонок признаков и таргета\n",
    "features = ['als_score', 'tracks_listened', 'rating_avg']\n",
    "target = 'target'\n",
    "\n",
    "# создаём Pool\n",
    "train_data = Pool(\n",
    "    data=candidates_for_train[features], \n",
    "    label=candidates_for_train[target])\n",
    "\n",
    "# инициализируем модель CatBoostClassifier\n",
    "cb_model = CatBoostClassifier(\n",
    "    random_seed=0,\n",
    ")\n",
    "\n",
    "# тренируем модель\n",
    "cb_model.fit(train_data)"
   ]
  },
  {
   "cell_type": "code",
   "execution_count": 50,
   "id": "6dbe4db4-1ac5-44da-a13c-8e7f9768ab73",
   "metadata": {},
   "outputs": [],
   "source": [
    "inference_data = Pool(data=candidates_to_rank[features])\n",
    "predictions = cb_model.predict_proba(inference_data)"
   ]
  },
  {
   "cell_type": "code",
   "execution_count": 54,
   "id": "67afcf4e",
   "metadata": {},
   "outputs": [],
   "source": [
    "candidates_to_rank[\"cb_score\"] = predictions[:, 1]\n",
    "\n",
    "# для каждого пользователя проставляем rank, начиная с 1 — это максимальный cb_score\n",
    "candidates_to_rank = candidates_to_rank.sort_values([\"user_id\", \"cb_score\"], ascending=[True, False])\n",
    "candidates_to_rank[\"rank\"] = candidates_to_rank.groupby('user_id').cumcount() + 1\n",
    "\n",
    "max_recommendations_per_user = 100\n",
    "final_recommendations = candidates_to_rank.query(\"rank <= @max_recommendations_per_user\")"
   ]
  },
  {
   "cell_type": "code",
   "execution_count": 62,
   "id": "037c365f",
   "metadata": {},
   "outputs": [],
   "source": [
    "# Формирование списка файлов для удаления\n",
    "file_keys = []\n",
    "for key in s3.list_objects(Bucket=bucket_name)['Contents']:\n",
    "    if 'recsys' not in key['Key']:\n",
    "        file_keys.append(key['Key'])\n",
    "\n",
    "objects_to_delete = [{'Key': key} for key in file_keys]\n",
    "response = s3.delete_objects(Bucket=bucket_name, Delete={'Objects': objects_to_delete})"
   ]
  },
  {
   "cell_type": "code",
   "execution_count": 65,
   "id": "4c543926",
   "metadata": {},
   "outputs": [],
   "source": [
    "final_recommendations.to_parquet(\"recommendations.parquet\")\n"
   ]
  },
  {
   "cell_type": "code",
   "execution_count": 95,
   "id": "820f2b09",
   "metadata": {},
   "outputs": [
    {
     "data": {
      "text/html": [
       "<div>\n",
       "<style scoped>\n",
       "    .dataframe tbody tr th:only-of-type {\n",
       "        vertical-align: middle;\n",
       "    }\n",
       "\n",
       "    .dataframe tbody tr th {\n",
       "        vertical-align: top;\n",
       "    }\n",
       "\n",
       "    .dataframe thead th {\n",
       "        text-align: right;\n",
       "    }\n",
       "</style>\n",
       "<table border=\"1\" class=\"dataframe\">\n",
       "  <thead>\n",
       "    <tr style=\"text-align: right;\">\n",
       "      <th></th>\n",
       "      <th>user_id</th>\n",
       "      <th>track_id</th>\n",
       "      <th>als_score</th>\n",
       "      <th>tracks_listened</th>\n",
       "      <th>rating_avg</th>\n",
       "      <th>cb_score</th>\n",
       "      <th>rank</th>\n",
       "    </tr>\n",
       "  </thead>\n",
       "  <tbody>\n",
       "    <tr>\n",
       "      <th>8</th>\n",
       "      <td>3</td>\n",
       "      <td>5991</td>\n",
       "      <td>3.323734e-06</td>\n",
       "      <td>33.0</td>\n",
       "      <td>0.426530</td>\n",
       "      <td>0.437354</td>\n",
       "      <td>1</td>\n",
       "    </tr>\n",
       "    <tr>\n",
       "      <th>0</th>\n",
       "      <td>3</td>\n",
       "      <td>4203</td>\n",
       "      <td>2.540093e-05</td>\n",
       "      <td>33.0</td>\n",
       "      <td>0.426530</td>\n",
       "      <td>0.362762</td>\n",
       "      <td>2</td>\n",
       "    </tr>\n",
       "    <tr>\n",
       "      <th>73</th>\n",
       "      <td>3</td>\n",
       "      <td>3853</td>\n",
       "      <td>1.416903e-08</td>\n",
       "      <td>33.0</td>\n",
       "      <td>0.426530</td>\n",
       "      <td>0.291634</td>\n",
       "      <td>3</td>\n",
       "    </tr>\n",
       "    <tr>\n",
       "      <th>74</th>\n",
       "      <td>3</td>\n",
       "      <td>2420</td>\n",
       "      <td>1.402615e-08</td>\n",
       "      <td>33.0</td>\n",
       "      <td>0.426530</td>\n",
       "      <td>0.291634</td>\n",
       "      <td>4</td>\n",
       "    </tr>\n",
       "    <tr>\n",
       "      <th>99</th>\n",
       "      <td>3</td>\n",
       "      <td>43115</td>\n",
       "      <td>1.881525e-09</td>\n",
       "      <td>33.0</td>\n",
       "      <td>0.426530</td>\n",
       "      <td>0.284293</td>\n",
       "      <td>5</td>\n",
       "    </tr>\n",
       "    <tr>\n",
       "      <th>...</th>\n",
       "      <td>...</td>\n",
       "      <td>...</td>\n",
       "      <td>...</td>\n",
       "      <td>...</td>\n",
       "      <td>...</td>\n",
       "      <td>...</td>\n",
       "      <td>...</td>\n",
       "    </tr>\n",
       "    <tr>\n",
       "      <th>77878875</th>\n",
       "      <td>1374582</td>\n",
       "      <td>7786</td>\n",
       "      <td>8.971454e-05</td>\n",
       "      <td>252.0</td>\n",
       "      <td>0.236949</td>\n",
       "      <td>0.105233</td>\n",
       "      <td>96</td>\n",
       "    </tr>\n",
       "    <tr>\n",
       "      <th>77878876</th>\n",
       "      <td>1374582</td>\n",
       "      <td>861</td>\n",
       "      <td>8.840568e-05</td>\n",
       "      <td>252.0</td>\n",
       "      <td>0.236949</td>\n",
       "      <td>0.105233</td>\n",
       "      <td>97</td>\n",
       "    </tr>\n",
       "    <tr>\n",
       "      <th>77878889</th>\n",
       "      <td>1374582</td>\n",
       "      <td>81561</td>\n",
       "      <td>5.075739e-05</td>\n",
       "      <td>252.0</td>\n",
       "      <td>0.236949</td>\n",
       "      <td>0.103379</td>\n",
       "      <td>98</td>\n",
       "    </tr>\n",
       "    <tr>\n",
       "      <th>77878890</th>\n",
       "      <td>1374582</td>\n",
       "      <td>9288</td>\n",
       "      <td>5.025520e-05</td>\n",
       "      <td>252.0</td>\n",
       "      <td>0.236949</td>\n",
       "      <td>0.103379</td>\n",
       "      <td>99</td>\n",
       "    </tr>\n",
       "    <tr>\n",
       "      <th>77878891</th>\n",
       "      <td>1374582</td>\n",
       "      <td>8999</td>\n",
       "      <td>4.627387e-05</td>\n",
       "      <td>252.0</td>\n",
       "      <td>0.236949</td>\n",
       "      <td>0.086195</td>\n",
       "      <td>100</td>\n",
       "    </tr>\n",
       "  </tbody>\n",
       "</table>\n",
       "<p>77878900 rows × 7 columns</p>\n",
       "</div>"
      ],
      "text/plain": [
       "          user_id  track_id     als_score  tracks_listened  rating_avg  \\\n",
       "8               3      5991  3.323734e-06             33.0    0.426530   \n",
       "0               3      4203  2.540093e-05             33.0    0.426530   \n",
       "73              3      3853  1.416903e-08             33.0    0.426530   \n",
       "74              3      2420  1.402615e-08             33.0    0.426530   \n",
       "99              3     43115  1.881525e-09             33.0    0.426530   \n",
       "...           ...       ...           ...              ...         ...   \n",
       "77878875  1374582      7786  8.971454e-05            252.0    0.236949   \n",
       "77878876  1374582       861  8.840568e-05            252.0    0.236949   \n",
       "77878889  1374582     81561  5.075739e-05            252.0    0.236949   \n",
       "77878890  1374582      9288  5.025520e-05            252.0    0.236949   \n",
       "77878891  1374582      8999  4.627387e-05            252.0    0.236949   \n",
       "\n",
       "          cb_score  rank  \n",
       "8         0.437354     1  \n",
       "0         0.362762     2  \n",
       "73        0.291634     3  \n",
       "74        0.291634     4  \n",
       "99        0.284293     5  \n",
       "...            ...   ...  \n",
       "77878875  0.105233    96  \n",
       "77878876  0.105233    97  \n",
       "77878889  0.103379    98  \n",
       "77878890  0.103379    99  \n",
       "77878891  0.086195   100  \n",
       "\n",
       "[77878900 rows x 7 columns]"
      ]
     },
     "execution_count": 95,
     "metadata": {},
     "output_type": "execute_result"
    }
   ],
   "source": [
    "final_recommendations"
   ]
  },
  {
   "cell_type": "code",
   "execution_count": 68,
   "id": "94af6c37",
   "metadata": {},
   "outputs": [],
   "source": [
    "# Не удалось загрузить, так как закончилась выделенная память\n",
    "s3.upload_file('recommendations.parquet', bucket_name, 'recsys/recommendations/recommendations.parquet')"
   ]
  },
  {
   "cell_type": "markdown",
   "id": "b3c84071-45b5-4a15-a683-e0ab034a3128",
   "metadata": {},
   "source": [
    "# Оценка качества"
   ]
  },
  {
   "cell_type": "markdown",
   "id": "1b107fe4-554e-42b1-87d9-c435a52bb77a",
   "metadata": {},
   "source": [
    "Проверим оценку качества трёх типов рекомендаций: \n",
    "\n",
    "- топ популярных,\n",
    "- персональных, полученных при помощи ALS,\n",
    "- итоговых\n",
    "  \n",
    "по четырем метрикам: recall, precision, coverage, novelty."
   ]
  },
  {
   "cell_type": "markdown",
   "id": "03054f6d",
   "metadata": {},
   "source": [
    "### Расчёт Recall и Precision"
   ]
  },
  {
   "cell_type": "code",
   "execution_count": 12,
   "id": "241b801e",
   "metadata": {},
   "outputs": [],
   "source": [
    "def process_events_recs_for_binary_metrics(events_train, events_test, recs, top_k=None):\n",
    "\n",
    "    \"\"\"\n",
    "    размечает пары <user_id, item_id> для общего множества пользователей признаками\n",
    "    - gt (ground truth)\n",
    "    - pr (prediction)\n",
    "    top_k: расчёт ведётся только для top k-рекомендаций\n",
    "    \"\"\"\n",
    "\n",
    "    events_test[\"gt\"] = True\n",
    "    common_users = set(events_test[\"user_id\"]) & set(recs[\"user_id\"])\n",
    "\n",
    "    print(f\"Common users: {len(common_users)}\")\n",
    "    \n",
    "    events_for_common_users = events_test[events_test[\"user_id\"].isin(common_users)].copy()\n",
    "    recs_for_common_users = recs[recs[\"user_id\"].isin(common_users)].copy()\n",
    "\n",
    "    recs_for_common_users = recs_for_common_users.sort_values([\"user_id\", \"score\"], ascending=[True, False])\n",
    "\n",
    "    # оставляет только те item_id, которые были в events_train, \n",
    "    # т. к. модель не имела никакой возможности давать рекомендации для новых айтемов\n",
    "    events_for_common_users = events_for_common_users[events_for_common_users[\"item_id\"].isin(events_train[\"item_id\"].unique())]\n",
    "\n",
    "    if top_k is not None:\n",
    "        recs_for_common_users = recs_for_common_users.groupby(\"user_id\").head(top_k)\n",
    "    \n",
    "    events_recs_common = events_for_common_users[[\"user_id\", \"track_id\", \"gt\"]].merge(\n",
    "        recs_for_common_users[[\"user_id\", \"track_id\", \"score\"]], \n",
    "        on=[\"user_id\", \"track_id\"], how=\"outer\")    \n",
    "\n",
    "    events_recs_common[\"gt\"] = events_recs_common[\"gt\"].fillna(False)\n",
    "    events_recs_common[\"pr\"] = ~events_recs_common[\"score\"].isnull()\n",
    "    \n",
    "    events_recs_common[\"tp\"] = events_recs_common[\"gt\"] & events_recs_common[\"pr\"]\n",
    "    events_recs_common[\"fp\"] = ~events_recs_common[\"gt\"] & events_recs_common[\"pr\"]\n",
    "    events_recs_common[\"fn\"] = events_recs_common[\"gt\"] & ~events_recs_common[\"pr\"]\n",
    "\n",
    "    return events_recs_common"
   ]
  },
  {
   "cell_type": "code",
   "execution_count": 85,
   "id": "b985c895",
   "metadata": {},
   "outputs": [
    {
     "name": "stderr",
     "output_type": "stream",
     "text": [
      "/var/folders/_9/njpbnqcd29b4jbb06jpr0wgr0000gn/T/ipykernel_60576/2198150141.py:10: SettingWithCopyWarning: \n",
      "A value is trying to be set on a copy of a slice from a DataFrame.\n",
      "Try using .loc[row_indexer,col_indexer] = value instead\n",
      "\n",
      "See the caveats in the documentation: https://pandas.pydata.org/pandas-docs/stable/user_guide/indexing.html#returning-a-view-versus-a-copy\n",
      "  events_test[\"gt\"] = True\n"
     ]
    },
    {
     "name": "stdout",
     "output_type": "stream",
     "text": [
      "Common users: 778789\n"
     ]
    }
   ],
   "source": [
    "# для ALS\n",
    "events_recs_for_binary_metrics_als = process_events_recs_for_binary_metrics(\n",
    "  events_train,\n",
    "    events_test, \n",
    "    als_recommendations, \n",
    "    top_k=100) "
   ]
  },
  {
   "cell_type": "code",
   "execution_count": 86,
   "id": "2fb9243d",
   "metadata": {},
   "outputs": [
    {
     "data": {
      "text/plain": [
       "(5.805166739643216e-05, 0.00048152820915601505)"
      ]
     },
     "execution_count": 86,
     "metadata": {},
     "output_type": "execute_result"
    }
   ],
   "source": [
    "def compute_cls_metrics(events_recs_for_binary_metric):\n",
    "    \n",
    "    groupper = events_recs_for_binary_metric.groupby(\"user_id\")\n",
    "\n",
    "    # precision = tp / (tp + fp)\n",
    "    precision = groupper[\"tp\"].sum()/(groupper[\"tp\"].sum()+groupper[\"fp\"].sum())\n",
    "    precision = precision.fillna(0).mean()\n",
    "    \n",
    "    # recall = tp / (tp + fn)\n",
    "    recall = groupper[\"tp\"].sum()/(groupper[\"tp\"].sum()+groupper[\"fn\"].sum())\n",
    "    recall = recall.fillna(0).mean()\n",
    "\n",
    "    return precision, recall\n",
    "\n",
    "# Получаем precision@100 и recall@100 для als\n",
    "compute_cls_metrics(events_recs_for_binary_metrics_als)"
   ]
  },
  {
   "cell_type": "markdown",
   "id": "88e086fd",
   "metadata": {},
   "source": [
    "<b>Комментарий от ревьюера v1</b>\n",
    "\n",
    "<div class=\"alert alert-warning\">\n",
    "\n",
    "⚠️ Метрики выглядят достаточно небольшими. Возможно где-то закралась ошибка.\\\n",
    "Стоит проверить чему будут равны метрики для случайной рекомендации.\n",
    "\n",
    "</div>"
   ]
  },
  {
   "cell_type": "code",
   "execution_count": 13,
   "id": "1caa2cc7",
   "metadata": {},
   "outputs": [
    {
     "name": "stderr",
     "output_type": "stream",
     "text": [
      "/var/folders/_9/njpbnqcd29b4jbb06jpr0wgr0000gn/T/ipykernel_73073/2198150141.py:10: SettingWithCopyWarning: \n",
      "A value is trying to be set on a copy of a slice from a DataFrame.\n",
      "Try using .loc[row_indexer,col_indexer] = value instead\n",
      "\n",
      "See the caveats in the documentation: https://pandas.pydata.org/pandas-docs/stable/user_guide/indexing.html#returning-a-view-versus-a-copy\n",
      "  events_test[\"gt\"] = True\n"
     ]
    },
    {
     "name": "stdout",
     "output_type": "stream",
     "text": [
      "Common users: 778789\n"
     ]
    }
   ],
   "source": [
    "events_recs_for_binary_metrics_top = process_events_recs_for_binary_metrics(\n",
    "  events_train,\n",
    "    events_test, \n",
    "    events_test[['user_id']].drop_duplicates().merge(top_popular[['track_id','score']], how='cross'), # для каждого юзера подбираем 100 популярных треков\n",
    "    top_k=100)"
   ]
  },
  {
   "cell_type": "code",
   "execution_count": 15,
   "id": "2c832918",
   "metadata": {},
   "outputs": [
    {
     "data": {
      "text/plain": [
       "(0.004522341738262868, 0.03424776794444274)"
      ]
     },
     "execution_count": 15,
     "metadata": {},
     "output_type": "execute_result"
    }
   ],
   "source": [
    "def compute_cls_metrics(events_recs_for_binary_metric):\n",
    "    \n",
    "    groupper = events_recs_for_binary_metric.groupby(\"user_id\")\n",
    "\n",
    "    # precision = tp / (tp + fp)\n",
    "    precision = groupper[\"tp\"].sum()/(groupper[\"tp\"].sum()+groupper[\"fp\"].sum())\n",
    "    precision = precision.fillna(0).mean()\n",
    "    \n",
    "    # recall = tp / (tp + fn)\n",
    "    recall = groupper[\"tp\"].sum()/(groupper[\"tp\"].sum()+groupper[\"fn\"].sum())\n",
    "    recall = recall.fillna(0).mean()\n",
    "\n",
    "    return precision, recall\n",
    "\n",
    "# Получаем precision@100 и recall@100 для top-100\n",
    "compute_cls_metrics(events_recs_for_binary_metrics_top)"
   ]
  },
  {
   "cell_type": "code",
   "execution_count": 97,
   "id": "106cee8a",
   "metadata": {},
   "outputs": [
    {
     "name": "stdout",
     "output_type": "stream",
     "text": [
      "Common users: 567159\n"
     ]
    },
    {
     "data": {
      "text/plain": [
       "(1.5798038997882428e-05, 0.00033463207193339134)"
      ]
     },
     "execution_count": 97,
     "metadata": {},
     "output_type": "execute_result"
    }
   ],
   "source": [
    "events_inference = pd.concat([events_train, events_labels])\n",
    "events_inference = events_inference[events_inference[\"user_id\"].isin(events_test_2[\"user_id\"].drop_duplicates())]\n",
    "\n",
    "cb_events_recs_for_binary_metrics_rank = process_events_recs_for_binary_metrics(\n",
    "    events_inference,\n",
    "    events_test_2,\n",
    "    final_recommendations.rename(columns={\"cb_score\": \"score\"}), \n",
    "    top_k=100)\n",
    "\n",
    "# Получаем precision@100 и recall@100 для ранжированной модели\n",
    "compute_cls_metrics(cb_events_recs_for_binary_metrics_rank)"
   ]
  },
  {
   "cell_type": "markdown",
   "id": "1bb89a0c",
   "metadata": {},
   "source": [
    "### Coverage"
   ]
  },
  {
   "cell_type": "code",
   "execution_count": 105,
   "id": "fc2d7016",
   "metadata": {},
   "outputs": [
    {
     "name": "stdout",
     "output_type": "stream",
     "text": [
      "0.0002\n"
     ]
    }
   ],
   "source": [
    "# расчёт покрытия по объектам топ-100\n",
    "cov_items = 100 / events_test['item_id'].nunique()\n",
    "print(f\"{cov_items:.4f}\") "
   ]
  },
  {
   "cell_type": "code",
   "execution_count": 104,
   "id": "0568d4b7",
   "metadata": {},
   "outputs": [
    {
     "name": "stdout",
     "output_type": "stream",
     "text": [
      "0.0013\n"
     ]
    }
   ],
   "source": [
    "# расчёт покрытия по объектам ALS\n",
    "cov_items = als_recommendations['track_id'].nunique() / events_test['item_id'].nunique()\n",
    "print(f\"{cov_items:.4f}\") "
   ]
  },
  {
   "cell_type": "code",
   "execution_count": 107,
   "id": "64c27972",
   "metadata": {},
   "outputs": [
    {
     "name": "stdout",
     "output_type": "stream",
     "text": [
      "0.0019\n"
     ]
    }
   ],
   "source": [
    "# расчёт покрытия по объектам Rank\n",
    "cov_items = final_recommendations['track_id'].nunique() / events_test_2['item_id'].nunique()\n",
    "print(f\"{cov_items:.4f}\") "
   ]
  },
  {
   "cell_type": "markdown",
   "id": "52d7f69a",
   "metadata": {},
   "source": [
    "### Novelty"
   ]
  },
  {
   "cell_type": "markdown",
   "id": "4915311a",
   "metadata": {},
   "source": [
    "Новизна для ALS и Rank будет равна 1, так как при обучении модели ALS был выбран параметр \"не предлагать прослушенные треки\""
   ]
  },
  {
   "cell_type": "code",
   "execution_count": 8,
   "id": "67e2c39a",
   "metadata": {},
   "outputs": [
    {
     "name": "stderr",
     "output_type": "stream",
     "text": [
      "/var/folders/_9/njpbnqcd29b4jbb06jpr0wgr0000gn/T/ipykernel_73073/2660071246.py:1: SettingWithCopyWarning: \n",
      "A value is trying to be set on a copy of a slice from a DataFrame.\n",
      "Try using .loc[row_indexer,col_indexer] = value instead\n",
      "\n",
      "See the caveats in the documentation: https://pandas.pydata.org/pandas-docs/stable/user_guide/indexing.html#returning-a-view-versus-a-copy\n",
      "  events_train[\"listened\"] = True\n"
     ]
    },
    {
     "data": {
      "text/plain": [
       "0.9543987969601926"
      ]
     },
     "execution_count": 8,
     "metadata": {},
     "output_type": "execute_result"
    }
   ],
   "source": [
    "# Посчитаем новизну для рекомендаций топ-100 треков\n",
    "events_train[\"listened\"] = True\n",
    "top_novelty = events_train[['user_id']].drop_duplicates().merge(top_popular[['track_id','score']], how='cross').merge(events_train, on=['user_id', 'track_id'], how='left')\n",
    "top_novelty[\"listened\"] = top_novelty[\"listened\"].fillna(False).astype(\"bool\")\n",
    "\n",
    "# посчитаем novelty по пользователям\n",
    "novelty = (1-top_novelty.groupby(\"user_id\")[\"listened\"].mean())\n",
    "\n",
    "# посчитаем средний novelty\n",
    "novelty.mean()"
   ]
  },
  {
   "cell_type": "markdown",
   "id": "f1c8d38c-32b0-46a4-96f0-cd01dac708bc",
   "metadata": {},
   "source": [
    "# === Выводы, метрики ==="
   ]
  },
  {
   "cell_type": "markdown",
   "id": "f7d7d5d8-7d1e-4fdf-a6cd-83e5ce92c684",
   "metadata": {},
   "source": [
    "В ходе работы были рассмотрены и оценены три вида рекомендаций:\n",
    "- топ-100 рекомендаций\n",
    "- ALS\n",
    "- Ранжирующая модель с использованием результатов ALS и дополнительных признаков пользователей"
   ]
  },
  {
   "cell_type": "markdown",
   "id": "c11ce384",
   "metadata": {},
   "source": [
    "#### ТОП-100\n",
    "Recall@100: 0.0342\n",
    "\n",
    "Precision@100: 0.0045\n",
    "\n",
    "Coverage: 0.0002\n",
    "\n",
    "Novelty 0.954\n",
    "\n",
    "Метрики классификации Precision и Recall более высокие относительно других, Coverage ожидаемо низкий, так как 100 треков - это лишь малая доля всех доступных треков. Novelty получился достаточно высоким."
   ]
  },
  {
   "cell_type": "markdown",
   "id": "0ede2981",
   "metadata": {},
   "source": [
    "#### ALS\n",
    "Recall@100: 0.0005\n",
    "\n",
    "Precision@100: 0.00005\n",
    "\n",
    "Coverage: 0.0013\n",
    "\n",
    "Novelty: 1\n",
    "\n",
    "Метрики классификации Precision и Recall оказались гораздо ниже по сравнению с базовыми топ-100 рекомендациями. Coverage на порядок выше относительно топ-100. Novelty получился равным 1, так как при построении модели был использован параметр, который позволяет не рекомендовать треки, которые уже были прослушаны."
   ]
  },
  {
   "cell_type": "markdown",
   "id": "8299a14e",
   "metadata": {},
   "source": [
    "#### Rank\n",
    "Recall@100: 0.0003\n",
    "\n",
    "Precision@100: 0.00001\n",
    "\n",
    "Coverage: 0.0019\n",
    "\n",
    "Novelty: 1\n",
    "\n",
    "Метрики классификации Precision и Recall оказались гораздо ниже по сравнению с базовыми топ-100 рекомендациями. Coverage на порядок выше относительно топ-100, получилось увеличить этот показатель относительно ALS с помощью Rank модели. Novelty получился равным 1, так как при построении модели был использован параметр, который позволяет не рекомендовать треки, которые уже были прослушаны."
   ]
  },
  {
   "cell_type": "markdown",
   "id": "ee72dad0",
   "metadata": {},
   "source": [
    "<b>Комментарий от ревьюера v1</b>\n",
    "\n",
    "\n",
    "    \n",
    "# Общий вывод\n",
    "<div class=\"alert alert-block alert-success\">\n",
    "\n",
    "Спасибо за работу, у тебя получился хороший проект. Удалось протестировать различные алгоритмы для формирования рекомендаций. \n",
    "Есть небольшие замечания. Просьба ознакомиться с ними и учитывать в дальнейшей работе.\n",
    "Так как ты долго ждал и проверка затянулась по техническим причинам, я готов принять твой проект.\n",
    "Если у тебя нет ко мне вопросов - отправляй проект обратно и я его приму!\n",
    "\n",
    "Если есть вопросы или желание улучшить твой проект - оставь вопросы комментарии после этой ячейки. Постараюсь тебе помочь с ответами и улучшением твоего проекта!\n",
    "</div>\n"
   ]
  },
  {
   "cell_type": "markdown",
   "id": "54394812",
   "metadata": {},
   "source": [
    "<div class=\"alert alert-block alert-info\">\n",
    "<b>Артем, большое спасибо за проверку! Замечания учту)</b> \n",
    "</div>"
   ]
  }
 ],
 "metadata": {
  "kernelspec": {
   "display_name": "Python 3 (ipykernel)",
   "language": "python",
   "name": "python3"
  },
  "language_info": {
   "codemirror_mode": {
    "name": "ipython",
    "version": 3
   },
   "file_extension": ".py",
   "mimetype": "text/x-python",
   "name": "python",
   "nbconvert_exporter": "python",
   "pygments_lexer": "ipython3",
   "version": "3.10.0"
  }
 },
 "nbformat": 4,
 "nbformat_minor": 5
}
